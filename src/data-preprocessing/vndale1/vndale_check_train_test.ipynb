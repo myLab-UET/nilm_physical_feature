{
 "cells": [
  {
   "cell_type": "code",
   "execution_count": 1,
   "metadata": {},
   "outputs": [],
   "source": [
    "import pandas as pd\n",
    "import polars as pl\n",
    "import numpy as np\n",
    "from nilm_dao import get_vndale1_data, get_label_encoder\n",
    "from utils import count_labels"
   ]
  },
  {
   "cell_type": "code",
   "execution_count": 2,
   "metadata": {},
   "outputs": [
    {
     "data": {
      "text/plain": [
       "array(['0', '1', '1,2', '1,2,3', '1,2,3,4', '1,2,3,4,5', '1,2,3,4,5,6',\n",
       "       '1,2,3,4,5,6,7', '1,2,3,4,5,7', '1,2,3,4,6', '1,2,3,4,6,7',\n",
       "       '1,2,3,4,7', '1,2,3,5', '1,2,3,5,6', '1,2,3,5,6,7', '1,2,3,5,7',\n",
       "       '1,2,3,6', '1,2,3,6,7', '1,2,3,7', '1,2,4', '1,2,4,5', '1,2,4,5,6',\n",
       "       '1,2,4,5,6,7', '1,2,4,5,7', '1,2,4,6', '1,2,4,6,7', '1,2,4,7',\n",
       "       '1,2,5', '1,2,5,6', '1,2,5,6,7', '1,2,5,7', '1,2,6', '1,2,6,7',\n",
       "       '1,2,7', '1,3', '1,3,4', '1,3,4,5', '1,3,4,5,6', '1,3,4,5,6,7',\n",
       "       '1,3,4,5,7', '1,3,4,6', '1,3,4,6,7', '1,3,4,7', '1,3,5', '1,3,5,6',\n",
       "       '1,3,5,6,7', '1,3,5,7', '1,3,6', '1,3,6,7', '1,3,7', '1,4',\n",
       "       '1,4,5', '1,4,5,6', '1,4,5,6,7', '1,4,5,7', '1,4,6', '1,4,6,7',\n",
       "       '1,4,7', '1,5', '1,5,6', '1,5,6,7', '1,5,7', '1,6', '1,6,7', '1,7',\n",
       "       '2', '2,3', '2,3,4', '2,3,4,5', '2,3,4,5,6', '2,3,4,5,6,7',\n",
       "       '2,3,4,5,7', '2,3,4,6', '2,3,4,6,7', '2,3,4,7', '2,3,5', '2,3,5,6',\n",
       "       '2,3,5,6,7', '2,3,5,7', '2,3,6', '2,3,6,7', '2,3,7', '2,4',\n",
       "       '2,4,5', '2,4,5,6', '2,4,5,6,7', '2,4,5,7', '2,4,6', '2,4,6,7',\n",
       "       '2,4,7', '2,5', '2,5,6', '2,5,6,7', '2,5,7', '2,6', '2,6,7', '2,7',\n",
       "       '3', '3,4', '3,4,5', '3,4,5,6', '3,4,5,6,7', '3,4,5,7', '3,4,6',\n",
       "       '3,4,6,7', '3,4,7', '3,5', '3,5,6', '3,5,6,7', '3,5,7', '3,6',\n",
       "       '3,6,7', '3,7', '4', '4,5', '4,5,6', '4,5,6,7', '4,5,7', '4,6',\n",
       "       '4,6,7', '4,7', '5', '5,6', '5,6,7', '5,7', '6', '6,7', '7'],\n",
       "      dtype=object)"
      ]
     },
     "execution_count": 2,
     "metadata": {},
     "output_type": "execute_result"
    }
   ],
   "source": [
    "label_encoder = get_label_encoder(\"vndale1\")\n",
    "label_encoder.classes_"
   ]
  },
  {
   "cell_type": "code",
   "execution_count": 2,
   "metadata": {},
   "outputs": [
    {
     "name": "stderr",
     "output_type": "stream",
     "text": [
      "Getting train data - window size: 1800:   0%|          | 0/128 [00:00<?, ?it/s]"
     ]
    },
    {
     "name": "stderr",
     "output_type": "stream",
     "text": [
      "Getting train data - window size: 1800:  35%|███▌      | 45/128 [00:20<00:37,  2.22it/s]\n"
     ]
    },
    {
     "ename": "KeyboardInterrupt",
     "evalue": "",
     "output_type": "error",
     "traceback": [
      "\u001b[0;31m---------------------------------------------------------------------------\u001b[0m",
      "\u001b[0;31mKeyboardInterrupt\u001b[0m                         Traceback (most recent call last)",
      "\u001b[0;32m/tmp/ipykernel_2146311/2252845435.py\u001b[0m in \u001b[0;36m?\u001b[0;34m()\u001b[0m\n\u001b[0;32m----> 1\u001b[0;31m \u001b[0mtrain_df\u001b[0m \u001b[0;34m=\u001b[0m \u001b[0mget_vndale1_data\u001b[0m\u001b[0;34m(\u001b[0m\u001b[0;34m\"train\"\u001b[0m\u001b[0;34m,\u001b[0m \u001b[0mrms_window_size\u001b[0m\u001b[0;34m=\u001b[0m\u001b[0;36m1800\u001b[0m\u001b[0;34m)\u001b[0m\u001b[0;34m\u001b[0m\u001b[0;34m\u001b[0m\u001b[0m\n\u001b[0m\u001b[1;32m      2\u001b[0m \u001b[0mval_df\u001b[0m \u001b[0;34m=\u001b[0m \u001b[0mget_vndale1_data\u001b[0m\u001b[0;34m(\u001b[0m\u001b[0;34m\"val\"\u001b[0m\u001b[0;34m,\u001b[0m \u001b[0mrms_window_size\u001b[0m\u001b[0;34m=\u001b[0m\u001b[0;36m1800\u001b[0m\u001b[0;34m)\u001b[0m\u001b[0;34m\u001b[0m\u001b[0;34m\u001b[0m\u001b[0m\n\u001b[1;32m      3\u001b[0m \u001b[0mtest_df\u001b[0m \u001b[0;34m=\u001b[0m \u001b[0mget_vndale1_data\u001b[0m\u001b[0;34m(\u001b[0m\u001b[0;34m\"test\"\u001b[0m\u001b[0;34m,\u001b[0m \u001b[0mrms_window_size\u001b[0m\u001b[0;34m=\u001b[0m\u001b[0;36m1800\u001b[0m\u001b[0;34m)\u001b[0m\u001b[0;34m\u001b[0m\u001b[0;34m\u001b[0m\u001b[0m\n",
      "\u001b[0;32m~/Code/mylab-nilm-files/nilm-physical-features/src/common/nilm_dao.py\u001b[0m in \u001b[0;36m?\u001b[0;34m(data_type, rms_window_size, is_norm)\u001b[0m\n\u001b[1;32m     46\u001b[0m             \u001b[0mdata_df\u001b[0m \u001b[0;34m=\u001b[0m \u001b[0mpl\u001b[0m\u001b[0;34m.\u001b[0m\u001b[0mread_csv\u001b[0m\u001b[0;34m(\u001b[0m\u001b[0;34mf\"\u001b[0m\u001b[0;34m{\u001b[0m\u001b[0mpath\u001b[0m\u001b[0;34m}\u001b[0m\u001b[0;34m/\u001b[0m\u001b[0;34m{\u001b[0m\u001b[0mcsv_file\u001b[0m\u001b[0;34m}\u001b[0m\u001b[0;34m\"\u001b[0m\u001b[0;34m)\u001b[0m\u001b[0;34m\u001b[0m\u001b[0;34m\u001b[0m\u001b[0m\n\u001b[1;32m     47\u001b[0m             \u001b[0;32mif\u001b[0m \u001b[0mall_data_df\u001b[0m \u001b[0;32mis\u001b[0m \u001b[0;32mNone\u001b[0m\u001b[0;34m:\u001b[0m\u001b[0;34m\u001b[0m\u001b[0;34m\u001b[0m\u001b[0m\n\u001b[1;32m     48\u001b[0m                 \u001b[0mall_data_df\u001b[0m \u001b[0;34m=\u001b[0m \u001b[0mdata_df\u001b[0m\u001b[0;34m\u001b[0m\u001b[0;34m\u001b[0m\u001b[0m\n\u001b[1;32m     49\u001b[0m             \u001b[0;32melse\u001b[0m\u001b[0;34m:\u001b[0m\u001b[0;34m\u001b[0m\u001b[0;34m\u001b[0m\u001b[0m\n\u001b[0;32m---> 50\u001b[0;31m                 \u001b[0mall_data_df\u001b[0m \u001b[0;34m=\u001b[0m \u001b[0mpl\u001b[0m\u001b[0;34m.\u001b[0m\u001b[0mconcat\u001b[0m\u001b[0;34m(\u001b[0m\u001b[0;34m[\u001b[0m\u001b[0mall_data_df\u001b[0m\u001b[0;34m,\u001b[0m \u001b[0mdata_df\u001b[0m\u001b[0;34m]\u001b[0m\u001b[0;34m,\u001b[0m \u001b[0mhow\u001b[0m\u001b[0;34m=\u001b[0m\u001b[0;34m\"vertical\"\u001b[0m\u001b[0;34m)\u001b[0m\u001b[0;34m\u001b[0m\u001b[0;34m\u001b[0m\u001b[0m\n\u001b[0m\u001b[1;32m     51\u001b[0m     \u001b[0;32mif\u001b[0m \u001b[0mis_norm\u001b[0m\u001b[0;34m:\u001b[0m\u001b[0;34m\u001b[0m\u001b[0;34m\u001b[0m\u001b[0m\n\u001b[1;32m     52\u001b[0m         \u001b[0mscaler\u001b[0m \u001b[0;34m=\u001b[0m \u001b[0mload\u001b[0m\u001b[0;34m(\u001b[0m\u001b[0;34mf\"\u001b[0m\u001b[0;34m{\u001b[0m\u001b[0mVNDALE1_PATH\u001b[0m\u001b[0;34m}\u001b[0m\u001b[0;34m/data_information/scaler.joblib\u001b[0m\u001b[0;34m\"\u001b[0m\u001b[0;34m)\u001b[0m\u001b[0;34m\u001b[0m\u001b[0;34m\u001b[0m\u001b[0m\n\u001b[1;32m     53\u001b[0m         \u001b[0mfeatures\u001b[0m \u001b[0;34m=\u001b[0m \u001b[0mall_data_df\u001b[0m\u001b[0;34m.\u001b[0m\u001b[0mselect\u001b[0m\u001b[0;34m(\u001b[0m\u001b[0;34m[\u001b[0m\u001b[0;34m'In'\u001b[0m\u001b[0;34m,\u001b[0m \u001b[0;34m'Un'\u001b[0m\u001b[0;34m,\u001b[0m \u001b[0;34m'PF_n'\u001b[0m\u001b[0;34m,\u001b[0m \u001b[0;34m\"Irms\"\u001b[0m\u001b[0;34m,\u001b[0m \u001b[0;34m\"Urms\"\u001b[0m\u001b[0;34m,\u001b[0m \u001b[0;34m\"MeanPF\"\u001b[0m\u001b[0;34m,\u001b[0m \u001b[0;34m'P'\u001b[0m\u001b[0;34m,\u001b[0m \u001b[0;34m'Q'\u001b[0m\u001b[0;34m,\u001b[0m \u001b[0;34m'S'\u001b[0m\u001b[0;34m]\u001b[0m\u001b[0;34m)\u001b[0m\u001b[0;34m.\u001b[0m\u001b[0mto_numpy\u001b[0m\u001b[0;34m(\u001b[0m\u001b[0;34m)\u001b[0m\u001b[0;34m\u001b[0m\u001b[0;34m\u001b[0m\u001b[0m\n",
      "\u001b[0;32m/opt/miniconda3/envs/mylab-nilm-env/lib/python3.12/site-packages/polars/functions/eager.py\u001b[0m in \u001b[0;36m?\u001b[0;34m(items, how, rechunk, parallel)\u001b[0m\n\u001b[1;32m    254\u001b[0m         \u001b[0mmsg\u001b[0m \u001b[0;34m=\u001b[0m \u001b[0;34mf\"\u001b[0m\u001b[0;34mdid not expect type: \u001b[0m\u001b[0;34m{\u001b[0m\u001b[0mtype\u001b[0m\u001b[0;34m(\u001b[0m\u001b[0mfirst\u001b[0m\u001b[0;34m)\u001b[0m\u001b[0;34m.\u001b[0m\u001b[0m__name__\u001b[0m\u001b[0;34m!\u001b[0m\u001b[0mr\u001b[0m\u001b[0;34m}\u001b[0m\u001b[0;34m in `concat`\u001b[0m\u001b[0;34m\"\u001b[0m\u001b[0;34m\u001b[0m\u001b[0;34m\u001b[0m\u001b[0m\n\u001b[1;32m    255\u001b[0m         \u001b[0;32mraise\u001b[0m \u001b[0mTypeError\u001b[0m\u001b[0;34m(\u001b[0m\u001b[0mmsg\u001b[0m\u001b[0;34m)\u001b[0m\u001b[0;34m\u001b[0m\u001b[0;34m\u001b[0m\u001b[0m\n\u001b[1;32m    256\u001b[0m \u001b[0;34m\u001b[0m\u001b[0m\n\u001b[1;32m    257\u001b[0m     \u001b[0;32mif\u001b[0m \u001b[0mrechunk\u001b[0m\u001b[0;34m:\u001b[0m\u001b[0;34m\u001b[0m\u001b[0;34m\u001b[0m\u001b[0m\n\u001b[0;32m--> 258\u001b[0;31m         \u001b[0;32mreturn\u001b[0m \u001b[0mout\u001b[0m\u001b[0;34m.\u001b[0m\u001b[0mrechunk\u001b[0m\u001b[0;34m(\u001b[0m\u001b[0;34m)\u001b[0m\u001b[0;34m\u001b[0m\u001b[0;34m\u001b[0m\u001b[0m\n\u001b[0m\u001b[1;32m    259\u001b[0m     \u001b[0;32mreturn\u001b[0m \u001b[0mout\u001b[0m\u001b[0;34m\u001b[0m\u001b[0;34m\u001b[0m\u001b[0m\n",
      "\u001b[0;32m/opt/miniconda3/envs/mylab-nilm-env/lib/python3.12/site-packages/polars/dataframe/frame.py\u001b[0m in \u001b[0;36m?\u001b[0;34m(self)\u001b[0m\n\u001b[1;32m   9249\u001b[0m \u001b[0;34m\u001b[0m\u001b[0m\n\u001b[1;32m   9250\u001b[0m         \u001b[0mThis\u001b[0m \u001b[0mwill\u001b[0m \u001b[0mmake\u001b[0m \u001b[0msure\u001b[0m \u001b[0mall\u001b[0m \u001b[0msubsequent\u001b[0m \u001b[0moperations\u001b[0m \u001b[0mhave\u001b[0m \u001b[0moptimal\u001b[0m \u001b[0;32mand\u001b[0m \u001b[0mpredictable\u001b[0m\u001b[0;34m\u001b[0m\u001b[0;34m\u001b[0m\u001b[0m\n\u001b[1;32m   9251\u001b[0m         \u001b[0mperformance\u001b[0m\u001b[0;34m.\u001b[0m\u001b[0;34m\u001b[0m\u001b[0;34m\u001b[0m\u001b[0m\n\u001b[1;32m   9252\u001b[0m         \"\"\"\n\u001b[0;32m-> 9253\u001b[0;31m         \u001b[0;32mreturn\u001b[0m \u001b[0mself\u001b[0m\u001b[0;34m.\u001b[0m\u001b[0m_from_pydf\u001b[0m\u001b[0;34m(\u001b[0m\u001b[0mself\u001b[0m\u001b[0;34m.\u001b[0m\u001b[0m_df\u001b[0m\u001b[0;34m.\u001b[0m\u001b[0mrechunk\u001b[0m\u001b[0;34m(\u001b[0m\u001b[0;34m)\u001b[0m\u001b[0;34m)\u001b[0m\u001b[0;34m\u001b[0m\u001b[0;34m\u001b[0m\u001b[0m\n\u001b[0m",
      "\u001b[0;31mKeyboardInterrupt\u001b[0m: "
     ]
    }
   ],
   "source": [
    "train_df = get_vndale1_data(\"train\", rms_window_size=1800)\n",
    "val_df = get_vndale1_data(\"val\", rms_window_size=1800)\n",
    "test_df = get_vndale1_data(\"test\", rms_window_size=1800) "
   ]
  },
  {
   "cell_type": "code",
   "execution_count": 4,
   "metadata": {},
   "outputs": [
    {
     "name": "stdout",
     "output_type": "stream",
     "text": [
      "(64090800, 11)\n"
     ]
    },
    {
     "data": {
      "text/html": [
       "<div><style>\n",
       ".dataframe > thead > tr,\n",
       ".dataframe > tbody > tr {\n",
       "  text-align: right;\n",
       "  white-space: pre-wrap;\n",
       "}\n",
       "</style>\n",
       "<small>shape: (5, 11)</small><table border=\"1\" class=\"dataframe\"><thead><tr><th>Time</th><th>In</th><th>Un</th><th>PF_n</th><th>Irms</th><th>Urms</th><th>MeanPF</th><th>P</th><th>Q</th><th>S</th><th>Label</th></tr><tr><td>str</td><td>f64</td><td>f64</td><td>f64</td><td>f64</td><td>f64</td><td>f64</td><td>f64</td><td>f64</td><td>f64</td><td>i64</td></tr></thead><tbody><tr><td>&quot;2024-01-15_14-…</td><td>-0.106326</td><td>-105.304626</td><td>0.925196</td><td>0.525426</td><td>165.12274</td><td>0.923943</td><td>80.160988</td><td>12.695542</td><td>86.759699</td><td>43</td></tr><tr><td>&quot;2024-01-15_14-…</td><td>-0.676626</td><td>-198.729904</td><td>0.925196</td><td>0.525464</td><td>165.128986</td><td>0.923943</td><td>80.169978</td><td>12.696874</td><td>86.76938</td><td>43</td></tr><tr><td>&quot;2024-01-15_14-…</td><td>-0.874638</td><td>-222.35408</td><td>0.925196</td><td>0.525263</td><td>165.062639</td><td>0.923944</td><td>80.10716</td><td>12.686833</td><td>86.701341</td><td>43</td></tr><tr><td>&quot;2024-01-15_14-…</td><td>-0.910625</td><td>-216.100937</td><td>0.925196</td><td>0.52486</td><td>164.992391</td><td>0.923943</td><td>80.011565</td><td>12.671879</td><td>86.597977</td><td>43</td></tr><tr><td>&quot;2024-01-15_14-…</td><td>-0.414281</td><td>-141.514832</td><td>0.925196</td><td>0.524583</td><td>164.974161</td><td>0.923942</td><td>79.960321</td><td>12.663948</td><td>86.542614</td><td>43</td></tr></tbody></table></div>"
      ],
      "text/plain": [
       "shape: (5, 11)\n",
       "┌─────────────┬───────────┬─────────────┬──────────┬───┬───────────┬───────────┬───────────┬───────┐\n",
       "│ Time        ┆ In        ┆ Un          ┆ PF_n     ┆ … ┆ P         ┆ Q         ┆ S         ┆ Label │\n",
       "│ ---         ┆ ---       ┆ ---         ┆ ---      ┆   ┆ ---       ┆ ---       ┆ ---       ┆ ---   │\n",
       "│ str         ┆ f64       ┆ f64         ┆ f64      ┆   ┆ f64       ┆ f64       ┆ f64       ┆ i64   │\n",
       "╞═════════════╪═══════════╪═════════════╪══════════╪═══╪═══════════╪═══════════╪═══════════╪═══════╡\n",
       "│ 2024-01-15_ ┆ -0.106326 ┆ -105.304626 ┆ 0.925196 ┆ … ┆ 80.160988 ┆ 12.695542 ┆ 86.759699 ┆ 43    │\n",
       "│ 14-22-01    ┆           ┆             ┆          ┆   ┆           ┆           ┆           ┆       │\n",
       "│ 2024-01-15_ ┆ -0.676626 ┆ -198.729904 ┆ 0.925196 ┆ … ┆ 80.169978 ┆ 12.696874 ┆ 86.76938  ┆ 43    │\n",
       "│ 14-22-01    ┆           ┆             ┆          ┆   ┆           ┆           ┆           ┆       │\n",
       "│ 2024-01-15_ ┆ -0.874638 ┆ -222.35408  ┆ 0.925196 ┆ … ┆ 80.10716  ┆ 12.686833 ┆ 86.701341 ┆ 43    │\n",
       "│ 14-22-01    ┆           ┆             ┆          ┆   ┆           ┆           ┆           ┆       │\n",
       "│ 2024-01-15_ ┆ -0.910625 ┆ -216.100937 ┆ 0.925196 ┆ … ┆ 80.011565 ┆ 12.671879 ┆ 86.597977 ┆ 43    │\n",
       "│ 14-22-01    ┆           ┆             ┆          ┆   ┆           ┆           ┆           ┆       │\n",
       "│ 2024-01-15_ ┆ -0.414281 ┆ -141.514832 ┆ 0.925196 ┆ … ┆ 79.960321 ┆ 12.663948 ┆ 86.542614 ┆ 43    │\n",
       "│ 14-22-01    ┆           ┆             ┆          ┆   ┆           ┆           ┆           ┆       │\n",
       "└─────────────┴───────────┴─────────────┴──────────┴───┴───────────┴───────────┴───────────┴───────┘"
      ]
     },
     "execution_count": 4,
     "metadata": {},
     "output_type": "execute_result"
    }
   ],
   "source": [
    "print(train_df.shape)\n",
    "train_df.head()"
   ]
  },
  {
   "cell_type": "code",
   "execution_count": 5,
   "metadata": {},
   "outputs": [],
   "source": [
    "label_encoder = get_label_encoder(dataset=\"vndale1\")\n",
    "train_labels = label_encoder.inverse_transform(train_df.select(\"Label\").to_numpy().flatten())\n",
    "val_labels = label_encoder.inverse_transform(val_df.select(\"Label\").to_numpy().flatten())\n",
    "test_labels = label_encoder.inverse_transform(test_df.select(\"Label\").to_numpy().flatten())"
   ]
  },
  {
   "cell_type": "code",
   "execution_count": 6,
   "metadata": {},
   "outputs": [],
   "source": [
    "train_dict = count_labels(train_labels, isPercentage=False)"
   ]
  },
  {
   "cell_type": "code",
   "execution_count": 7,
   "metadata": {},
   "outputs": [],
   "source": [
    "test_dict = count_labels(test_labels, isPercentage=False)\n",
    "val_dict = count_labels(val_labels, isPercentage=False)"
   ]
  },
  {
   "cell_type": "code",
   "execution_count": 8,
   "metadata": {},
   "outputs": [],
   "source": [
    "no_appliance_dict = {}\n",
    "for key, values in train_dict.items():\n",
    "    if key == '0':\n",
    "        no_appliance_dict[0] = values\n",
    "        continue\n",
    "    devices = key.split(\",\")\n",
    "    devices_no = len(devices)\n",
    "    no_appliance_dict[devices_no] = no_appliance_dict.get(devices_no, 0) + values"
   ]
  },
  {
   "cell_type": "code",
   "execution_count": 9,
   "metadata": {},
   "outputs": [
    {
     "data": {
      "text/plain": [
       "{0: 576000,\n",
       " 1: 3501000,\n",
       " 2: 11579400,\n",
       " 3: 17164800,\n",
       " 4: 17145000,\n",
       " 5: 10143000,\n",
       " 6: 3549600,\n",
       " 7: 432000}"
      ]
     },
     "execution_count": 9,
     "metadata": {},
     "output_type": "execute_result"
    }
   ],
   "source": [
    "no_appliance_dict"
   ]
  },
  {
   "cell_type": "code",
   "execution_count": 15,
   "metadata": {},
   "outputs": [
    {
     "data": {
      "text/plain": [
       "{64800: ['2,3,4,5,6,7', '1,2,3,5,6,7', '1,2,3,4,6,7'],\n",
       " 63000: ['1,2,3,4,5,6'],\n",
       " 48600: ['1,2,4,5,6,7', '1,2,3,4,5,7'],\n",
       " 46800: ['1,3,4,5,6,7']}"
      ]
     },
     "execution_count": 15,
     "metadata": {},
     "output_type": "execute_result"
    }
   ],
   "source": [
    "inspect_no = 6\n",
    "values_dict = {}\n",
    "for key, values in test_dict.items():\n",
    "    devices = key.split(\",\")\n",
    "    if len(devices) == inspect_no:\n",
    "        values_dict[values] = [key] + values_dict.get(values, [])\n",
    "values_dict = dict(sorted(values_dict.items(), reverse=True))\n",
    "values_dict"
   ]
  },
  {
   "cell_type": "code",
   "execution_count": null,
   "metadata": {},
   "outputs": [],
   "source": [
    "len(np.where(val_labels == [\"0\"])[0])"
   ]
  }
 ],
 "metadata": {
  "kernelspec": {
   "display_name": "mylab-nilm-env",
   "language": "python",
   "name": "python3"
  },
  "language_info": {
   "codemirror_mode": {
    "name": "ipython",
    "version": 3
   },
   "file_extension": ".py",
   "mimetype": "text/x-python",
   "name": "python",
   "nbconvert_exporter": "python",
   "pygments_lexer": "ipython3",
   "version": "3.12.1"
  }
 },
 "nbformat": 4,
 "nbformat_minor": 2
}
