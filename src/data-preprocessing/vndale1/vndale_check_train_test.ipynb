{
 "cells": [
  {
   "cell_type": "code",
   "execution_count": 1,
   "metadata": {},
   "outputs": [],
   "source": [
    "import pandas as pd\n",
    "import polars as pl\n",
    "import numpy as np\n",
    "from sklearn.preprocessing import LabelEncoder\n",
    "from sklearn.model_selection import train_test_split\n",
    "from utils import *"
   ]
  },
  {
   "cell_type": "code",
   "execution_count": 2,
   "metadata": {},
   "outputs": [],
   "source": [
    "base_path = \"/opt/nilm-shared-data/nilm_device_detection/ICTA2024_dataset/train_val_test/window_1800\"\n",
    "train_df = pl.read_csv(f\"{base_path}/train.csv\").to_pandas()\n",
    "val_df = pl.read_csv(f\"{base_path}/val.csv\").to_pandas()\n",
    "test_df = pl.read_csv(f\"{base_path}/test.csv\").to_pandas()"
   ]
  },
  {
   "cell_type": "code",
   "execution_count": 3,
   "metadata": {},
   "outputs": [
    {
     "data": {
      "text/plain": [
       "((7195599, 5), (7195599,))"
      ]
     },
     "execution_count": 3,
     "metadata": {},
     "output_type": "execute_result"
    }
   ],
   "source": [
    "X = val_df[['Irms', 'P', 'MeanPF', 'S', 'Q']].to_numpy()\n",
    "y = val_df['Label'].to_numpy()\n",
    "X.shape, y.shape"
   ]
  },
  {
   "cell_type": "code",
   "execution_count": 5,
   "metadata": {},
   "outputs": [],
   "source": [
    "def count_labels(labels):\n",
    "    unique_labels, counts = np.unique(labels, return_counts=True)\n",
    "    label_percentages = (counts/len(labels)) * 100\n",
    "    label_percentages = dict(zip(unique_labels, label_percentages))\n",
    "    return label_percentages"
   ]
  },
  {
   "cell_type": "code",
   "execution_count": 6,
   "metadata": {},
   "outputs": [
    {
     "name": "stdout",
     "output_type": "stream",
     "text": [
      "(7195599, 11)\n"
     ]
    },
    {
     "data": {
      "text/html": [
       "<div>\n",
       "<style scoped>\n",
       "    .dataframe tbody tr th:only-of-type {\n",
       "        vertical-align: middle;\n",
       "    }\n",
       "\n",
       "    .dataframe tbody tr th {\n",
       "        vertical-align: top;\n",
       "    }\n",
       "\n",
       "    .dataframe thead th {\n",
       "        text-align: right;\n",
       "    }\n",
       "</style>\n",
       "<table border=\"1\" class=\"dataframe\">\n",
       "  <thead>\n",
       "    <tr style=\"text-align: right;\">\n",
       "      <th></th>\n",
       "      <th>Time</th>\n",
       "      <th>In</th>\n",
       "      <th>Un</th>\n",
       "      <th>PF_n</th>\n",
       "      <th>Irms</th>\n",
       "      <th>Urms</th>\n",
       "      <th>MeanPF</th>\n",
       "      <th>P</th>\n",
       "      <th>Q</th>\n",
       "      <th>S</th>\n",
       "      <th>Label</th>\n",
       "    </tr>\n",
       "  </thead>\n",
       "  <tbody>\n",
       "    <tr>\n",
       "      <th>0</th>\n",
       "      <td>2024-01-21_10-49-37</td>\n",
       "      <td>-0.000992</td>\n",
       "      <td>-158.418549</td>\n",
       "      <td>80.623817</td>\n",
       "      <td>0.002131</td>\n",
       "      <td>165.493471</td>\n",
       "      <td>0.912118</td>\n",
       "      <td>0.321632</td>\n",
       "      <td>0.059255</td>\n",
       "      <td>0.352621</td>\n",
       "      <td>0</td>\n",
       "    </tr>\n",
       "    <tr>\n",
       "      <th>1</th>\n",
       "      <td>2024-01-21_10-49-37</td>\n",
       "      <td>0.002508</td>\n",
       "      <td>-223.589676</td>\n",
       "      <td>80.623817</td>\n",
       "      <td>0.002132</td>\n",
       "      <td>165.533412</td>\n",
       "      <td>0.912206</td>\n",
       "      <td>0.321863</td>\n",
       "      <td>0.059235</td>\n",
       "      <td>0.352840</td>\n",
       "      <td>0</td>\n",
       "    </tr>\n",
       "    <tr>\n",
       "      <th>2</th>\n",
       "      <td>2024-01-21_10-49-37</td>\n",
       "      <td>0.002450</td>\n",
       "      <td>-223.341156</td>\n",
       "      <td>78.648247</td>\n",
       "      <td>0.002132</td>\n",
       "      <td>165.533774</td>\n",
       "      <td>0.912294</td>\n",
       "      <td>0.321894</td>\n",
       "      <td>0.059178</td>\n",
       "      <td>0.352841</td>\n",
       "      <td>0</td>\n",
       "    </tr>\n",
       "    <tr>\n",
       "      <th>3</th>\n",
       "      <td>2024-01-21_10-49-37</td>\n",
       "      <td>0.001458</td>\n",
       "      <td>-182.343643</td>\n",
       "      <td>98.673698</td>\n",
       "      <td>0.002133</td>\n",
       "      <td>165.514684</td>\n",
       "      <td>0.912393</td>\n",
       "      <td>0.322075</td>\n",
       "      <td>0.059141</td>\n",
       "      <td>0.353000</td>\n",
       "      <td>0</td>\n",
       "    </tr>\n",
       "    <tr>\n",
       "      <th>4</th>\n",
       "      <td>2024-01-21_10-49-37</td>\n",
       "      <td>0.001633</td>\n",
       "      <td>-76.811066</td>\n",
       "      <td>99.616119</td>\n",
       "      <td>0.002133</td>\n",
       "      <td>165.475108</td>\n",
       "      <td>0.912059</td>\n",
       "      <td>0.321940</td>\n",
       "      <td>0.059353</td>\n",
       "      <td>0.352981</td>\n",
       "      <td>0</td>\n",
       "    </tr>\n",
       "  </tbody>\n",
       "</table>\n",
       "</div>"
      ],
      "text/plain": [
       "                  Time        In          Un       PF_n      Irms        Urms  \\\n",
       "0  2024-01-21_10-49-37 -0.000992 -158.418549  80.623817  0.002131  165.493471   \n",
       "1  2024-01-21_10-49-37  0.002508 -223.589676  80.623817  0.002132  165.533412   \n",
       "2  2024-01-21_10-49-37  0.002450 -223.341156  78.648247  0.002132  165.533774   \n",
       "3  2024-01-21_10-49-37  0.001458 -182.343643  98.673698  0.002133  165.514684   \n",
       "4  2024-01-21_10-49-37  0.001633  -76.811066  99.616119  0.002133  165.475108   \n",
       "\n",
       "     MeanPF         P         Q         S  Label  \n",
       "0  0.912118  0.321632  0.059255  0.352621      0  \n",
       "1  0.912206  0.321863  0.059235  0.352840      0  \n",
       "2  0.912294  0.321894  0.059178  0.352841      0  \n",
       "3  0.912393  0.322075  0.059141  0.353000      0  \n",
       "4  0.912059  0.321940  0.059353  0.352981      0  "
      ]
     },
     "execution_count": 6,
     "metadata": {},
     "output_type": "execute_result"
    }
   ],
   "source": [
    "print(val_df.shape)\n",
    "val_df.head()"
   ]
  },
  {
   "cell_type": "code",
   "execution_count": 7,
   "metadata": {},
   "outputs": [
    {
     "name": "stdout",
     "output_type": "stream",
     "text": [
      "Empty DataFrame\n",
      "Columns: [Time, In, Un, PF_n, Irms, Urms, MeanPF, P, Q, S, Label]\n",
      "Index: []\n",
      "Empty DataFrame\n",
      "Columns: [Time, In, Un, PF_n, Irms, Urms, MeanPF, P, Q, S, Label]\n",
      "Index: []\n",
      "Empty DataFrame\n",
      "Columns: [Time, In, Un, PF_n, Irms, Urms, MeanPF, P, Q, S, Label]\n",
      "Index: []\n"
     ]
    }
   ],
   "source": [
    "nan_rows = train_df[train_df.isna().any(axis=1)]\n",
    "print(nan_rows)\n",
    "\n",
    "nan_rows = val_df[val_df.isna().any(axis=1)]\n",
    "print(nan_rows)\n",
    "\n",
    "nan_rows = test_df[test_df.isna().any(axis=1)]\n",
    "print(nan_rows)"
   ]
  }
 ],
 "metadata": {
  "kernelspec": {
   "display_name": "mylab-nilm-env",
   "language": "python",
   "name": "python3"
  },
  "language_info": {
   "codemirror_mode": {
    "name": "ipython",
    "version": 3
   },
   "file_extension": ".py",
   "mimetype": "text/x-python",
   "name": "python",
   "nbconvert_exporter": "python",
   "pygments_lexer": "ipython3",
   "version": "3.12.1"
  }
 },
 "nbformat": 4,
 "nbformat_minor": 2
}
