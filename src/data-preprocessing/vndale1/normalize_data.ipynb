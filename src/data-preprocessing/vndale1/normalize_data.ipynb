{
 "cells": [
  {
   "cell_type": "code",
   "execution_count": 8,
   "metadata": {},
   "outputs": [],
   "source": [
    "import pandas as pd\n",
    "import polars as pl\n",
    "import numpy as np\n",
    "import matplotlib.pyplot as plt\n",
    "import seaborn as sns\n",
    "from sklearn.preprocessing import StandardScaler\n",
    "from nilm_dao import get_vndale1_data\n",
    "from utils import count_labels"
   ]
  },
  {
   "cell_type": "code",
   "execution_count": 4,
   "metadata": {},
   "outputs": [
    {
     "name": "stderr",
     "output_type": "stream",
     "text": [
      "Getting train data - window size: 1800: 100%|██████████| 128/128 [02:37<00:00,  1.23s/it]\n"
     ]
    },
    {
     "data": {
      "text/html": [
       "<div><style>\n",
       ".dataframe > thead > tr,\n",
       ".dataframe > tbody > tr {\n",
       "  text-align: right;\n",
       "  white-space: pre-wrap;\n",
       "}\n",
       "</style>\n",
       "<small>shape: (5, 11)</small><table border=\"1\" class=\"dataframe\"><thead><tr><th>Time</th><th>In</th><th>Un</th><th>PF_n</th><th>Irms</th><th>Urms</th><th>MeanPF</th><th>P</th><th>Q</th><th>S</th><th>Label</th></tr><tr><td>str</td><td>f64</td><td>f64</td><td>f64</td><td>f64</td><td>f64</td><td>f64</td><td>f64</td><td>f64</td><td>f64</td><td>i64</td></tr></thead><tbody><tr><td>&quot;2024-01-15_14-…</td><td>-0.106326</td><td>-105.304626</td><td>0.925196</td><td>0.525426</td><td>165.12274</td><td>0.923943</td><td>80.160988</td><td>12.695542</td><td>86.759699</td><td>43</td></tr><tr><td>&quot;2024-01-15_14-…</td><td>-0.676626</td><td>-198.729904</td><td>0.925196</td><td>0.525464</td><td>165.128986</td><td>0.923943</td><td>80.169978</td><td>12.696874</td><td>86.76938</td><td>43</td></tr><tr><td>&quot;2024-01-15_14-…</td><td>-0.874638</td><td>-222.35408</td><td>0.925196</td><td>0.525263</td><td>165.062639</td><td>0.923944</td><td>80.10716</td><td>12.686833</td><td>86.701341</td><td>43</td></tr><tr><td>&quot;2024-01-15_14-…</td><td>-0.910625</td><td>-216.100937</td><td>0.925196</td><td>0.52486</td><td>164.992391</td><td>0.923943</td><td>80.011565</td><td>12.671879</td><td>86.597977</td><td>43</td></tr><tr><td>&quot;2024-01-15_14-…</td><td>-0.414281</td><td>-141.514832</td><td>0.925196</td><td>0.524583</td><td>164.974161</td><td>0.923942</td><td>79.960321</td><td>12.663948</td><td>86.542614</td><td>43</td></tr></tbody></table></div>"
      ],
      "text/plain": [
       "shape: (5, 11)\n",
       "┌─────────────┬───────────┬─────────────┬──────────┬───┬───────────┬───────────┬───────────┬───────┐\n",
       "│ Time        ┆ In        ┆ Un          ┆ PF_n     ┆ … ┆ P         ┆ Q         ┆ S         ┆ Label │\n",
       "│ ---         ┆ ---       ┆ ---         ┆ ---      ┆   ┆ ---       ┆ ---       ┆ ---       ┆ ---   │\n",
       "│ str         ┆ f64       ┆ f64         ┆ f64      ┆   ┆ f64       ┆ f64       ┆ f64       ┆ i64   │\n",
       "╞═════════════╪═══════════╪═════════════╪══════════╪═══╪═══════════╪═══════════╪═══════════╪═══════╡\n",
       "│ 2024-01-15_ ┆ -0.106326 ┆ -105.304626 ┆ 0.925196 ┆ … ┆ 80.160988 ┆ 12.695542 ┆ 86.759699 ┆ 43    │\n",
       "│ 14-22-01    ┆           ┆             ┆          ┆   ┆           ┆           ┆           ┆       │\n",
       "│ 2024-01-15_ ┆ -0.676626 ┆ -198.729904 ┆ 0.925196 ┆ … ┆ 80.169978 ┆ 12.696874 ┆ 86.76938  ┆ 43    │\n",
       "│ 14-22-01    ┆           ┆             ┆          ┆   ┆           ┆           ┆           ┆       │\n",
       "│ 2024-01-15_ ┆ -0.874638 ┆ -222.35408  ┆ 0.925196 ┆ … ┆ 80.10716  ┆ 12.686833 ┆ 86.701341 ┆ 43    │\n",
       "│ 14-22-01    ┆           ┆             ┆          ┆   ┆           ┆           ┆           ┆       │\n",
       "│ 2024-01-15_ ┆ -0.910625 ┆ -216.100937 ┆ 0.925196 ┆ … ┆ 80.011565 ┆ 12.671879 ┆ 86.597977 ┆ 43    │\n",
       "│ 14-22-01    ┆           ┆             ┆          ┆   ┆           ┆           ┆           ┆       │\n",
       "│ 2024-01-15_ ┆ -0.414281 ┆ -141.514832 ┆ 0.925196 ┆ … ┆ 79.960321 ┆ 12.663948 ┆ 86.542614 ┆ 43    │\n",
       "│ 14-22-01    ┆           ┆             ┆          ┆   ┆           ┆           ┆           ┆       │\n",
       "└─────────────┴───────────┴─────────────┴──────────┴───┴───────────┴───────────┴───────────┴───────┘"
      ]
     },
     "execution_count": 4,
     "metadata": {},
     "output_type": "execute_result"
    }
   ],
   "source": [
    "train_data = get_vndale1_data(\"train\", 1800)\n",
    "train_data.head()"
   ]
  },
  {
   "cell_type": "code",
   "execution_count": 10,
   "metadata": {},
   "outputs": [
    {
     "name": "stderr",
     "output_type": "stream",
     "text": [
      "Getting val data - window size: 1800: 100%|██████████| 128/128 [00:17<00:00,  7.18it/s]\n",
      "Getting test data - window size: 1800: 100%|██████████| 128/128 [00:17<00:00,  7.35it/s]\n"
     ]
    }
   ],
   "source": [
    "val_data = get_vndale1_data(\"val\", 1800)\n",
    "test_data = get_vndale1_data(\"test\", 1800)"
   ]
  },
  {
   "cell_type": "code",
   "execution_count": 6,
   "metadata": {},
   "outputs": [
    {
     "data": {
      "text/html": [
       "<div>\n",
       "<style scoped>\n",
       "    .dataframe tbody tr th:only-of-type {\n",
       "        vertical-align: middle;\n",
       "    }\n",
       "\n",
       "    .dataframe tbody tr th {\n",
       "        vertical-align: top;\n",
       "    }\n",
       "\n",
       "    .dataframe thead th {\n",
       "        text-align: right;\n",
       "    }\n",
       "</style>\n",
       "<table border=\"1\" class=\"dataframe\">\n",
       "  <thead>\n",
       "    <tr style=\"text-align: right;\">\n",
       "      <th></th>\n",
       "      <th>In</th>\n",
       "      <th>Un</th>\n",
       "      <th>PF_n</th>\n",
       "      <th>Irms</th>\n",
       "      <th>Urms</th>\n",
       "      <th>MeanPF</th>\n",
       "      <th>P</th>\n",
       "      <th>Q</th>\n",
       "      <th>S</th>\n",
       "      <th>Time</th>\n",
       "      <th>Label</th>\n",
       "    </tr>\n",
       "  </thead>\n",
       "  <tbody>\n",
       "    <tr>\n",
       "      <th>0</th>\n",
       "      <td>-0.033847</td>\n",
       "      <td>-0.645702</td>\n",
       "      <td>-0.272029</td>\n",
       "      <td>-0.923213</td>\n",
       "      <td>0.415321</td>\n",
       "      <td>-0.307410</td>\n",
       "      <td>-0.926108</td>\n",
       "      <td>1.111429</td>\n",
       "      <td>-0.919838</td>\n",
       "      <td>2024-01-15_14-22-01</td>\n",
       "      <td>43</td>\n",
       "    </tr>\n",
       "    <tr>\n",
       "      <th>1</th>\n",
       "      <td>-0.215365</td>\n",
       "      <td>-1.218570</td>\n",
       "      <td>-0.272029</td>\n",
       "      <td>-0.923194</td>\n",
       "      <td>0.416544</td>\n",
       "      <td>-0.307405</td>\n",
       "      <td>-0.926081</td>\n",
       "      <td>1.111632</td>\n",
       "      <td>-0.919808</td>\n",
       "      <td>2024-01-15_14-22-01</td>\n",
       "      <td>43</td>\n",
       "    </tr>\n",
       "    <tr>\n",
       "      <th>2</th>\n",
       "      <td>-0.278389</td>\n",
       "      <td>-1.363429</td>\n",
       "      <td>-0.272029</td>\n",
       "      <td>-0.923293</td>\n",
       "      <td>0.403549</td>\n",
       "      <td>-0.307399</td>\n",
       "      <td>-0.926274</td>\n",
       "      <td>1.110100</td>\n",
       "      <td>-0.920018</td>\n",
       "      <td>2024-01-15_14-22-01</td>\n",
       "      <td>43</td>\n",
       "    </tr>\n",
       "    <tr>\n",
       "      <th>3</th>\n",
       "      <td>-0.289843</td>\n",
       "      <td>-1.325086</td>\n",
       "      <td>-0.272029</td>\n",
       "      <td>-0.923491</td>\n",
       "      <td>0.389789</td>\n",
       "      <td>-0.307410</td>\n",
       "      <td>-0.926567</td>\n",
       "      <td>1.107818</td>\n",
       "      <td>-0.920337</td>\n",
       "      <td>2024-01-15_14-22-01</td>\n",
       "      <td>43</td>\n",
       "    </tr>\n",
       "    <tr>\n",
       "      <th>4</th>\n",
       "      <td>-0.131864</td>\n",
       "      <td>-0.867737</td>\n",
       "      <td>-0.272029</td>\n",
       "      <td>-0.923628</td>\n",
       "      <td>0.386218</td>\n",
       "      <td>-0.307422</td>\n",
       "      <td>-0.926724</td>\n",
       "      <td>1.106608</td>\n",
       "      <td>-0.920508</td>\n",
       "      <td>2024-01-15_14-22-01</td>\n",
       "      <td>43</td>\n",
       "    </tr>\n",
       "  </tbody>\n",
       "</table>\n",
       "</div>"
      ],
      "text/plain": [
       "         In        Un      PF_n      Irms      Urms    MeanPF         P  \\\n",
       "0 -0.033847 -0.645702 -0.272029 -0.923213  0.415321 -0.307410 -0.926108   \n",
       "1 -0.215365 -1.218570 -0.272029 -0.923194  0.416544 -0.307405 -0.926081   \n",
       "2 -0.278389 -1.363429 -0.272029 -0.923293  0.403549 -0.307399 -0.926274   \n",
       "3 -0.289843 -1.325086 -0.272029 -0.923491  0.389789 -0.307410 -0.926567   \n",
       "4 -0.131864 -0.867737 -0.272029 -0.923628  0.386218 -0.307422 -0.926724   \n",
       "\n",
       "          Q         S                 Time  Label  \n",
       "0  1.111429 -0.919838  2024-01-15_14-22-01     43  \n",
       "1  1.111632 -0.919808  2024-01-15_14-22-01     43  \n",
       "2  1.110100 -0.920018  2024-01-15_14-22-01     43  \n",
       "3  1.107818 -0.920337  2024-01-15_14-22-01     43  \n",
       "4  1.106608 -0.920508  2024-01-15_14-22-01     43  "
      ]
     },
     "execution_count": 6,
     "metadata": {},
     "output_type": "execute_result"
    }
   ],
   "source": [
    "# Extract the features to be scaled\n",
    "features = train_data.select(['In', 'Un', 'PF_n', \"Irms\", \"Urms\", \"MeanPF\", 'P', 'Q', 'S']).to_numpy()\n",
    "\n",
    "# Initialize the scaler\n",
    "scaler = StandardScaler()\n",
    "\n",
    "# Fit and transform the features\n",
    "scaled_features = scaler.fit_transform(features)\n",
    "\n",
    "# scaled dataframe\n",
    "scaled_train_data = pd.DataFrame(scaled_features, columns=['In', 'Un', 'PF_n', \"Irms\", \"Urms\", \"MeanPF\", 'P', 'Q', 'S'])\n",
    "scaled_train_data['Time'] = train_data['Time']\n",
    "scaled_train_data['Label'] = train_data['Label']\n",
    "\n",
    "scaled_train_data.head()"
   ]
  },
  {
   "cell_type": "code",
   "execution_count": 14,
   "metadata": {},
   "outputs": [
    {
     "data": {
      "text/plain": [
       "['/opt/nilm-shared-data/nilm_device_detection/VNDALE_v1/data_information/scaler.joblib']"
      ]
     },
     "execution_count": 14,
     "metadata": {},
     "output_type": "execute_result"
    }
   ],
   "source": [
    "from joblib import dump, load\n",
    "dump(scaler, '/opt/nilm-shared-data/nilm_device_detection/VNDALE_v1/data_information/scaler.joblib')"
   ]
  }
 ],
 "metadata": {
  "kernelspec": {
   "display_name": "mylab-nilm-env",
   "language": "python",
   "name": "python3"
  },
  "language_info": {
   "codemirror_mode": {
    "name": "ipython",
    "version": 3
   },
   "file_extension": ".py",
   "mimetype": "text/x-python",
   "name": "python",
   "nbconvert_exporter": "python",
   "pygments_lexer": "ipython3",
   "version": "3.12.1"
  }
 },
 "nbformat": 4,
 "nbformat_minor": 2
}
