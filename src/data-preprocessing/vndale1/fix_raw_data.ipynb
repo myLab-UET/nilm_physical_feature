{
 "cells": [
  {
   "cell_type": "code",
   "execution_count": 1,
   "metadata": {},
   "outputs": [],
   "source": [
    "import pandas as pd\n",
    "import numpy as np\n",
    "import matplotlib.pyplot as plt\n",
    "import polars as pl\n",
    "from tqdm.notebook import tqdm"
   ]
  },
  {
   "cell_type": "code",
   "execution_count": 2,
   "metadata": {},
   "outputs": [],
   "source": [
    "# Check data info\n",
    "data_info = pd.read_excel('/opt/nilm-shared-data/nilm_device_detection/ICTA2024_dataset/data_information/data_information.xlsx', sheet_name='data_info')\n",
    "data_patch = pd.read_excel('/opt/nilm-shared-data/nilm_device_detection/ICTA2024_dataset/data_information/data_information.xlsx', sheet_name='data_patch')"
   ]
  },
  {
   "cell_type": "code",
   "execution_count": 3,
   "metadata": {},
   "outputs": [
    {
     "data": {
      "text/html": [
       "<div>\n",
       "<style scoped>\n",
       "    .dataframe tbody tr th:only-of-type {\n",
       "        vertical-align: middle;\n",
       "    }\n",
       "\n",
       "    .dataframe tbody tr th {\n",
       "        vertical-align: top;\n",
       "    }\n",
       "\n",
       "    .dataframe thead th {\n",
       "        text-align: right;\n",
       "    }\n",
       "</style>\n",
       "<table border=\"1\" class=\"dataframe\">\n",
       "  <thead>\n",
       "    <tr style=\"text-align: right;\">\n",
       "      <th></th>\n",
       "      <th>index</th>\n",
       "      <th>combination</th>\n",
       "      <th>data1</th>\n",
       "      <th>data2</th>\n",
       "      <th>data3</th>\n",
       "      <th>data4</th>\n",
       "    </tr>\n",
       "  </thead>\n",
       "  <tbody>\n",
       "    <tr>\n",
       "      <th>0</th>\n",
       "      <td>0</td>\n",
       "      <td>[0]</td>\n",
       "      <td>20240121_data_Nodevice_1.xlsx</td>\n",
       "      <td>20240121_data_Nodevice_2.xlsx</td>\n",
       "      <td>20240121_data_Nodevice_3.xlsx</td>\n",
       "      <td>20240121_data_Nodevice_4.xlsx</td>\n",
       "    </tr>\n",
       "    <tr>\n",
       "      <th>1</th>\n",
       "      <td>1</td>\n",
       "      <td>[1]</td>\n",
       "      <td>20240113_data_den_1.xlsx</td>\n",
       "      <td>20240114_data_den_2.xlsx</td>\n",
       "      <td>20240115_data_den_3.xlsx</td>\n",
       "      <td>20240121_data_den_4.xlsx</td>\n",
       "    </tr>\n",
       "    <tr>\n",
       "      <th>2</th>\n",
       "      <td>2</td>\n",
       "      <td>[2]</td>\n",
       "      <td>20240113_data_quat_1.xlsx</td>\n",
       "      <td>20240114_data_quat_2.xlsx</td>\n",
       "      <td>20240115_data_quat_3.xlsx</td>\n",
       "      <td>20240121_data_quat_4.xlsx</td>\n",
       "    </tr>\n",
       "    <tr>\n",
       "      <th>3</th>\n",
       "      <td>3</td>\n",
       "      <td>[1, 2]</td>\n",
       "      <td>20240114_data_den_quat_1.xlsx</td>\n",
       "      <td>20240114_data_den_quat_2.xlsx</td>\n",
       "      <td>20240115_data_den_quat_3.xlsx</td>\n",
       "      <td>20240121_data_den_quat_4.xlsx</td>\n",
       "    </tr>\n",
       "    <tr>\n",
       "      <th>4</th>\n",
       "      <td>4</td>\n",
       "      <td>[3]</td>\n",
       "      <td>20240113_data_maysay_1.xlsx</td>\n",
       "      <td>20240114_data_maysay_2.xlsx</td>\n",
       "      <td>20240115_data_maysay_3.xlsx</td>\n",
       "      <td>20240121_data_maysay_4.xlsx</td>\n",
       "    </tr>\n",
       "  </tbody>\n",
       "</table>\n",
       "</div>"
      ],
      "text/plain": [
       "   index combination                          data1  \\\n",
       "0      0         [0]  20240121_data_Nodevice_1.xlsx   \n",
       "1      1         [1]       20240113_data_den_1.xlsx   \n",
       "2      2         [2]      20240113_data_quat_1.xlsx   \n",
       "3      3      [1, 2]  20240114_data_den_quat_1.xlsx   \n",
       "4      4         [3]    20240113_data_maysay_1.xlsx   \n",
       "\n",
       "                           data2                          data3  \\\n",
       "0  20240121_data_Nodevice_2.xlsx  20240121_data_Nodevice_3.xlsx   \n",
       "1       20240114_data_den_2.xlsx       20240115_data_den_3.xlsx   \n",
       "2      20240114_data_quat_2.xlsx      20240115_data_quat_3.xlsx   \n",
       "3  20240114_data_den_quat_2.xlsx  20240115_data_den_quat_3.xlsx   \n",
       "4    20240114_data_maysay_2.xlsx    20240115_data_maysay_3.xlsx   \n",
       "\n",
       "                           data4  \n",
       "0  20240121_data_Nodevice_4.xlsx  \n",
       "1       20240121_data_den_4.xlsx  \n",
       "2      20240121_data_quat_4.xlsx  \n",
       "3  20240121_data_den_quat_4.xlsx  \n",
       "4    20240121_data_maysay_4.xlsx  "
      ]
     },
     "execution_count": 3,
     "metadata": {},
     "output_type": "execute_result"
    }
   ],
   "source": [
    "data_info.head()"
   ]
  },
  {
   "cell_type": "code",
   "execution_count": 4,
   "metadata": {},
   "outputs": [
    {
     "data": {
      "text/html": [
       "<div>\n",
       "<style scoped>\n",
       "    .dataframe tbody tr th:only-of-type {\n",
       "        vertical-align: middle;\n",
       "    }\n",
       "\n",
       "    .dataframe tbody tr th {\n",
       "        vertical-align: top;\n",
       "    }\n",
       "\n",
       "    .dataframe thead th {\n",
       "        text-align: right;\n",
       "    }\n",
       "</style>\n",
       "<table border=\"1\" class=\"dataframe\">\n",
       "  <thead>\n",
       "    <tr style=\"text-align: right;\">\n",
       "      <th></th>\n",
       "      <th>STT</th>\n",
       "      <th>Combinations</th>\n",
       "      <th>Files</th>\n",
       "      <th>Start</th>\n",
       "      <th>End</th>\n",
       "    </tr>\n",
       "  </thead>\n",
       "  <tbody>\n",
       "    <tr>\n",
       "      <th>0</th>\n",
       "      <td>0</td>\n",
       "      <td>No device</td>\n",
       "      <td>1,2,3,4</td>\n",
       "      <td>NaN</td>\n",
       "      <td>NaN</td>\n",
       "    </tr>\n",
       "    <tr>\n",
       "      <th>1</th>\n",
       "      <td>1</td>\n",
       "      <td>[1]</td>\n",
       "      <td>2,3,4</td>\n",
       "      <td>0,0,0</td>\n",
       "      <td>0,80000,0</td>\n",
       "    </tr>\n",
       "    <tr>\n",
       "      <th>2</th>\n",
       "      <td>2</td>\n",
       "      <td>[2]</td>\n",
       "      <td>1,2,3,4</td>\n",
       "      <td>NaN</td>\n",
       "      <td>NaN</td>\n",
       "    </tr>\n",
       "    <tr>\n",
       "      <th>3</th>\n",
       "      <td>3</td>\n",
       "      <td>[1, 2]</td>\n",
       "      <td>1,2,3,4</td>\n",
       "      <td>NaN</td>\n",
       "      <td>NaN</td>\n",
       "    </tr>\n",
       "    <tr>\n",
       "      <th>4</th>\n",
       "      <td>4</td>\n",
       "      <td>[3]</td>\n",
       "      <td>1,2,3,4</td>\n",
       "      <td>NaN</td>\n",
       "      <td>NaN</td>\n",
       "    </tr>\n",
       "  </tbody>\n",
       "</table>\n",
       "</div>"
      ],
      "text/plain": [
       "   STT Combinations    Files  Start        End\n",
       "0    0    No device  1,2,3,4    NaN        NaN\n",
       "1    1          [1]    2,3,4  0,0,0  0,80000,0\n",
       "2    2          [2]  1,2,3,4    NaN        NaN\n",
       "3    3       [1, 2]  1,2,3,4    NaN        NaN\n",
       "4    4          [3]  1,2,3,4    NaN        NaN"
      ]
     },
     "execution_count": 4,
     "metadata": {},
     "output_type": "execute_result"
    }
   ],
   "source": [
    "data_patch.head()"
   ]
  },
  {
   "cell_type": "code",
   "execution_count": 5,
   "metadata": {},
   "outputs": [
    {
     "data": {
      "text/plain": [
       "(128, 128)"
      ]
     },
     "execution_count": 5,
     "metadata": {},
     "output_type": "execute_result"
    }
   ],
   "source": [
    "len(data_info), len(data_patch)"
   ]
  },
  {
   "cell_type": "code",
   "execution_count": 7,
   "metadata": {},
   "outputs": [
    {
     "data": {
      "text/plain": [
       "index                                               73\n",
       "combination                                  [1, 4, 7]\n",
       "data1          20240116_data_den_maylockk_sacmt_1.xlsx\n",
       "data2          20240118_data_den_maylockk_sacmt_2.xlsx\n",
       "data3          20240120_data_den_maylockk_sacmt_3.xlsx\n",
       "data4          20240122_data_den_maylockk_sacmt_4.xlsx\n",
       "Name: 73, dtype: object"
      ]
     },
     "execution_count": 7,
     "metadata": {},
     "output_type": "execute_result"
    }
   ],
   "source": [
    "data_info.iloc[73]"
   ]
  },
  {
   "cell_type": "code",
   "execution_count": 6,
   "metadata": {},
   "outputs": [
    {
     "data": {
      "application/vnd.jupyter.widget-view+json": {
       "model_id": "f048d801605a4682892975335b7851a3",
       "version_major": 2,
       "version_minor": 0
      },
      "text/plain": [
       "Processing data:   0%|          | 0/4 [00:00<?, ?it/s]"
      ]
     },
     "metadata": {},
     "output_type": "display_data"
    },
    {
     "name": "stdout",
     "output_type": "stream",
     "text": [
      "[+] Comb index: 97, File Nos: [1, 2, 3, 4], start times: 0,0,0,0, end times: 160000,160000,125000,0\n",
      "[-] File: 20240116_data_den_amnuoc_sacmt_1.csv saved with shape: (160000, 4)\n",
      "[-] File: 20240118_data_den_amnuoc_sacmt_2.csv saved with shape: (160000, 4)\n",
      "[-] File: 20240120_data_den_amnuoc_sacmt_3.csv saved with shape: (125000, 4)\n",
      "[-] File: 20240122_data_den_amnuoc_sacmt_4.csv saved with shape: (180000, 4)\n",
      "[+] Comb index: 73, File Nos: [1, 4], start times: nan, end times: nan\n",
      "[-] File: 20240116_data_den_maylockk_sacmt_1.csv saved with shape: (180000, 4)\n",
      "[-] File: 20240122_data_den_maylockk_sacmt_4.csv saved with shape: (180000, 4)\n",
      "[+] Comb index: 102, File Nos: [1, 2, 3, 4], start times: 0,0,0,0, end times: 160000,0,0,0\n",
      "[-] File: 20240117_data_quat_maysay_amnuoc_sacmt_1.csv saved with shape: (160000, 4)\n",
      "[-] File: 20240119_data_quat_maysay_amnuoc_sacmt_2.csv saved with shape: (180000, 4)\n",
      "[-] File: 20240120_data_quat_maysay_amnuoc_sacmt_3.csv saved with shape: (180000, 4)\n",
      "[-] File: 20240122_data_quat_maysay_amnuoc_sacmt_4.csv saved with shape: (180000, 4)\n",
      "[+] Comb index: 113, File Nos: [1, 2, 3, 4], start times: 0,0,0,0, end times: 160000,160000,0,0\n",
      "[-] File: 20240117_data_den_mayep_amnuoc_sacmt_1.csv saved with shape: (160000, 4)\n",
      "[-] File: 20240119_data_den_mayep_amnuoc_sacmt_2.csv saved with shape: (160000, 4)\n",
      "[-] File: 20240120_data_den_mayep_amnuoc_sacmt_3.csv saved with shape: (180000, 4)\n",
      "[-] File: 20240122_data_den_mayep_amnuoc_sacmt_4.csv saved with shape: (180000, 4)\n"
     ]
    }
   ],
   "source": [
    "base_path = \"/opt/nilm-shared-data/nilm_device_detection/ICTA2024_dataset/raw_data\"\n",
    "save_path = \"/opt/nilm-shared-data/nilm_device_detection/ICTA2024_dataset/fix_raw_data\"\n",
    "file_col_names = [\"data1\", \"data2\", \"data3\", \"data4\"]\n",
    "for comb_index in tqdm([97, 73, 102, 113], desc=\"Processing data\"):\n",
    "    # Resetting fix_df\n",
    "    fix_df = None\n",
    "    # Getting processed files\n",
    "    file_nos = data_patch.iloc[comb_index][\"Files\"]\n",
    "    file_nos = file_nos.replace(\" \", \"\")\n",
    "    file_nos = file_nos.split(\",\")\n",
    "    file_nos = [int(file_no) for file_no in file_nos]\n",
    "    # Getting start and end times\n",
    "    start_times = data_patch.iloc[comb_index][\"Start\"]\n",
    "    end_times = data_patch.iloc[comb_index][\"End\"]\n",
    "    print(f\"[+] Comb index: {comb_index}, File Nos: {file_nos}, start times: {start_times}, end times: {end_times}\")\n",
    "    # Processing data\n",
    "    if start_times is not np.nan and end_times is not np.nan:\n",
    "        # Getting start and end index\n",
    "        start_times = start_times.replace(\" \", \"\")\n",
    "        start_times = start_times.split(\",\")\n",
    "        start_times = [int(start_time) for start_time in start_times]\n",
    "        end_times = end_times.replace(\" \", \"\")\n",
    "        end_times = end_times.split(\",\")\n",
    "        end_times = [int(end_time) for end_time in end_times]\n",
    "        # Cutting data\n",
    "        for file_no, start, end in zip(file_nos, start_times, end_times): \n",
    "            file_name = data_info.iloc[comb_index][file_col_names[file_no-1]]\n",
    "            df = pd.read_excel(f\"{base_path}/{file_name}\")\n",
    "            if end == 0:\n",
    "                fix_df = df.iloc[start:]\n",
    "            else:\n",
    "                fix_df = df.iloc[start:end]\n",
    "            fix_df = fix_df.reset_index(drop=True)\n",
    "            file_name = file_name.replace(\".xlsx\", \".csv\")\n",
    "            fix_df.to_csv(f\"{save_path}/{file_name}\", index=False)\n",
    "            print(f\"[-] File: {file_name} saved with shape: {fix_df.shape}\")\n",
    "    else:\n",
    "        for file_no in file_nos:\n",
    "            file_name = data_info.iloc[comb_index][file_col_names[file_no-1]]\n",
    "            fix_df = pd.read_excel(f\"{base_path}/{file_name}\")\n",
    "            file_name = file_name.replace(\".xlsx\", \".csv\")\n",
    "            fix_df.to_csv(f\"{save_path}/{file_name}\", index=False)\n",
    "            print(f\"[-] File: {file_name} saved with shape: {fix_df.shape}\")"
   ]
  }
 ],
 "metadata": {
  "kernelspec": {
   "display_name": "mylab-nilm-env",
   "language": "python",
   "name": "python3"
  },
  "language_info": {
   "codemirror_mode": {
    "name": "ipython",
    "version": 3
   },
   "file_extension": ".py",
   "mimetype": "text/x-python",
   "name": "python",
   "nbconvert_exporter": "python",
   "pygments_lexer": "ipython3",
   "version": "3.12.1"
  }
 },
 "nbformat": 4,
 "nbformat_minor": 2
}
