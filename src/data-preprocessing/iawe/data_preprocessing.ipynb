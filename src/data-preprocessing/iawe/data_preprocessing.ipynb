{
 "cells": [
  {
   "cell_type": "code",
   "execution_count": 1,
   "metadata": {},
   "outputs": [],
   "source": [
    "import pandas as pd\n",
    "import numpy as np\n",
    "import os\n",
    "from sklearn.model_selection import train_test_split\n",
    "from nilm_pre_processing import NilmPreProcessing\n",
    "from tqdm.notebook import tqdm"
   ]
  },
  {
   "cell_type": "code",
   "execution_count": 2,
   "metadata": {},
   "outputs": [],
   "source": [
    "nilm_pp = NilmPreProcessing()"
   ]
  },
  {
   "cell_type": "code",
   "execution_count": 8,
   "metadata": {},
   "outputs": [
    {
     "data": {
      "application/vnd.jupyter.widget-view+json": {
       "model_id": "8226b4dcd8b04822b30f85c409cc1f2c",
       "version_major": 2,
       "version_minor": 0
      },
      "text/plain": [
       "  0%|          | 0/8 [00:00<?, ?it/s]"
      ]
     },
     "metadata": {},
     "output_type": "display_data"
    },
    {
     "name": "stdout",
     "output_type": "stream",
     "text": [
      "[+] Working on /opt/nilm-shared-data/nilm_device_detection/iawe/labeled_segments/television\n"
     ]
    },
    {
     "data": {
      "application/vnd.jupyter.widget-view+json": {
       "model_id": "314b30e95e204cd7ac7f931580f29249",
       "version_major": 2,
       "version_minor": 0
      },
      "text/plain": [
       "  0%|          | 0/1 [00:00<?, ?it/s]"
      ]
     },
     "metadata": {},
     "output_type": "display_data"
    },
    {
     "name": "stdout",
     "output_type": "stream",
     "text": [
      "[+] Working on /opt/nilm-shared-data/nilm_device_detection/iawe/labeled_segments/air_conditioner_1\n"
     ]
    },
    {
     "data": {
      "application/vnd.jupyter.widget-view+json": {
       "model_id": "8a2709a9062c492290c07e6348071365",
       "version_major": 2,
       "version_minor": 0
      },
      "text/plain": [
       "  0%|          | 0/12 [00:00<?, ?it/s]"
      ]
     },
     "metadata": {},
     "output_type": "display_data"
    },
    {
     "name": "stdout",
     "output_type": "stream",
     "text": [
      "[+] Working on /opt/nilm-shared-data/nilm_device_detection/iawe/labeled_segments/clothes_iron\n"
     ]
    },
    {
     "data": {
      "application/vnd.jupyter.widget-view+json": {
       "model_id": "ec420424f86b4ab5b35ef96fffa9e008",
       "version_major": 2,
       "version_minor": 0
      },
      "text/plain": [
       "  0%|          | 0/35 [00:00<?, ?it/s]"
      ]
     },
     "metadata": {},
     "output_type": "display_data"
    },
    {
     "name": "stdout",
     "output_type": "stream",
     "text": [
      "[+] Working on /opt/nilm-shared-data/nilm_device_detection/iawe/labeled_segments/computer\n"
     ]
    },
    {
     "data": {
      "application/vnd.jupyter.widget-view+json": {
       "model_id": "4fe175a3774b49ac94af6378ebfa5c2e",
       "version_major": 2,
       "version_minor": 0
      },
      "text/plain": [
       "  0%|          | 0/103 [00:00<?, ?it/s]"
      ]
     },
     "metadata": {},
     "output_type": "display_data"
    },
    {
     "name": "stdout",
     "output_type": "stream",
     "text": [
      "[+] Working on /opt/nilm-shared-data/nilm_device_detection/iawe/labeled_segments/washing_machine\n"
     ]
    },
    {
     "data": {
      "application/vnd.jupyter.widget-view+json": {
       "model_id": "cab8d8fe28604444a41b17e837b56d3a",
       "version_major": 2,
       "version_minor": 0
      },
      "text/plain": [
       "  0%|          | 0/20 [00:00<?, ?it/s]"
      ]
     },
     "metadata": {},
     "output_type": "display_data"
    },
    {
     "name": "stdout",
     "output_type": "stream",
     "text": [
      "[+] Working on /opt/nilm-shared-data/nilm_device_detection/iawe/labeled_segments/air_conditioner_2\n"
     ]
    },
    {
     "data": {
      "application/vnd.jupyter.widget-view+json": {
       "model_id": "223c231891c34715bba15232ece1f908",
       "version_major": 2,
       "version_minor": 0
      },
      "text/plain": [
       "  0%|          | 0/19 [00:00<?, ?it/s]"
      ]
     },
     "metadata": {},
     "output_type": "display_data"
    },
    {
     "name": "stdout",
     "output_type": "stream",
     "text": [
      "[+] Working on /opt/nilm-shared-data/nilm_device_detection/iawe/labeled_segments/wet_appliance\n"
     ]
    },
    {
     "data": {
      "application/vnd.jupyter.widget-view+json": {
       "model_id": "ab733d4c950e4c6198aa403bfbe09497",
       "version_major": 2,
       "version_minor": 0
      },
      "text/plain": [
       "  0%|          | 0/255 [00:00<?, ?it/s]"
      ]
     },
     "metadata": {},
     "output_type": "display_data"
    },
    {
     "name": "stdout",
     "output_type": "stream",
     "text": [
      "[+] Working on /opt/nilm-shared-data/nilm_device_detection/iawe/labeled_segments/fridges\n"
     ]
    },
    {
     "data": {
      "application/vnd.jupyter.widget-view+json": {
       "model_id": "a7be232a3251465abf8b21c3e94c54ae",
       "version_major": 2,
       "version_minor": 0
      },
      "text/plain": [
       "  0%|          | 0/264 [00:00<?, ?it/s]"
      ]
     },
     "metadata": {},
     "output_type": "display_data"
    }
   ],
   "source": [
    "base_path = \"/opt/nilm-shared-data/nilm_device_detection/iawe/labeled_segments\"\n",
    "train_df, test_df = None, None\n",
    "for dir in tqdm(os.listdir(base_path)):\n",
    "    dir_path = os.path.join(base_path, dir)\n",
    "    label = dir\n",
    "    print(f\"[+] Working on {dir_path}\")\n",
    "    for file in tqdm(os.listdir(dir_path)):\n",
    "        if file.endswith(\".xlsx\"):\n",
    "            # Read the data\n",
    "            df = pd.read_excel(os.path.join(dir_path, file))\n",
    "            df = df[[\"unix_ts\", \"Irms\", \"P\", \"AvgPowerFactor\", \"Q\", \"S\", \"Label\"]]\n",
    "            if len(df) < 10:\n",
    "                continue\n",
    "            df = df.sort_values(\"unix_ts\")\n",
    "            df = df.reset_index(drop=True)\n",
    "            \n",
    "            # Preprocess the data\n",
    "            train_arr, test_arr = [], [] \n",
    "            for i in range(0, len(df), 10):\n",
    "                train_arr.extend(df.iloc[i:i+9].to_dict('records'))\n",
    "                if i + 9 < len(df):\n",
    "                    test_arr.append(df.iloc[i+9].to_dict())\n",
    "            current_train_df = pd.DataFrame(train_arr)\n",
    "            current_test_df = pd.DataFrame(test_arr)\n",
    "            \n",
    "            # If the current dataframe is empty, skip it\n",
    "            if current_train_df.empty or current_test_df.empty:\n",
    "                continue\n",
    "            else:\n",
    "                if train_df is None:\n",
    "                    train_df = current_train_df\n",
    "                    test_df = current_test_df\n",
    "                else:\n",
    "                    train_df = pd.concat([train_df, current_train_df], ignore_index=True)\n",
    "                    test_df = pd.concat([test_df, current_test_df], ignore_index=True)"
   ]
  },
  {
   "cell_type": "code",
   "execution_count": 9,
   "metadata": {},
   "outputs": [
    {
     "data": {
      "text/plain": [
       "{'ac1_s1': 25042,\n",
       " 'ac1_s2': 11897,\n",
       " 'ac1_s3': 209843,\n",
       " 'ac2_s1': 100894,\n",
       " 'ac2_s2': 11857,\n",
       " 'ac2_s3': 163647,\n",
       " 'clothes_iron': 1505,\n",
       " 'computer': 1104845,\n",
       " 'fridges_s1': 1707387,\n",
       " 'television': 254748,\n",
       " 'washing_machine_s1': 12141,\n",
       " 'wet_appliance_s1': 10997}"
      ]
     },
     "execution_count": 9,
     "metadata": {},
     "output_type": "execute_result"
    }
   ],
   "source": [
    "nilm_pp.count_labels(train_df[\"Label\"])"
   ]
  },
  {
   "cell_type": "code",
   "execution_count": 10,
   "metadata": {},
   "outputs": [
    {
     "data": {
      "text/plain": [
       "{'ac1_s1': 2776,\n",
       " 'ac1_s2': 1330,\n",
       " 'ac1_s3': 23309,\n",
       " 'ac2_s1': 11215,\n",
       " 'ac2_s2': 1329,\n",
       " 'ac2_s3': 18159,\n",
       " 'clothes_iron': 153,\n",
       " 'computer': 122706,\n",
       " 'fridges_s1': 189584,\n",
       " 'television': 28305,\n",
       " 'washing_machine_s1': 1338,\n",
       " 'wet_appliance_s1': 1087}"
      ]
     },
     "execution_count": 10,
     "metadata": {},
     "output_type": "execute_result"
    }
   ],
   "source": [
    "nilm_pp.count_labels(test_df[\"Label\"])"
   ]
  },
  {
   "cell_type": "code",
   "execution_count": 48,
   "metadata": {},
   "outputs": [],
   "source": [
    "train_df = pd.read_csv(\"/opt/nilm-shared-data/nilm_device_detection/iawe/train_test_data/iawe_train.csv\")\n",
    "test_df = pd.read_csv(\"/opt/nilm-shared-data/nilm_device_detection/iawe/train_test_data/iawe_test.csv\")"
   ]
  },
  {
   "cell_type": "code",
   "execution_count": 49,
   "metadata": {},
   "outputs": [],
   "source": [
    "# Remove rows with Inf or -Inf values\n",
    "train_df = train_df.replace([np.inf, -np.inf], np.nan).dropna()\n",
    "test_df = test_df.replace([np.inf, -np.inf], np.nan).dropna()"
   ]
  },
  {
   "cell_type": "code",
   "execution_count": 50,
   "metadata": {},
   "outputs": [],
   "source": [
    "from sklearn.preprocessing import StandardScaler\n",
    "from sklearn.preprocessing import LabelEncoder\n",
    "\n",
    "# Rename the column\n",
    "train_df.rename(columns={\"AvgPowerFactor\": \"MeanPF\"}, inplace=True)\n",
    "test_df.rename(columns={\"AvgPowerFactor\": \"MeanPF\"}, inplace=True)\n",
    "\n",
    "# Encode the labels\n",
    "label_encoder = LabelEncoder()\n",
    "train_df[\"Label\"] = label_encoder.fit_transform(train_df[\"Label\"])\n",
    "test_df[\"Label\"] = label_encoder.transform(test_df[\"Label\"])"
   ]
  },
  {
   "cell_type": "code",
   "execution_count": null,
   "metadata": {},
   "outputs": [],
   "source": [
    "print(f\"[+] Label Encoder Classes: {label_encoder.classes_}\")\n",
    "np.save(f\"/opt/nilm-shared-data/nilm_device_detection/iawe/utils/label_encoder_classes.npy\", label_encoder.classes_)"
   ]
  },
  {
   "cell_type": "code",
   "execution_count": 39,
   "metadata": {},
   "outputs": [],
   "source": [
    "# Normalize data\n",
    "scaler = StandardScaler()\n",
    "scaled_train_df = train_df[['Irms', 'P', 'MeanPF', 'Q', 'S']].copy()\n",
    "scaled_test_df = test_df[['Irms', 'P', 'MeanPF', 'Q', 'S']].copy()\n",
    "\n",
    "# Normalize the data\n",
    "scaled_train_df = pd.DataFrame(scaler.fit_transform(scaled_train_df), columns=scaled_train_df.columns)\n",
    "scaled_test_df = pd.DataFrame(scaler.transform(scaled_test_df), columns=scaled_test_df.columns)\n",
    "scaled_train_df[\"Label\"] = train_df[\"Label\"]\n",
    "scaled_test_df[\"Label\"] = test_df[\"Label\"]\n",
    "scaled_train_df[\"unix_ts\"] = train_df[\"unix_ts\"]\n",
    "scaled_test_df[\"unix_ts\"] = test_df[\"unix_ts\"]"
   ]
  },
  {
   "cell_type": "code",
   "execution_count": 43,
   "metadata": {},
   "outputs": [
    {
     "data": {
      "text/plain": [
       "['/opt/nilm-shared-data/nilm_device_detection/iawe/utils/scaler.joblib']"
      ]
     },
     "execution_count": 43,
     "metadata": {},
     "output_type": "execute_result"
    }
   ],
   "source": [
    "from joblib import dump\n",
    "dump(scaler, \"/opt/nilm-shared-data/nilm_device_detection/iawe/utils/scaler.joblib\")"
   ]
  },
  {
   "cell_type": "code",
   "execution_count": 53,
   "metadata": {},
   "outputs": [
    {
     "name": "stdout",
     "output_type": "stream",
     "text": [
      "[+] Saving train, val and test dataframes: /opt/nilm-shared-data/nilm_device_detection/iawe/train_test_data\n"
     ]
    }
   ],
   "source": [
    "# Save the dataframes\n",
    "saved_path = \"/opt/nilm-shared-data/nilm_device_detection/iawe/train_test_data\"\n",
    "print(f\"[+] Saving train, val and test dataframes: {saved_path}\")\n",
    "train_df.to_csv(f\"{saved_path}/iawe_train.csv\", index=False)\n",
    "test_df.to_csv(f\"{saved_path}/iawe_test.csv\", index=False)"
   ]
  }
 ],
 "metadata": {
  "kernelspec": {
   "display_name": "mylab-nilm-env",
   "language": "python",
   "name": "python3"
  },
  "language_info": {
   "codemirror_mode": {
    "name": "ipython",
    "version": 3
   },
   "file_extension": ".py",
   "mimetype": "text/x-python",
   "name": "python",
   "nbconvert_exporter": "python",
   "pygments_lexer": "ipython3",
   "version": "3.12.1"
  }
 },
 "nbformat": 4,
 "nbformat_minor": 2
}
