{
 "cells": [
  {
   "cell_type": "code",
   "execution_count": 1,
   "metadata": {},
   "outputs": [],
   "source": [
    "# import sys\n",
    "# sys.path.append(\"../../common\")\n",
    "import pandas as pd\n",
    "import numpy as np\n",
    "import matplotlib.pyplot as plt\n",
    "import seaborn as sns   \n",
    "from nilm_dao import get_vndale2_data\n",
    "font = {'size': 18}\n",
    "plt.rc('font', **font)\n",
    "from utils import count_labels"
   ]
  },
  {
   "cell_type": "code",
   "execution_count": 3,
   "metadata": {},
   "outputs": [
    {
     "name": "stderr",
     "output_type": "stream",
     "text": [
      "Getting train data - window size: 1800: 100%|██████████| 256/256 [01:57<00:00,  2.18it/s]\n",
      "Getting test data - window size: 1800: 100%|██████████| 256/256 [00:14<00:00, 17.36it/s]\n",
      "Getting val data - window size: 1800: 100%|██████████| 256/256 [00:15<00:00, 16.94it/s]\n"
     ]
    }
   ],
   "source": [
    "train_data = get_vndale2_data(\"train\", 1800)\n",
    "test_data = get_vndale2_data(\"test\", 1800)\n",
    "val_data = get_vndale2_data(\"val\", 1800)"
   ]
  },
  {
   "cell_type": "code",
   "execution_count": 4,
   "metadata": {},
   "outputs": [
    {
     "name": "stdout",
     "output_type": "stream",
     "text": [
      "23333400 2719800 2752200\n",
      "0.8100356183215647 0.09441979628819597 0.09554458539023933\n"
     ]
    }
   ],
   "source": [
    "print(len(train_data), len(test_data), len(val_data))\n",
    "no_data = len(train_data) + len(test_data) + len(val_data)\n",
    "percentage_train = len(train_data) / no_data\n",
    "percentage_test = len(test_data) / no_data\n",
    "percentage_val = len(val_data) / no_data\n",
    "print(percentage_train, percentage_test, percentage_val)"
   ]
  },
  {
   "cell_type": "code",
   "execution_count": 5,
   "metadata": {},
   "outputs": [],
   "source": [
    "train_labels = train_data.select(\"Label\").to_numpy()\n",
    "test_labels = test_data.select(\"Label\").to_numpy()\n",
    "val_labels = val_data.select(\"Label\").to_numpy()"
   ]
  },
  {
   "cell_type": "code",
   "execution_count": 7,
   "metadata": {},
   "outputs": [],
   "source": [
    "from sklearn.preprocessing import LabelEncoder\n",
    "label_encoder = LabelEncoder()\n",
    "label_encoder.classes_ = np.load(\"/opt/nilm-shared-data/nilm_device_detection/VNDALE_v2/label_encoder/labels.npy\", allow_pickle=True)"
   ]
  },
  {
   "cell_type": "code",
   "execution_count": 9,
   "metadata": {},
   "outputs": [
    {
     "name": "stderr",
     "output_type": "stream",
     "text": [
      "/opt/miniconda3/envs/mylab-nilm-env/lib/python3.12/site-packages/sklearn/preprocessing/_label.py:153: DataConversionWarning: A column-vector y was passed when a 1d array was expected. Please change the shape of y to (n_samples, ), for example using ravel().\n",
      "  y = column_or_1d(y, warn=True)\n",
      "/opt/miniconda3/envs/mylab-nilm-env/lib/python3.12/site-packages/sklearn/preprocessing/_label.py:153: DataConversionWarning: A column-vector y was passed when a 1d array was expected. Please change the shape of y to (n_samples, ), for example using ravel().\n",
      "  y = column_or_1d(y, warn=True)\n",
      "/opt/miniconda3/envs/mylab-nilm-env/lib/python3.12/site-packages/sklearn/preprocessing/_label.py:153: DataConversionWarning: A column-vector y was passed when a 1d array was expected. Please change the shape of y to (n_samples, ), for example using ravel().\n",
      "  y = column_or_1d(y, warn=True)\n"
     ]
    }
   ],
   "source": [
    "train_labels = label_encoder.inverse_transform(train_labels)\n",
    "test_labels = label_encoder.inverse_transform(test_labels)\n",
    "val_labels = label_encoder.inverse_transform(val_labels)"
   ]
  },
  {
   "cell_type": "code",
   "execution_count": 10,
   "metadata": {},
   "outputs": [
    {
     "data": {
      "text/plain": [
       "array(['led_sacdt_saclt_tulanh', 'led_sacdt_saclt_tulanh',\n",
       "       'led_sacdt_saclt_tulanh', ..., 'maysay_saclt_tulanh',\n",
       "       'maysay_saclt_tulanh', 'maysay_saclt_tulanh'], dtype='<U47')"
      ]
     },
     "execution_count": 10,
     "metadata": {},
     "output_type": "execute_result"
    }
   ],
   "source": [
    "train_labels"
   ]
  },
  {
   "cell_type": "code",
   "execution_count": 12,
   "metadata": {},
   "outputs": [],
   "source": [
    "train_labels_count = count_labels(train_labels)\n",
    "test_labels_count = count_labels(test_labels)\n",
    "val_labels_count = count_labels(val_labels)"
   ]
  },
  {
   "cell_type": "code",
   "execution_count": 30,
   "metadata": {},
   "outputs": [
    {
     "data": {
      "text/plain": [
       "{1: {'train': 826200, 'test': 95400, 'val': 97200},\n",
       " 2: {'train': 2763000, 'test': 318600, 'val': 325800},\n",
       " 3: {'train': 5185800, 'test': 606600, 'val': 608400},\n",
       " 4: {'train': 6390000, 'test': 748800, 'val': 759600},\n",
       " 5: {'train': 4863600, 'test': 563400, 'val': 570600},\n",
       " 6: {'train': 2410200, 'test': 280800, 'val': 284400},\n",
       " 7: {'train': 711000, 'test': 84600, 'val': 84600},\n",
       " 8: {'train': 75600, 'test': 9000, 'val': 9000},\n",
       " 0: {'train': 108000, 'test': 12600, 'val': 12600}}"
      ]
     },
     "execution_count": 30,
     "metadata": {},
     "output_type": "execute_result"
    }
   ],
   "source": [
    "data_per_no_device = {}\n",
    "for key in train_labels_count.keys():\n",
    "    # print(key, train_labels_count[key], test_labels_count[key], val_labels_count[key])\n",
    "    if key == \"nodevice\":\n",
    "        data_per_no_device[0] = {}\n",
    "        data_per_no_device[0][\"train\"] = train_labels_count[key]\n",
    "        data_per_no_device[0][\"test\"] = test_labels_count[key]\n",
    "        data_per_no_device[0][\"val\"] = val_labels_count[key]\n",
    "        continue\n",
    "    devices = key.split(\"_\")\n",
    "    no_devices = len(devices)\n",
    "    if no_devices not in data_per_no_device:\n",
    "        data_per_no_device[no_devices] = {}\n",
    "        data_per_no_device[no_devices][\"train\"] = train_labels_count[key]\n",
    "        data_per_no_device[no_devices][\"test\"] = test_labels_count[key]\n",
    "        data_per_no_device[no_devices][\"val\"] = val_labels_count[key]\n",
    "    else:\n",
    "        data_per_no_device[no_devices][\"train\"] += train_labels_count[key]\n",
    "        data_per_no_device[no_devices][\"test\"] += test_labels_count[key]\n",
    "        data_per_no_device[no_devices][\"val\"] += val_labels_count[key]\n",
    "data_per_no_device"
   ]
  },
  {
   "cell_type": "code",
   "execution_count": 32,
   "metadata": {},
   "outputs": [
    {
     "name": "stdout",
     "output_type": "stream",
     "text": [
      "led_mayep 108000 12600 12600\n",
      "led_mayloc 108000 12600 12600\n",
      "led_maysay 109800 12600 12600\n",
      "led_quat 108000 12600 12600\n",
      "led_sacdt 93600 10800 10800\n",
      "led_saclt 100800 10800 12600\n",
      "led_tulanh 75600 9000 9000\n",
      "mayep_mayloc 100800 10800 12600\n",
      "mayep_maysay 108000 12600 12600\n",
      "mayep_quat 108000 12600 12600\n",
      "mayep_sacdt 102600 12600 12600\n",
      "mayep_saclt 108000 12600 12600\n",
      "mayep_tulanh 106200 12600 12600\n",
      "mayloc_maysay 104400 12600 12600\n",
      "mayloc_quat 108000 12600 12600\n",
      "mayloc_sacdt 100800 12600 12600\n",
      "mayloc_saclt 95400 10800 10800\n",
      "mayloc_tulanh 109800 12600 12600\n",
      "maysay_quat 108000 12600 12600\n",
      "maysay_sacdt 102600 12600 12600\n",
      "maysay_saclt 109800 12600 12600\n",
      "maysay_tulanh 108000 12600 12600\n",
      "quat_sacdt 72000 7200 9000\n",
      "quat_saclt 86400 9000 9000\n",
      "quat_tulanh 52200 5400 5400\n",
      "sacdt_saclt 72000 7200 9000\n",
      "sacdt_tulanh 104400 12600 12600\n",
      "saclt_tulanh 91800 10800 10800\n"
     ]
    }
   ],
   "source": [
    "device_num = 2\n",
    "for key in train_labels_count.keys():\n",
    "    devices = key.split(\"_\")\n",
    "    no_devices = len(devices)\n",
    "    if no_devices == device_num:\n",
    "        print(key, train_labels_count[key], test_labels_count[key], val_labels_count[key])"
   ]
  }
 ],
 "metadata": {
  "kernelspec": {
   "display_name": "mylab-nilm-env",
   "language": "python",
   "name": "python3"
  },
  "language_info": {
   "codemirror_mode": {
    "name": "ipython",
    "version": 3
   },
   "file_extension": ".py",
   "mimetype": "text/x-python",
   "name": "python",
   "nbconvert_exporter": "python",
   "pygments_lexer": "ipython3",
   "version": "3.12.1"
  }
 },
 "nbformat": 4,
 "nbformat_minor": 2
}
