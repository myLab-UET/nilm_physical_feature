{
 "cells": [
  {
   "cell_type": "code",
   "execution_count": 2,
   "metadata": {},
   "outputs": [],
   "source": [
    "import numpy as np\n",
    "import matplotlib.pyplot as plt\n",
    "from itertools import combinations\n",
    "import os\n",
    "from sklearn.preprocessing import LabelEncoder\n",
    "import pandas as pd"
   ]
  },
  {
   "cell_type": "code",
   "execution_count": 12,
   "metadata": {},
   "outputs": [
    {
     "name": "stdout",
     "output_type": "stream",
     "text": [
      "256\n"
     ]
    }
   ],
   "source": [
    "devices = [\"led\", \"mayep\", \"mayloc\", \"maysay\", \"quat\", \"sacdt\", \"saclt\", \"tulanh\"]\n",
    "possible_combinations = [[\"nodevice\"]]\n",
    "for i in range(1, len(devices)+1):\n",
    "    for c in combinations(devices, i):\n",
    "        possible_combinations.append(sorted(c))\n",
    "print(len(possible_combinations))"
   ]
  },
  {
   "cell_type": "code",
   "execution_count": 18,
   "metadata": {},
   "outputs": [
    {
     "data": {
      "text/plain": [
       "[]"
      ]
     },
     "execution_count": 18,
     "metadata": {},
     "output_type": "execute_result"
    }
   ],
   "source": [
    "existed_combinations = [sorted(f.replace(\".csv\", \"\").split(\"_\")) for f in os.listdir(f\"/opt/nilm-shared-data/nilm_device_detection/VNDALE_v2/fix_raw_data\") if f.endswith('.csv')]\n",
    "new_combinations = [comb for comb in possible_combinations if comb not in existed_combinations]\n",
    "new_combinations"
   ]
  },
  {
   "cell_type": "code",
   "execution_count": 6,
   "metadata": {},
   "outputs": [
    {
     "data": {
      "text/plain": [
       "array(['led', 'led_mayep', 'led_mayep_mayloc', 'led_mayep_mayloc_maysay',\n",
       "       'led_mayep_mayloc_maysay_quat',\n",
       "       'led_mayep_mayloc_maysay_quat_sacdt',\n",
       "       'led_mayep_mayloc_maysay_quat_sacdt_saclt',\n",
       "       'led_mayep_mayloc_maysay_quat_sacdt_saclt_tulanh',\n",
       "       'led_mayep_mayloc_maysay_quat_sacdt_tulanh',\n",
       "       'led_mayep_mayloc_maysay_quat_saclt',\n",
       "       'led_mayep_mayloc_maysay_quat_saclt_tulanh',\n",
       "       'led_mayep_mayloc_maysay_quat_tulanh',\n",
       "       'led_mayep_mayloc_maysay_sacdt',\n",
       "       'led_mayep_mayloc_maysay_sacdt_saclt',\n",
       "       'led_mayep_mayloc_maysay_sacdt_saclt_tulanh',\n",
       "       'led_mayep_mayloc_maysay_sacdt_tulanh',\n",
       "       'led_mayep_mayloc_maysay_saclt',\n",
       "       'led_mayep_mayloc_maysay_saclt_tulanh',\n",
       "       'led_mayep_mayloc_maysay_tulanh', 'led_mayep_mayloc_quat',\n",
       "       'led_mayep_mayloc_quat_sacdt', 'led_mayep_mayloc_quat_sacdt_saclt',\n",
       "       'led_mayep_mayloc_quat_sacdt_saclt_tulanh',\n",
       "       'led_mayep_mayloc_quat_sacdt_tulanh',\n",
       "       'led_mayep_mayloc_quat_saclt',\n",
       "       'led_mayep_mayloc_quat_saclt_tulanh',\n",
       "       'led_mayep_mayloc_quat_tulanh', 'led_mayep_mayloc_sacdt',\n",
       "       'led_mayep_mayloc_sacdt_saclt',\n",
       "       'led_mayep_mayloc_sacdt_saclt_tulanh',\n",
       "       'led_mayep_mayloc_sacdt_tulanh', 'led_mayep_mayloc_saclt',\n",
       "       'led_mayep_mayloc_saclt_tulanh', 'led_mayep_mayloc_tulanh',\n",
       "       'led_mayep_maysay', 'led_mayep_maysay_quat',\n",
       "       'led_mayep_maysay_quat_sacdt', 'led_mayep_maysay_quat_sacdt_saclt',\n",
       "       'led_mayep_maysay_quat_sacdt_saclt_tulanh',\n",
       "       'led_mayep_maysay_quat_sacdt_tulanh',\n",
       "       'led_mayep_maysay_quat_saclt',\n",
       "       'led_mayep_maysay_quat_saclt_tulanh',\n",
       "       'led_mayep_maysay_quat_tulanh', 'led_mayep_maysay_sacdt',\n",
       "       'led_mayep_maysay_sacdt_saclt',\n",
       "       'led_mayep_maysay_sacdt_saclt_tulanh',\n",
       "       'led_mayep_maysay_sacdt_tulanh', 'led_mayep_maysay_saclt',\n",
       "       'led_mayep_maysay_saclt_tulanh', 'led_mayep_maysay_tulanh',\n",
       "       'led_mayep_quat', 'led_mayep_quat_sacdt',\n",
       "       'led_mayep_quat_sacdt_saclt', 'led_mayep_quat_sacdt_saclt_tulanh',\n",
       "       'led_mayep_quat_sacdt_tulanh', 'led_mayep_quat_saclt',\n",
       "       'led_mayep_quat_saclt_tulanh', 'led_mayep_quat_tulanh',\n",
       "       'led_mayep_sacdt', 'led_mayep_sacdt_saclt',\n",
       "       'led_mayep_sacdt_saclt_tulanh', 'led_mayep_sacdt_tulanh',\n",
       "       'led_mayep_saclt', 'led_mayep_saclt_tulanh', 'led_mayep_tulanh',\n",
       "       'led_mayloc', 'led_mayloc_maysay', 'led_mayloc_maysay_quat',\n",
       "       'led_mayloc_maysay_quat_sacdt',\n",
       "       'led_mayloc_maysay_quat_sacdt_saclt',\n",
       "       'led_mayloc_maysay_quat_sacdt_saclt_tulanh',\n",
       "       'led_mayloc_maysay_quat_sacdt_tulanh',\n",
       "       'led_mayloc_maysay_quat_saclt',\n",
       "       'led_mayloc_maysay_quat_saclt_tulanh',\n",
       "       'led_mayloc_maysay_quat_tulanh', 'led_mayloc_maysay_sacdt',\n",
       "       'led_mayloc_maysay_sacdt_saclt',\n",
       "       'led_mayloc_maysay_sacdt_saclt_tulanh',\n",
       "       'led_mayloc_maysay_sacdt_tulanh', 'led_mayloc_maysay_saclt',\n",
       "       'led_mayloc_maysay_saclt_tulanh', 'led_mayloc_maysay_tulanh',\n",
       "       'led_mayloc_quat', 'led_mayloc_quat_sacdt',\n",
       "       'led_mayloc_quat_sacdt_saclt',\n",
       "       'led_mayloc_quat_sacdt_saclt_tulanh',\n",
       "       'led_mayloc_quat_sacdt_tulanh', 'led_mayloc_quat_saclt',\n",
       "       'led_mayloc_quat_saclt_tulanh', 'led_mayloc_quat_tulanh',\n",
       "       'led_mayloc_sacdt', 'led_mayloc_sacdt_saclt',\n",
       "       'led_mayloc_sacdt_saclt_tulanh', 'led_mayloc_sacdt_tulanh',\n",
       "       'led_mayloc_saclt', 'led_mayloc_saclt_tulanh', 'led_mayloc_tulanh',\n",
       "       'led_maysay', 'led_maysay_quat', 'led_maysay_quat_sacdt',\n",
       "       'led_maysay_quat_sacdt_saclt',\n",
       "       'led_maysay_quat_sacdt_saclt_tulanh',\n",
       "       'led_maysay_quat_sacdt_tulanh', 'led_maysay_quat_saclt',\n",
       "       'led_maysay_quat_saclt_tulanh', 'led_maysay_quat_tulanh',\n",
       "       'led_maysay_sacdt', 'led_maysay_sacdt_saclt',\n",
       "       'led_maysay_sacdt_saclt_tulanh', 'led_maysay_sacdt_tulanh',\n",
       "       'led_maysay_saclt', 'led_maysay_saclt_tulanh', 'led_maysay_tulanh',\n",
       "       'led_quat', 'led_quat_sacdt', 'led_quat_sacdt_saclt',\n",
       "       'led_quat_sacdt_saclt_tulanh', 'led_quat_sacdt_tulanh',\n",
       "       'led_quat_saclt', 'led_quat_saclt_tulanh', 'led_quat_tulanh',\n",
       "       'led_sacdt', 'led_sacdt_saclt', 'led_sacdt_saclt_tulanh',\n",
       "       'led_sacdt_tulanh', 'led_saclt', 'led_saclt_tulanh', 'led_tulanh',\n",
       "       'mayep', 'mayep_mayloc', 'mayep_mayloc_maysay',\n",
       "       'mayep_mayloc_maysay_quat', 'mayep_mayloc_maysay_quat_sacdt',\n",
       "       'mayep_mayloc_maysay_quat_sacdt_saclt',\n",
       "       'mayep_mayloc_maysay_quat_sacdt_saclt_tulanh',\n",
       "       'mayep_mayloc_maysay_quat_sacdt_tulanh',\n",
       "       'mayep_mayloc_maysay_quat_saclt',\n",
       "       'mayep_mayloc_maysay_quat_saclt_tulanh',\n",
       "       'mayep_mayloc_maysay_quat_tulanh', 'mayep_mayloc_maysay_sacdt',\n",
       "       'mayep_mayloc_maysay_sacdt_saclt',\n",
       "       'mayep_mayloc_maysay_sacdt_saclt_tulanh',\n",
       "       'mayep_mayloc_maysay_sacdt_tulanh', 'mayep_mayloc_maysay_saclt',\n",
       "       'mayep_mayloc_maysay_saclt_tulanh', 'mayep_mayloc_maysay_tulanh',\n",
       "       'mayep_mayloc_quat', 'mayep_mayloc_quat_sacdt',\n",
       "       'mayep_mayloc_quat_sacdt_saclt',\n",
       "       'mayep_mayloc_quat_sacdt_saclt_tulanh',\n",
       "       'mayep_mayloc_quat_sacdt_tulanh', 'mayep_mayloc_quat_saclt',\n",
       "       'mayep_mayloc_quat_saclt_tulanh', 'mayep_mayloc_quat_tulanh',\n",
       "       'mayep_mayloc_sacdt', 'mayep_mayloc_sacdt_saclt',\n",
       "       'mayep_mayloc_sacdt_saclt_tulanh', 'mayep_mayloc_sacdt_tulanh',\n",
       "       'mayep_mayloc_saclt', 'mayep_mayloc_saclt_tulanh',\n",
       "       'mayep_mayloc_tulanh', 'mayep_maysay', 'mayep_maysay_quat',\n",
       "       'mayep_maysay_quat_sacdt', 'mayep_maysay_quat_sacdt_saclt',\n",
       "       'mayep_maysay_quat_sacdt_saclt_tulanh',\n",
       "       'mayep_maysay_quat_sacdt_tulanh', 'mayep_maysay_quat_saclt',\n",
       "       'mayep_maysay_quat_saclt_tulanh', 'mayep_maysay_quat_tulanh',\n",
       "       'mayep_maysay_sacdt', 'mayep_maysay_sacdt_saclt',\n",
       "       'mayep_maysay_sacdt_saclt_tulanh', 'mayep_maysay_sacdt_tulanh',\n",
       "       'mayep_maysay_saclt', 'mayep_maysay_saclt_tulanh',\n",
       "       'mayep_maysay_tulanh', 'mayep_quat', 'mayep_quat_sacdt',\n",
       "       'mayep_quat_sacdt_saclt', 'mayep_quat_sacdt_saclt_tulanh',\n",
       "       'mayep_quat_sacdt_tulanh', 'mayep_quat_saclt',\n",
       "       'mayep_quat_saclt_tulanh', 'mayep_quat_tulanh', 'mayep_sacdt',\n",
       "       'mayep_sacdt_saclt', 'mayep_sacdt_saclt_tulanh',\n",
       "       'mayep_sacdt_tulanh', 'mayep_saclt', 'mayep_saclt_tulanh',\n",
       "       'mayep_tulanh', 'mayloc', 'mayloc_maysay', 'mayloc_maysay_quat',\n",
       "       'mayloc_maysay_quat_sacdt', 'mayloc_maysay_quat_sacdt_saclt',\n",
       "       'mayloc_maysay_quat_sacdt_saclt_tulanh',\n",
       "       'mayloc_maysay_quat_sacdt_tulanh', 'mayloc_maysay_quat_saclt',\n",
       "       'mayloc_maysay_quat_saclt_tulanh', 'mayloc_maysay_quat_tulanh',\n",
       "       'mayloc_maysay_sacdt', 'mayloc_maysay_sacdt_saclt',\n",
       "       'mayloc_maysay_sacdt_saclt_tulanh', 'mayloc_maysay_sacdt_tulanh',\n",
       "       'mayloc_maysay_saclt', 'mayloc_maysay_saclt_tulanh',\n",
       "       'mayloc_maysay_tulanh', 'mayloc_quat', 'mayloc_quat_sacdt',\n",
       "       'mayloc_quat_sacdt_saclt', 'mayloc_quat_sacdt_saclt_tulanh',\n",
       "       'mayloc_quat_sacdt_tulanh', 'mayloc_quat_saclt',\n",
       "       'mayloc_quat_saclt_tulanh', 'mayloc_quat_tulanh', 'mayloc_sacdt',\n",
       "       'mayloc_sacdt_saclt', 'mayloc_sacdt_saclt_tulanh',\n",
       "       'mayloc_sacdt_tulanh', 'mayloc_saclt', 'mayloc_saclt_tulanh',\n",
       "       'mayloc_tulanh', 'maysay', 'maysay_quat', 'maysay_quat_sacdt',\n",
       "       'maysay_quat_sacdt_saclt', 'maysay_quat_sacdt_saclt_tulanh',\n",
       "       'maysay_quat_sacdt_tulanh', 'maysay_quat_saclt',\n",
       "       'maysay_quat_saclt_tulanh', 'maysay_quat_tulanh', 'maysay_sacdt',\n",
       "       'maysay_sacdt_saclt', 'maysay_sacdt_saclt_tulanh',\n",
       "       'maysay_sacdt_tulanh', 'maysay_saclt', 'maysay_saclt_tulanh',\n",
       "       'maysay_tulanh', 'nodevice', 'quat', 'quat_sacdt',\n",
       "       'quat_sacdt_saclt', 'quat_sacdt_saclt_tulanh', 'quat_sacdt_tulanh',\n",
       "       'quat_saclt', 'quat_saclt_tulanh', 'quat_tulanh', 'sacdt',\n",
       "       'sacdt_saclt', 'sacdt_saclt_tulanh', 'sacdt_tulanh', 'saclt',\n",
       "       'saclt_tulanh', 'tulanh'], dtype='<U47')"
      ]
     },
     "execution_count": 6,
     "metadata": {},
     "output_type": "execute_result"
    }
   ],
   "source": [
    "BASE_PATH = \"/opt/nilm-shared-data/nilm_device_detection/VNDALE_v2\"\n",
    "classes = np.load(f\"{BASE_PATH}/data_information/labels.npy\", allow_pickle=True)\n",
    "classes"
   ]
  },
  {
   "cell_type": "code",
   "execution_count": 14,
   "metadata": {},
   "outputs": [
    {
     "data": {
      "text/plain": [
       "240"
      ]
     },
     "execution_count": 14,
     "metadata": {},
     "output_type": "execute_result"
    }
   ],
   "source": [
    "label_encoder = LabelEncoder()\n",
    "label_encoder.classes_ = np.load(f\"{BASE_PATH}/data_information/labels.npy\", allow_pickle=True)\n",
    "def get_data(csv_file, label_encoder: LabelEncoder):\n",
    "    device_comb_name = csv_file.replace(\".csv\", \"\")\n",
    "    file_path = f\"{BASE_PATH}/fix_raw_data/{csv_file}\"\n",
    "    if os.path.isfile(file_path):\n",
    "        df = pd.read_csv(file_path)\n",
    "        if df.shape[0] == 0:\n",
    "            return None, None, None, None\n",
    "        train_size = int(0.8 * len(df))\n",
    "        val_size = int(0.1 * len(df))\n",
    "        train_df = df.iloc[:train_size]\n",
    "        val_df = df.iloc[train_size:train_size + val_size]\n",
    "        test_df = df.iloc[train_size + val_size:]\n",
    "        return train_df, val_df, test_df, label_encoder.transform([device_comb_name])[0]\n",
    "    return None, None, None, None\n",
    "\n",
    "train_df, val_df, test_df, label = get_data(\"nodevice.csv\", label_encoder)\n",
    "label"
   ]
  }
 ],
 "metadata": {
  "kernelspec": {
   "display_name": "mylab-nilm-env",
   "language": "python",
   "name": "python3"
  },
  "language_info": {
   "codemirror_mode": {
    "name": "ipython",
    "version": 3
   },
   "file_extension": ".py",
   "mimetype": "text/x-python",
   "name": "python",
   "nbconvert_exporter": "python",
   "pygments_lexer": "ipython3",
   "version": "3.12.1"
  }
 },
 "nbformat": 4,
 "nbformat_minor": 2
}
