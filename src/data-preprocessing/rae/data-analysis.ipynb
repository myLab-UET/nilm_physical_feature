{
 "cells": [
  {
   "cell_type": "code",
   "execution_count": 1,
   "metadata": {},
   "outputs": [],
   "source": [
    "import pandas as pd\n",
    "import polars as pl\n",
    "import numpy as np\n",
    "import os\n",
    "from sklearn.model_selection import train_test_split\n",
    "from nilm_pre_processing import NilmPreProcessing\n",
    "from tqdm.notebook import tqdm\n",
    "from utils import *\n",
    "from nilm_dao import *"
   ]
  },
  {
   "cell_type": "code",
   "execution_count": 2,
   "metadata": {},
   "outputs": [],
   "source": [
    "train_df = get_rae_data(\"train\", False).to_pandas()\n",
    "test_df = get_rae_data(\"test\", False).to_pandas()\n",
    "rae_label_encoder = get_label_encoder(\"rae\")"
   ]
  },
  {
   "cell_type": "code",
   "execution_count": 3,
   "metadata": {},
   "outputs": [],
   "source": [
    "train_df[\"Label\"] = rae_label_encoder.inverse_transform(train_df[\"Label\"])\n",
    "test_df[\"Label\"] = rae_label_encoder.inverse_transform(test_df[\"Label\"])"
   ]
  },
  {
   "cell_type": "markdown",
   "metadata": {},
   "source": [
    "# Ananlyze Power range"
   ]
  },
  {
   "cell_type": "code",
   "execution_count": 4,
   "metadata": {},
   "outputs": [
    {
     "data": {
      "application/vnd.microsoft.datawrangler.viewer.v0+json": {
       "columns": [
        {
         "name": "index",
         "rawType": "int64",
         "type": "integer"
        },
        {
         "name": "unix_ts",
         "rawType": "int64",
         "type": "integer"
        },
        {
         "name": "Irms",
         "rawType": "float64",
         "type": "float"
        },
        {
         "name": "P",
         "rawType": "int64",
         "type": "integer"
        },
        {
         "name": "MeanPF",
         "rawType": "float64",
         "type": "float"
        },
        {
         "name": "Q",
         "rawType": "int64",
         "type": "integer"
        },
        {
         "name": "S",
         "rawType": "int64",
         "type": "integer"
        },
        {
         "name": "Label",
         "rawType": "object",
         "type": "string"
        }
       ],
       "conversionMethod": "pd.DataFrame",
       "ref": "1a3aacc6-e516-4810-af44-b315e550d39e",
       "rows": [
        [
         "0",
         "1462064304",
         "0.9",
         "78",
         "0.7027027027027027",
         "5",
         "111",
         "home_office"
        ],
        [
         "1",
         "1462064305",
         "1.7",
         "179",
         "0.8647342995169082",
         "25",
         "207",
         "home_office"
        ],
        [
         "2",
         "1462064306",
         "1.7",
         "180",
         "0.8571428571428571",
         "25",
         "210",
         "home_office"
        ],
        [
         "3",
         "1462064307",
         "1.8",
         "194",
         "0.8899082568807339",
         "27",
         "218",
         "home_office"
        ],
        [
         "4",
         "1462064308",
         "1.8",
         "197",
         "0.8954545454545455",
         "27",
         "220",
         "home_office"
        ]
       ],
       "shape": {
        "columns": 7,
        "rows": 5
       }
      },
      "text/html": [
       "<div>\n",
       "<style scoped>\n",
       "    .dataframe tbody tr th:only-of-type {\n",
       "        vertical-align: middle;\n",
       "    }\n",
       "\n",
       "    .dataframe tbody tr th {\n",
       "        vertical-align: top;\n",
       "    }\n",
       "\n",
       "    .dataframe thead th {\n",
       "        text-align: right;\n",
       "    }\n",
       "</style>\n",
       "<table border=\"1\" class=\"dataframe\">\n",
       "  <thead>\n",
       "    <tr style=\"text-align: right;\">\n",
       "      <th></th>\n",
       "      <th>unix_ts</th>\n",
       "      <th>Irms</th>\n",
       "      <th>P</th>\n",
       "      <th>MeanPF</th>\n",
       "      <th>Q</th>\n",
       "      <th>S</th>\n",
       "      <th>Label</th>\n",
       "    </tr>\n",
       "  </thead>\n",
       "  <tbody>\n",
       "    <tr>\n",
       "      <th>0</th>\n",
       "      <td>1462064304</td>\n",
       "      <td>0.9</td>\n",
       "      <td>78</td>\n",
       "      <td>0.702703</td>\n",
       "      <td>5</td>\n",
       "      <td>111</td>\n",
       "      <td>home_office</td>\n",
       "    </tr>\n",
       "    <tr>\n",
       "      <th>1</th>\n",
       "      <td>1462064305</td>\n",
       "      <td>1.7</td>\n",
       "      <td>179</td>\n",
       "      <td>0.864734</td>\n",
       "      <td>25</td>\n",
       "      <td>207</td>\n",
       "      <td>home_office</td>\n",
       "    </tr>\n",
       "    <tr>\n",
       "      <th>2</th>\n",
       "      <td>1462064306</td>\n",
       "      <td>1.7</td>\n",
       "      <td>180</td>\n",
       "      <td>0.857143</td>\n",
       "      <td>25</td>\n",
       "      <td>210</td>\n",
       "      <td>home_office</td>\n",
       "    </tr>\n",
       "    <tr>\n",
       "      <th>3</th>\n",
       "      <td>1462064307</td>\n",
       "      <td>1.8</td>\n",
       "      <td>194</td>\n",
       "      <td>0.889908</td>\n",
       "      <td>27</td>\n",
       "      <td>218</td>\n",
       "      <td>home_office</td>\n",
       "    </tr>\n",
       "    <tr>\n",
       "      <th>4</th>\n",
       "      <td>1462064308</td>\n",
       "      <td>1.8</td>\n",
       "      <td>197</td>\n",
       "      <td>0.895455</td>\n",
       "      <td>27</td>\n",
       "      <td>220</td>\n",
       "      <td>home_office</td>\n",
       "    </tr>\n",
       "  </tbody>\n",
       "</table>\n",
       "</div>"
      ],
      "text/plain": [
       "      unix_ts  Irms    P    MeanPF   Q    S        Label\n",
       "0  1462064304   0.9   78  0.702703   5  111  home_office\n",
       "1  1462064305   1.7  179  0.864734  25  207  home_office\n",
       "2  1462064306   1.7  180  0.857143  25  210  home_office\n",
       "3  1462064307   1.8  194  0.889908  27  218  home_office\n",
       "4  1462064308   1.8  197  0.895455  27  220  home_office"
      ]
     },
     "execution_count": 4,
     "metadata": {},
     "output_type": "execute_result"
    }
   ],
   "source": [
    "train_df.head()"
   ]
  },
  {
   "cell_type": "code",
   "execution_count": 5,
   "metadata": {},
   "outputs": [],
   "source": [
    "nilm_pp = NilmPreProcessing()"
   ]
  },
  {
   "cell_type": "code",
   "execution_count": 6,
   "metadata": {},
   "outputs": [
    {
     "data": {
      "text/plain": [
       "{'basement_blue_plugs': 301912,\n",
       " 'bathrooms': 1369855,\n",
       " 'clothes_dryer_s1': 30427,\n",
       " 'clothes_dryer_s2': 54706,\n",
       " 'clothes_washer': 44271,\n",
       " 'fridge_s1': 2029157,\n",
       " 'fridge_s2': 20017,\n",
       " 'furnace_and_hot_water_unit': 4108399,\n",
       " 'garage_sub_panel': 856,\n",
       " 'heat_pump': 499987,\n",
       " 'home_office': 1737034,\n",
       " 'kitchen_counter_plugs': 37190,\n",
       " 'kitchen_dishwasher': 143726,\n",
       " 'kitchen_oven_s1': 16285,\n",
       " 'kitchen_oven_s2': 5361,\n",
       " 'kitchen_oven_s3': 2741,\n",
       " 'lp16_s1': 633971,\n",
       " 'lp20_s2': 9176,\n",
       " 'lp320_s1': 962582,\n",
       " 'lp3_s2': 20606,\n",
       " 'misc_plugs': 189084,\n",
       " 'rental_suite_sub_panel': 6119286,\n",
       " 'upstairs_bedroom_AFCI_arc-fault_plugs': 2258671,\n",
       " 'upstairs_plug_and_lights': 1462691}"
      ]
     },
     "execution_count": 6,
     "metadata": {},
     "output_type": "execute_result"
    }
   ],
   "source": [
    "train_dict = count_labels(train_df[\"Label\"])\n",
    "train_dict"
   ]
  },
  {
   "cell_type": "code",
   "execution_count": 7,
   "metadata": {},
   "outputs": [
    {
     "data": {
      "text/plain": [
       "{'basement_blue_plugs': 32976,\n",
       " 'bathrooms': 150838,\n",
       " 'clothes_dryer_s1': 3388,\n",
       " 'clothes_dryer_s2': 6048,\n",
       " 'clothes_washer': 4628,\n",
       " 'fridge_s1': 223359,\n",
       " 'fridge_s2': 2213,\n",
       " 'furnace_and_hot_water_unit': 452325,\n",
       " 'garage_sub_panel': 93,\n",
       " 'heat_pump': 55375,\n",
       " 'home_office': 192464,\n",
       " 'kitchen_counter_plugs': 4037,\n",
       " 'kitchen_dishwasher': 15869,\n",
       " 'kitchen_oven_s1': 1804,\n",
       " 'kitchen_oven_s2': 597,\n",
       " 'kitchen_oven_s3': 306,\n",
       " 'lp16_s1': 70312,\n",
       " 'lp20_s2': 1018,\n",
       " 'lp320_s1': 106739,\n",
       " 'lp3_s2': 2287,\n",
       " 'misc_plugs': 20914,\n",
       " 'rental_suite_sub_panel': 676496,\n",
       " 'upstairs_bedroom_AFCI_arc-fault_plugs': 248576,\n",
       " 'upstairs_plug_and_lights': 162281}"
      ]
     },
     "execution_count": 7,
     "metadata": {},
     "output_type": "execute_result"
    }
   ],
   "source": [
    "test_dict = count_labels(test_df[\"Label\"])\n",
    "test_dict"
   ]
  },
  {
   "cell_type": "code",
   "execution_count": 22,
   "metadata": {},
   "outputs": [
    {
     "name": "stdout",
     "output_type": "stream",
     "text": [
      "273427\n"
     ]
    },
    {
     "data": {
      "image/png": "[encoded data removed]",
      "text/plain": [
       "<Figure size 640x480 with 1 Axes>"
      ]
     },
     "metadata": {},
     "output_type": "display_data"
    }
   ],
   "source": [
    "label_name = \"lp3_s1\"\n",
    "data_df = train_df[train_df[\"Label\"] == label_name]\n",
    "print(len(data_df))\n",
    "nilm_pp.plot_distribution(array=data_df[\"P\"].to_numpy(), \n",
    "                          plot_name=label_name, \n",
    "                          unit_name=\"Watts (W)\",\n",
    "                          min=0,\n",
    "                          max=None)"
   ]
  },
  {
   "cell_type": "code",
   "execution_count": 23,
   "metadata": {},
   "outputs": [
    {
     "name": "stdout",
     "output_type": "stream",
     "text": [
      "689155\n"
     ]
    },
    {
     "data": {
      "image/png": "[encoded data removed]",
      "text/plain": [
       "<Figure size 640x480 with 1 Axes>"
      ]
     },
     "metadata": {},
     "output_type": "display_data"
    }
   ],
   "source": [
    "label_name = \"lp20_s1\"\n",
    "data_df = train_df[train_df[\"Label\"] == label_name]\n",
    "print(len(data_df))\n",
    "nilm_pp.plot_distribution(array=data_df[\"P\"].to_numpy(), \n",
    "                          plot_name=label_name, \n",
    "                          unit_name=\"Watts (W)\",\n",
    "                          min=0,\n",
    "                          max=None)"
   ]
  },
  {
   "cell_type": "code",
   "execution_count": 26,
   "metadata": {},
   "outputs": [
    {
     "data": {
      "text/html": [
       "<div>\n",
       "<style scoped>\n",
       "    .dataframe tbody tr th:only-of-type {\n",
       "        vertical-align: middle;\n",
       "    }\n",
       "\n",
       "    .dataframe tbody tr th {\n",
       "        vertical-align: top;\n",
       "    }\n",
       "\n",
       "    .dataframe thead th {\n",
       "        text-align: right;\n",
       "    }\n",
       "</style>\n",
       "<table border=\"1\" class=\"dataframe\">\n",
       "  <thead>\n",
       "    <tr style=\"text-align: right;\">\n",
       "      <th></th>\n",
       "      <th>Irms</th>\n",
       "      <th>P</th>\n",
       "      <th>MeanPF</th>\n",
       "      <th>S</th>\n",
       "      <th>Q</th>\n",
       "      <th>Label</th>\n",
       "    </tr>\n",
       "  </thead>\n",
       "  <tbody>\n",
       "    <tr>\n",
       "      <th>12798241</th>\n",
       "      <td>0.3</td>\n",
       "      <td>40</td>\n",
       "      <td>0.930233</td>\n",
       "      <td>43</td>\n",
       "      <td>13</td>\n",
       "      <td>lp3_s1</td>\n",
       "    </tr>\n",
       "    <tr>\n",
       "      <th>12798242</th>\n",
       "      <td>0.3</td>\n",
       "      <td>40</td>\n",
       "      <td>0.909091</td>\n",
       "      <td>44</td>\n",
       "      <td>13</td>\n",
       "      <td>lp3_s1</td>\n",
       "    </tr>\n",
       "    <tr>\n",
       "      <th>12798243</th>\n",
       "      <td>0.3</td>\n",
       "      <td>40</td>\n",
       "      <td>0.909091</td>\n",
       "      <td>44</td>\n",
       "      <td>13</td>\n",
       "      <td>lp3_s1</td>\n",
       "    </tr>\n",
       "    <tr>\n",
       "      <th>12798244</th>\n",
       "      <td>0.3</td>\n",
       "      <td>40</td>\n",
       "      <td>0.909091</td>\n",
       "      <td>44</td>\n",
       "      <td>13</td>\n",
       "      <td>lp3_s1</td>\n",
       "    </tr>\n",
       "    <tr>\n",
       "      <th>12798245</th>\n",
       "      <td>0.3</td>\n",
       "      <td>41</td>\n",
       "      <td>0.931818</td>\n",
       "      <td>44</td>\n",
       "      <td>13</td>\n",
       "      <td>lp3_s1</td>\n",
       "    </tr>\n",
       "  </tbody>\n",
       "</table>\n",
       "</div>"
      ],
      "text/plain": [
       "          Irms   P    MeanPF   S   Q   Label\n",
       "12798241   0.3  40  0.930233  43  13  lp3_s1\n",
       "12798242   0.3  40  0.909091  44  13  lp3_s1\n",
       "12798243   0.3  40  0.909091  44  13  lp3_s1\n",
       "12798244   0.3  40  0.909091  44  13  lp3_s1\n",
       "12798245   0.3  41  0.931818  44  13  lp3_s1"
      ]
     },
     "execution_count": 26,
     "metadata": {},
     "output_type": "execute_result"
    }
   ],
   "source": [
    "import seaborn as sns\n",
    "import matplotlib.pyplot as plt\n",
    "\n",
    "lp3_s1_df = train_df[train_df[\"Label\"] == \"lp3_s1\"]\n",
    "lp20_s1_df = train_df[train_df[\"Label\"] == \"lp20_s1\"]\n",
    "df = pd.concat([lp3_s1_df, lp20_s1_df])\n",
    "df = df[[\"Irms\", \"P\", \"MeanPF\", \"S\", \"Q\", \"Label\"]]\n",
    "df.head()"
   ]
  },
  {
   "cell_type": "code",
   "execution_count": null,
   "metadata": {},
   "outputs": [],
   "source": [
    "sns.pairplot(df, hue=\"Label\")\n",
    "plt.rcParams.update({'font.size': 18})\n",
    "plt.show()"
   ]
  },
  {
   "cell_type": "markdown",
   "metadata": {},
   "source": [
    "# Encoding labels and scaling"
   ]
  },
  {
   "cell_type": "code",
   "execution_count": 3,
   "metadata": {},
   "outputs": [
    {
     "data": {
      "text/html": [
       "<div>\n",
       "<style scoped>\n",
       "    .dataframe tbody tr th:only-of-type {\n",
       "        vertical-align: middle;\n",
       "    }\n",
       "\n",
       "    .dataframe tbody tr th {\n",
       "        vertical-align: top;\n",
       "    }\n",
       "\n",
       "    .dataframe thead th {\n",
       "        text-align: right;\n",
       "    }\n",
       "</style>\n",
       "<table border=\"1\" class=\"dataframe\">\n",
       "  <thead>\n",
       "    <tr style=\"text-align: right;\">\n",
       "      <th></th>\n",
       "      <th>unix_ts</th>\n",
       "      <th>Irms</th>\n",
       "      <th>P</th>\n",
       "      <th>MeanPF</th>\n",
       "      <th>Q</th>\n",
       "      <th>S</th>\n",
       "      <th>Label</th>\n",
       "    </tr>\n",
       "  </thead>\n",
       "  <tbody>\n",
       "    <tr>\n",
       "      <th>0</th>\n",
       "      <td>1462064304</td>\n",
       "      <td>0.9</td>\n",
       "      <td>78</td>\n",
       "      <td>0.702703</td>\n",
       "      <td>5</td>\n",
       "      <td>111</td>\n",
       "      <td>home_office</td>\n",
       "    </tr>\n",
       "    <tr>\n",
       "      <th>1</th>\n",
       "      <td>1462064305</td>\n",
       "      <td>1.7</td>\n",
       "      <td>179</td>\n",
       "      <td>0.864734</td>\n",
       "      <td>25</td>\n",
       "      <td>207</td>\n",
       "      <td>home_office</td>\n",
       "    </tr>\n",
       "    <tr>\n",
       "      <th>2</th>\n",
       "      <td>1462064306</td>\n",
       "      <td>1.7</td>\n",
       "      <td>180</td>\n",
       "      <td>0.857143</td>\n",
       "      <td>25</td>\n",
       "      <td>210</td>\n",
       "      <td>home_office</td>\n",
       "    </tr>\n",
       "    <tr>\n",
       "      <th>3</th>\n",
       "      <td>1462064307</td>\n",
       "      <td>1.8</td>\n",
       "      <td>194</td>\n",
       "      <td>0.889908</td>\n",
       "      <td>27</td>\n",
       "      <td>218</td>\n",
       "      <td>home_office</td>\n",
       "    </tr>\n",
       "    <tr>\n",
       "      <th>4</th>\n",
       "      <td>1462064308</td>\n",
       "      <td>1.8</td>\n",
       "      <td>197</td>\n",
       "      <td>0.895455</td>\n",
       "      <td>27</td>\n",
       "      <td>220</td>\n",
       "      <td>home_office</td>\n",
       "    </tr>\n",
       "  </tbody>\n",
       "</table>\n",
       "</div>"
      ],
      "text/plain": [
       "      unix_ts  Irms    P    MeanPF   Q    S        Label\n",
       "0  1462064304   0.9   78  0.702703   5  111  home_office\n",
       "1  1462064305   1.7  179  0.864734  25  207  home_office\n",
       "2  1462064306   1.7  180  0.857143  25  210  home_office\n",
       "3  1462064307   1.8  194  0.889908  27  218  home_office\n",
       "4  1462064308   1.8  197  0.895455  27  220  home_office"
      ]
     },
     "execution_count": 3,
     "metadata": {},
     "output_type": "execute_result"
    }
   ],
   "source": [
    "train_df.head()"
   ]
  },
  {
   "cell_type": "code",
   "execution_count": 4,
   "metadata": {},
   "outputs": [],
   "source": [
    "from sklearn.preprocessing import LabelEncoder, StandardScaler\n",
    "\n",
    "label_encoder = LabelEncoder()\n",
    "train_df[\"Label\"] = label_encoder.fit_transform(train_df[\"Label\"])\n",
    "test_df[\"Label\"] = label_encoder.transform(test_df[\"Label\"])"
   ]
  },
  {
   "cell_type": "code",
   "execution_count": 5,
   "metadata": {},
   "outputs": [
    {
     "data": {
      "text/html": [
       "<div>\n",
       "<style scoped>\n",
       "    .dataframe tbody tr th:only-of-type {\n",
       "        vertical-align: middle;\n",
       "    }\n",
       "\n",
       "    .dataframe tbody tr th {\n",
       "        vertical-align: top;\n",
       "    }\n",
       "\n",
       "    .dataframe thead th {\n",
       "        text-align: right;\n",
       "    }\n",
       "</style>\n",
       "<table border=\"1\" class=\"dataframe\">\n",
       "  <thead>\n",
       "    <tr style=\"text-align: right;\">\n",
       "      <th></th>\n",
       "      <th>unix_ts</th>\n",
       "      <th>Irms</th>\n",
       "      <th>P</th>\n",
       "      <th>MeanPF</th>\n",
       "      <th>Q</th>\n",
       "      <th>S</th>\n",
       "      <th>Label</th>\n",
       "    </tr>\n",
       "  </thead>\n",
       "  <tbody>\n",
       "    <tr>\n",
       "      <th>0</th>\n",
       "      <td>1462064304</td>\n",
       "      <td>0.9</td>\n",
       "      <td>78</td>\n",
       "      <td>0.702703</td>\n",
       "      <td>5</td>\n",
       "      <td>111</td>\n",
       "      <td>11</td>\n",
       "    </tr>\n",
       "    <tr>\n",
       "      <th>1</th>\n",
       "      <td>1462064305</td>\n",
       "      <td>1.7</td>\n",
       "      <td>179</td>\n",
       "      <td>0.864734</td>\n",
       "      <td>25</td>\n",
       "      <td>207</td>\n",
       "      <td>11</td>\n",
       "    </tr>\n",
       "    <tr>\n",
       "      <th>2</th>\n",
       "      <td>1462064306</td>\n",
       "      <td>1.7</td>\n",
       "      <td>180</td>\n",
       "      <td>0.857143</td>\n",
       "      <td>25</td>\n",
       "      <td>210</td>\n",
       "      <td>11</td>\n",
       "    </tr>\n",
       "    <tr>\n",
       "      <th>3</th>\n",
       "      <td>1462064307</td>\n",
       "      <td>1.8</td>\n",
       "      <td>194</td>\n",
       "      <td>0.889908</td>\n",
       "      <td>27</td>\n",
       "      <td>218</td>\n",
       "      <td>11</td>\n",
       "    </tr>\n",
       "    <tr>\n",
       "      <th>4</th>\n",
       "      <td>1462064308</td>\n",
       "      <td>1.8</td>\n",
       "      <td>197</td>\n",
       "      <td>0.895455</td>\n",
       "      <td>27</td>\n",
       "      <td>220</td>\n",
       "      <td>11</td>\n",
       "    </tr>\n",
       "  </tbody>\n",
       "</table>\n",
       "</div>"
      ],
      "text/plain": [
       "      unix_ts  Irms    P    MeanPF   Q    S  Label\n",
       "0  1462064304   0.9   78  0.702703   5  111     11\n",
       "1  1462064305   1.7  179  0.864734  25  207     11\n",
       "2  1462064306   1.7  180  0.857143  25  210     11\n",
       "3  1462064307   1.8  194  0.889908  27  218     11\n",
       "4  1462064308   1.8  197  0.895455  27  220     11"
      ]
     },
     "execution_count": 5,
     "metadata": {},
     "output_type": "execute_result"
    }
   ],
   "source": [
    "train_df.head()"
   ]
  },
  {
   "cell_type": "code",
   "execution_count": 6,
   "metadata": {},
   "outputs": [],
   "source": [
    "np.save(\"/opt/nilm-shared-data/nilm_device_detection/RAE/utils/rae_classes.npy\", label_encoder.classes_)"
   ]
  },
  {
   "cell_type": "code",
   "execution_count": 7,
   "metadata": {},
   "outputs": [],
   "source": [
    "# Normalize data\n",
    "scaler = StandardScaler()\n",
    "scaled_train_df = train_df[['Irms', 'P', 'MeanPF', 'Q', 'S']].copy()\n",
    "scaled_test_df = test_df[['Irms', 'P', 'MeanPF', 'Q', 'S']].copy()\n",
    "\n",
    "scaled_train_df[['Irms', 'P', 'MeanPF', 'Q', 'S']] = scaler.fit_transform(scaled_train_df)\n",
    "scaled_test_df[['Irms', 'P', 'MeanPF', 'Q', 'S']] = scaler.transform(scaled_test_df)"
   ]
  },
  {
   "cell_type": "code",
   "execution_count": 8,
   "metadata": {},
   "outputs": [
    {
     "data": {
      "text/html": [
       "<div>\n",
       "<style scoped>\n",
       "    .dataframe tbody tr th:only-of-type {\n",
       "        vertical-align: middle;\n",
       "    }\n",
       "\n",
       "    .dataframe tbody tr th {\n",
       "        vertical-align: top;\n",
       "    }\n",
       "\n",
       "    .dataframe thead th {\n",
       "        text-align: right;\n",
       "    }\n",
       "</style>\n",
       "<table border=\"1\" class=\"dataframe\">\n",
       "  <thead>\n",
       "    <tr style=\"text-align: right;\">\n",
       "      <th></th>\n",
       "      <th>Irms</th>\n",
       "      <th>P</th>\n",
       "      <th>MeanPF</th>\n",
       "      <th>Q</th>\n",
       "      <th>S</th>\n",
       "    </tr>\n",
       "  </thead>\n",
       "  <tbody>\n",
       "    <tr>\n",
       "      <th>0</th>\n",
       "      <td>-0.396080</td>\n",
       "      <td>-0.410506</td>\n",
       "      <td>-1.189226</td>\n",
       "      <td>-0.606768</td>\n",
       "      <td>-0.400193</td>\n",
       "    </tr>\n",
       "    <tr>\n",
       "      <th>1</th>\n",
       "      <td>-0.190371</td>\n",
       "      <td>-0.191241</td>\n",
       "      <td>0.132159</td>\n",
       "      <td>-0.300731</td>\n",
       "      <td>-0.192414</td>\n",
       "    </tr>\n",
       "    <tr>\n",
       "      <th>2</th>\n",
       "      <td>-0.190371</td>\n",
       "      <td>-0.189070</td>\n",
       "      <td>0.070250</td>\n",
       "      <td>-0.300731</td>\n",
       "      <td>-0.185921</td>\n",
       "    </tr>\n",
       "    <tr>\n",
       "      <th>3</th>\n",
       "      <td>-0.164658</td>\n",
       "      <td>-0.158677</td>\n",
       "      <td>0.337455</td>\n",
       "      <td>-0.270127</td>\n",
       "      <td>-0.168606</td>\n",
       "    </tr>\n",
       "    <tr>\n",
       "      <th>4</th>\n",
       "      <td>-0.164658</td>\n",
       "      <td>-0.152164</td>\n",
       "      <td>0.382685</td>\n",
       "      <td>-0.270127</td>\n",
       "      <td>-0.164278</td>\n",
       "    </tr>\n",
       "  </tbody>\n",
       "</table>\n",
       "</div>"
      ],
      "text/plain": [
       "       Irms         P    MeanPF         Q         S\n",
       "0 -0.396080 -0.410506 -1.189226 -0.606768 -0.400193\n",
       "1 -0.190371 -0.191241  0.132159 -0.300731 -0.192414\n",
       "2 -0.190371 -0.189070  0.070250 -0.300731 -0.185921\n",
       "3 -0.164658 -0.158677  0.337455 -0.270127 -0.168606\n",
       "4 -0.164658 -0.152164  0.382685 -0.270127 -0.164278"
      ]
     },
     "execution_count": 8,
     "metadata": {},
     "output_type": "execute_result"
    }
   ],
   "source": [
    "scaled_train_df.head()"
   ]
  },
  {
   "cell_type": "code",
   "execution_count": 9,
   "metadata": {},
   "outputs": [
    {
     "data": {
      "text/html": [
       "<div>\n",
       "<style scoped>\n",
       "    .dataframe tbody tr th:only-of-type {\n",
       "        vertical-align: middle;\n",
       "    }\n",
       "\n",
       "    .dataframe tbody tr th {\n",
       "        vertical-align: top;\n",
       "    }\n",
       "\n",
       "    .dataframe thead th {\n",
       "        text-align: right;\n",
       "    }\n",
       "</style>\n",
       "<table border=\"1\" class=\"dataframe\">\n",
       "  <thead>\n",
       "    <tr style=\"text-align: right;\">\n",
       "      <th></th>\n",
       "      <th>Irms</th>\n",
       "      <th>P</th>\n",
       "      <th>MeanPF</th>\n",
       "      <th>Q</th>\n",
       "      <th>S</th>\n",
       "    </tr>\n",
       "  </thead>\n",
       "  <tbody>\n",
       "    <tr>\n",
       "      <th>0</th>\n",
       "      <td>-0.010376</td>\n",
       "      <td>-0.002369</td>\n",
       "      <td>0.638550</td>\n",
       "      <td>-0.254825</td>\n",
       "      <td>-0.019265</td>\n",
       "    </tr>\n",
       "    <tr>\n",
       "      <th>1</th>\n",
       "      <td>-0.241799</td>\n",
       "      <td>-0.236831</td>\n",
       "      <td>0.007614</td>\n",
       "      <td>-0.331334</td>\n",
       "      <td>-0.237866</td>\n",
       "    </tr>\n",
       "    <tr>\n",
       "      <th>2</th>\n",
       "      <td>-0.241799</td>\n",
       "      <td>-0.239002</td>\n",
       "      <td>0.000978</td>\n",
       "      <td>-0.331334</td>\n",
       "      <td>-0.240030</td>\n",
       "    </tr>\n",
       "    <tr>\n",
       "      <th>3</th>\n",
       "      <td>-0.241799</td>\n",
       "      <td>-0.236831</td>\n",
       "      <td>0.007614</td>\n",
       "      <td>-0.331334</td>\n",
       "      <td>-0.237866</td>\n",
       "    </tr>\n",
       "    <tr>\n",
       "      <th>4</th>\n",
       "      <td>-0.216085</td>\n",
       "      <td>-0.230318</td>\n",
       "      <td>0.027101</td>\n",
       "      <td>-0.331334</td>\n",
       "      <td>-0.231373</td>\n",
       "    </tr>\n",
       "  </tbody>\n",
       "</table>\n",
       "</div>"
      ],
      "text/plain": [
       "       Irms         P    MeanPF         Q         S\n",
       "0 -0.010376 -0.002369  0.638550 -0.254825 -0.019265\n",
       "1 -0.241799 -0.236831  0.007614 -0.331334 -0.237866\n",
       "2 -0.241799 -0.239002  0.000978 -0.331334 -0.240030\n",
       "3 -0.241799 -0.236831  0.007614 -0.331334 -0.237866\n",
       "4 -0.216085 -0.230318  0.027101 -0.331334 -0.231373"
      ]
     },
     "execution_count": 9,
     "metadata": {},
     "output_type": "execute_result"
    }
   ],
   "source": [
    "scaled_test_df.head()"
   ]
  },
  {
   "cell_type": "code",
   "execution_count": 10,
   "metadata": {},
   "outputs": [
    {
     "data": {
      "text/plain": [
       "['/opt/nilm-shared-data/nilm_device_detection/RAE/utils/rae_scaler.joblib']"
      ]
     },
     "execution_count": 10,
     "metadata": {},
     "output_type": "execute_result"
    }
   ],
   "source": [
    "from joblib import dump, load\n",
    "dump(scaler, \"/opt/nilm-shared-data/nilm_device_detection/RAE/utils/rae_scaler.joblib\")"
   ]
  },
  {
   "cell_type": "code",
   "execution_count": 11,
   "metadata": {},
   "outputs": [
    {
     "data": {
      "text/html": [
       "<div>\n",
       "<style scoped>\n",
       "    .dataframe tbody tr th:only-of-type {\n",
       "        vertical-align: middle;\n",
       "    }\n",
       "\n",
       "    .dataframe tbody tr th {\n",
       "        vertical-align: top;\n",
       "    }\n",
       "\n",
       "    .dataframe thead th {\n",
       "        text-align: right;\n",
       "    }\n",
       "</style>\n",
       "<table border=\"1\" class=\"dataframe\">\n",
       "  <thead>\n",
       "    <tr style=\"text-align: right;\">\n",
       "      <th></th>\n",
       "      <th>unix_ts</th>\n",
       "      <th>Irms</th>\n",
       "      <th>P</th>\n",
       "      <th>MeanPF</th>\n",
       "      <th>Q</th>\n",
       "      <th>S</th>\n",
       "      <th>Label</th>\n",
       "    </tr>\n",
       "  </thead>\n",
       "  <tbody>\n",
       "    <tr>\n",
       "      <th>0</th>\n",
       "      <td>1462064304</td>\n",
       "      <td>0.9</td>\n",
       "      <td>78</td>\n",
       "      <td>0.702703</td>\n",
       "      <td>5</td>\n",
       "      <td>111</td>\n",
       "      <td>11</td>\n",
       "    </tr>\n",
       "    <tr>\n",
       "      <th>1</th>\n",
       "      <td>1462064305</td>\n",
       "      <td>1.7</td>\n",
       "      <td>179</td>\n",
       "      <td>0.864734</td>\n",
       "      <td>25</td>\n",
       "      <td>207</td>\n",
       "      <td>11</td>\n",
       "    </tr>\n",
       "    <tr>\n",
       "      <th>2</th>\n",
       "      <td>1462064306</td>\n",
       "      <td>1.7</td>\n",
       "      <td>180</td>\n",
       "      <td>0.857143</td>\n",
       "      <td>25</td>\n",
       "      <td>210</td>\n",
       "      <td>11</td>\n",
       "    </tr>\n",
       "    <tr>\n",
       "      <th>3</th>\n",
       "      <td>1462064307</td>\n",
       "      <td>1.8</td>\n",
       "      <td>194</td>\n",
       "      <td>0.889908</td>\n",
       "      <td>27</td>\n",
       "      <td>218</td>\n",
       "      <td>11</td>\n",
       "    </tr>\n",
       "    <tr>\n",
       "      <th>4</th>\n",
       "      <td>1462064308</td>\n",
       "      <td>1.8</td>\n",
       "      <td>197</td>\n",
       "      <td>0.895455</td>\n",
       "      <td>27</td>\n",
       "      <td>220</td>\n",
       "      <td>11</td>\n",
       "    </tr>\n",
       "  </tbody>\n",
       "</table>\n",
       "</div>"
      ],
      "text/plain": [
       "      unix_ts  Irms    P    MeanPF   Q    S  Label\n",
       "0  1462064304   0.9   78  0.702703   5  111     11\n",
       "1  1462064305   1.7  179  0.864734  25  207     11\n",
       "2  1462064306   1.7  180  0.857143  25  210     11\n",
       "3  1462064307   1.8  194  0.889908  27  218     11\n",
       "4  1462064308   1.8  197  0.895455  27  220     11"
      ]
     },
     "execution_count": 11,
     "metadata": {},
     "output_type": "execute_result"
    }
   ],
   "source": [
    "train_df.head()"
   ]
  },
  {
   "cell_type": "code",
   "execution_count": 12,
   "metadata": {},
   "outputs": [],
   "source": [
    "train_df.to_csv(\"/opt/nilm-shared-data/nilm_device_detection/RAE/train_test_data/train.csv\", index=False)\n",
    "test_df.to_csv(\"/opt/nilm-shared-data/nilm_device_detection/RAE/train_test_data/test.csv\", index=False)"
   ]
  }
 ],
 "metadata": {
  "kernelspec": {
   "display_name": "mylab-nilm-env",
   "language": "python",
   "name": "python3"
  },
  "language_info": {
   "codemirror_mode": {
    "name": "ipython",
    "version": 3
   },
   "file_extension": ".py",
   "mimetype": "text/x-python",
   "name": "python",
   "nbconvert_exporter": "python",
   "pygments_lexer": "ipython3",
   "version": "3.12.1"
  }
 },
 "nbformat": 4,
 "nbformat_minor": 2
}
