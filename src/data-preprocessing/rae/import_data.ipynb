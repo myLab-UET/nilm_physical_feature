{
 "cells": [
  {
   "cell_type": "code",
   "execution_count": 6,
   "metadata": {},
   "outputs": [],
   "source": [
    "from nilm_dao import get_rae_data, get_label_encoder\n",
    "from nilm_pre_processing import NilmPreProcessing"
   ]
  },
  {
   "cell_type": "code",
   "execution_count": 7,
   "metadata": {},
   "outputs": [],
   "source": [
    "nilm_pp = NilmPreProcessing()\n",
    "train_df = get_rae_data(data_type=\"train\")\n",
    "test_df = get_rae_data(data_type=\"test\")\n",
    "rae_label_encoder = get_label_encoder(\"rae\")"
   ]
  },
  {
   "cell_type": "code",
   "execution_count": 9,
   "metadata": {},
   "outputs": [],
   "source": [
    "train_labels = rae_label_encoder.inverse_transform(train_df[\"Label\"])\n",
    "test_labels = rae_label_encoder.inverse_transform(test_df[\"Label\"])"
   ]
  },
  {
   "cell_type": "code",
   "execution_count": 10,
   "metadata": {},
   "outputs": [
    {
     "data": {
      "text/plain": [
       "{'basement_blue_plugs': 301912,\n",
       " 'bathrooms': 1369855,\n",
       " 'clothes_dryer_s1': 30427,\n",
       " 'clothes_dryer_s2': 54706,\n",
       " 'clothes_washer': 44271,\n",
       " 'fridge_s1': 2029157,\n",
       " 'fridge_s2': 20017,\n",
       " 'furnace_and_hot_water_unit': 4108399,\n",
       " 'garage_sub_panel': 856,\n",
       " 'heat_pump': 499987,\n",
       " 'home_office': 1737034,\n",
       " 'kitchen_counter_plugs': 37190,\n",
       " 'kitchen_dishwasher': 143726,\n",
       " 'kitchen_oven_s1': 16285,\n",
       " 'kitchen_oven_s2': 5361,\n",
       " 'kitchen_oven_s3': 2741,\n",
       " 'lp16_s1': 633971,\n",
       " 'lp20_s2': 9176,\n",
       " 'lp320_s1': 962582,\n",
       " 'lp3_s2': 20606,\n",
       " 'misc_plugs': 189084,\n",
       " 'rental_suite_sub_panel': 6119286,\n",
       " 'upstairs_bedroom_AFCI_arc-fault_plugs': 2258671,\n",
       " 'upstairs_plug_and_lights': 1462691}"
      ]
     },
     "execution_count": 10,
     "metadata": {},
     "output_type": "execute_result"
    }
   ],
   "source": [
    "nilm_pp.count_labels(train_labels)"
   ]
  },
  {
   "cell_type": "code",
   "execution_count": 11,
   "metadata": {},
   "outputs": [
    {
     "data": {
      "text/plain": [
       "{'basement_blue_plugs': 32976,\n",
       " 'bathrooms': 150838,\n",
       " 'clothes_dryer_s1': 3388,\n",
       " 'clothes_dryer_s2': 6048,\n",
       " 'clothes_washer': 4628,\n",
       " 'fridge_s1': 223359,\n",
       " 'fridge_s2': 2213,\n",
       " 'furnace_and_hot_water_unit': 452325,\n",
       " 'garage_sub_panel': 93,\n",
       " 'heat_pump': 55375,\n",
       " 'home_office': 192464,\n",
       " 'kitchen_counter_plugs': 4037,\n",
       " 'kitchen_dishwasher': 15869,\n",
       " 'kitchen_oven_s1': 1804,\n",
       " 'kitchen_oven_s2': 597,\n",
       " 'kitchen_oven_s3': 306,\n",
       " 'lp16_s1': 70312,\n",
       " 'lp20_s2': 1018,\n",
       " 'lp320_s1': 106739,\n",
       " 'lp3_s2': 2287,\n",
       " 'misc_plugs': 20914,\n",
       " 'rental_suite_sub_panel': 676496,\n",
       " 'upstairs_bedroom_AFCI_arc-fault_plugs': 248576,\n",
       " 'upstairs_plug_and_lights': 162281}"
      ]
     },
     "execution_count": 11,
     "metadata": {},
     "output_type": "execute_result"
    }
   ],
   "source": [
    "nilm_pp.count_labels(test_labels)"
   ]
  }
 ],
 "metadata": {
  "kernelspec": {
   "display_name": "mylab-nilm-env",
   "language": "python",
   "name": "python3"
  },
  "language_info": {
   "codemirror_mode": {
    "name": "ipython",
    "version": 3
   },
   "file_extension": ".py",
   "mimetype": "text/x-python",
   "name": "python",
   "nbconvert_exporter": "python",
   "pygments_lexer": "ipython3",
   "version": "3.12.1"
  }
 },
 "nbformat": 4,
 "nbformat_minor": 2
}
