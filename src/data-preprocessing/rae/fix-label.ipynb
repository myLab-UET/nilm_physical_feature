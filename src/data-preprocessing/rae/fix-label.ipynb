{
 "cells": [
  {
   "cell_type": "code",
   "execution_count": 24,
   "metadata": {},
   "outputs": [],
   "source": [
    "from nilm_dao import *\n",
    "import pandas as pd\n",
    "import numpy as np"
   ]
  },
  {
   "cell_type": "code",
   "execution_count": 25,
   "metadata": {},
   "outputs": [],
   "source": [
    "train_df = get_rae_data(\"train\", False).to_pandas()\n",
    "val_df = get_rae_data(\"test\", False).to_pandas()\n",
    "le = get_label_encoder(\"rae\")"
   ]
  },
  {
   "cell_type": "code",
   "execution_count": 26,
   "metadata": {},
   "outputs": [],
   "source": [
    "train_df[\"Label\"] = le.inverse_transform(train_df[\"Label\"])\n",
    "val_df[\"Label\"] = le.inverse_transform(val_df[\"Label\"])"
   ]
  },
  {
   "cell_type": "code",
   "execution_count": 27,
   "metadata": {},
   "outputs": [
    {
     "data": {
      "text/plain": [
       "array(['home_office', 'bathrooms', 'basement_blue_plugs',\n",
       "       'garage_sub_panel_s2', 'garage_sub_panel_s1', 'lp16_s1',\n",
       "       'clothes_dryer_s2', 'clothes_dryer_s1', 'misc_plugs', 'heat_pump',\n",
       "       'lp20_s1', 'lp20_s2', 'rental_suite_sub_panel', 'kitchen_oven_s1',\n",
       "       'kitchen_oven_s2', 'kitchen_oven_s3', 'clothes_washer',\n",
       "       'furnace_and_hot_water_unit', 'lp3_s1', 'lp3_s2',\n",
       "       'upstairs_bedroom_AFCI_arc-fault_plugs', 'kitchen_counter_plugs',\n",
       "       'upstairs_plug_and_lights', 'kitchen_dishwasher', 'fridge_s1',\n",
       "       'fridge_s2'], dtype=object)"
      ]
     },
     "execution_count": 27,
     "metadata": {},
     "output_type": "execute_result"
    }
   ],
   "source": [
    "labels = train_df[\"Label\"].unique()\n",
    "labels"
   ]
  },
  {
   "cell_type": "code",
   "execution_count": 28,
   "metadata": {},
   "outputs": [],
   "source": [
    "train_df[\"Label\"] = train_df[\"Label\"].replace({\"lp3_s1\": \"lp320_s1\", \"lp20_s1\": \"lp320_s1\", \"garage_sub_panel_s1\": \"garage_sub_panel\", \"garage_sub_panel_s2\": \"garage_sub_panel\"})\n",
    "val_df[\"Label\"] = val_df[\"Label\"].replace({\"lp3_s1\": \"lp320_s1\", \"lp20_s1\": \"lp320_s1\", \"garage_sub_panel_s1\": \"garage_sub_panel\", \"garage_sub_panel_s2\": \"garage_sub_panel\"})"
   ]
  },
  {
   "cell_type": "code",
   "execution_count": 31,
   "metadata": {},
   "outputs": [
    {
     "data": {
      "text/plain": [
       "array(['home_office', 'bathrooms', 'basement_blue_plugs',\n",
       "       'garage_sub_panel', 'lp16_s1', 'clothes_dryer_s2',\n",
       "       'clothes_dryer_s1', 'misc_plugs', 'heat_pump', 'lp320_s1',\n",
       "       'lp20_s2', 'rental_suite_sub_panel', 'kitchen_oven_s1',\n",
       "       'kitchen_oven_s2', 'kitchen_oven_s3', 'clothes_washer',\n",
       "       'furnace_and_hot_water_unit', 'lp3_s2',\n",
       "       'upstairs_bedroom_AFCI_arc-fault_plugs', 'kitchen_counter_plugs',\n",
       "       'upstairs_plug_and_lights', 'kitchen_dishwasher', 'fridge_s1',\n",
       "       'fridge_s2'], dtype=object)"
      ]
     },
     "execution_count": 31,
     "metadata": {},
     "output_type": "execute_result"
    }
   ],
   "source": [
    "labels = train_df[\"Label\"].unique()\n",
    "labels"
   ]
  },
  {
   "cell_type": "code",
   "execution_count": 33,
   "metadata": {},
   "outputs": [],
   "source": [
    "from sklearn.preprocessing import LabelEncoder\n",
    "label_encoder = LabelEncoder()\n",
    "label_encoder.fit(train_df[\"Label\"])\n",
    "train_df[\"Label\"] = label_encoder.transform(train_df[\"Label\"].to_numpy())\n",
    "val_df[\"Label\"] = label_encoder.transform(val_df[\"Label\"].to_numpy())"
   ]
  },
  {
   "cell_type": "code",
   "execution_count": 34,
   "metadata": {},
   "outputs": [
    {
     "data": {
      "text/html": [
       "<div>\n",
       "<style scoped>\n",
       "    .dataframe tbody tr th:only-of-type {\n",
       "        vertical-align: middle;\n",
       "    }\n",
       "\n",
       "    .dataframe tbody tr th {\n",
       "        vertical-align: top;\n",
       "    }\n",
       "\n",
       "    .dataframe thead th {\n",
       "        text-align: right;\n",
       "    }\n",
       "</style>\n",
       "<table border=\"1\" class=\"dataframe\">\n",
       "  <thead>\n",
       "    <tr style=\"text-align: right;\">\n",
       "      <th></th>\n",
       "      <th>unix_ts</th>\n",
       "      <th>Irms</th>\n",
       "      <th>P</th>\n",
       "      <th>MeanPF</th>\n",
       "      <th>Q</th>\n",
       "      <th>S</th>\n",
       "      <th>Label</th>\n",
       "    </tr>\n",
       "  </thead>\n",
       "  <tbody>\n",
       "    <tr>\n",
       "      <th>0</th>\n",
       "      <td>1462064304</td>\n",
       "      <td>0.9</td>\n",
       "      <td>78</td>\n",
       "      <td>0.702703</td>\n",
       "      <td>5</td>\n",
       "      <td>111</td>\n",
       "      <td>10</td>\n",
       "    </tr>\n",
       "    <tr>\n",
       "      <th>1</th>\n",
       "      <td>1462064305</td>\n",
       "      <td>1.7</td>\n",
       "      <td>179</td>\n",
       "      <td>0.864734</td>\n",
       "      <td>25</td>\n",
       "      <td>207</td>\n",
       "      <td>10</td>\n",
       "    </tr>\n",
       "    <tr>\n",
       "      <th>2</th>\n",
       "      <td>1462064306</td>\n",
       "      <td>1.7</td>\n",
       "      <td>180</td>\n",
       "      <td>0.857143</td>\n",
       "      <td>25</td>\n",
       "      <td>210</td>\n",
       "      <td>10</td>\n",
       "    </tr>\n",
       "    <tr>\n",
       "      <th>3</th>\n",
       "      <td>1462064307</td>\n",
       "      <td>1.8</td>\n",
       "      <td>194</td>\n",
       "      <td>0.889908</td>\n",
       "      <td>27</td>\n",
       "      <td>218</td>\n",
       "      <td>10</td>\n",
       "    </tr>\n",
       "    <tr>\n",
       "      <th>4</th>\n",
       "      <td>1462064308</td>\n",
       "      <td>1.8</td>\n",
       "      <td>197</td>\n",
       "      <td>0.895455</td>\n",
       "      <td>27</td>\n",
       "      <td>220</td>\n",
       "      <td>10</td>\n",
       "    </tr>\n",
       "  </tbody>\n",
       "</table>\n",
       "</div>"
      ],
      "text/plain": [
       "      unix_ts  Irms    P    MeanPF   Q    S  Label\n",
       "0  1462064304   0.9   78  0.702703   5  111     10\n",
       "1  1462064305   1.7  179  0.864734  25  207     10\n",
       "2  1462064306   1.7  180  0.857143  25  210     10\n",
       "3  1462064307   1.8  194  0.889908  27  218     10\n",
       "4  1462064308   1.8  197  0.895455  27  220     10"
      ]
     },
     "execution_count": 34,
     "metadata": {},
     "output_type": "execute_result"
    }
   ],
   "source": [
    "train_df.head()"
   ]
  },
  {
   "cell_type": "code",
   "execution_count": 35,
   "metadata": {},
   "outputs": [],
   "source": [
    "np.save(\"/opt/nilm-shared-data/nilm_device_detection/RAE/utils/fix_classes.npy\", label_encoder.classes_)"
   ]
  },
  {
   "cell_type": "code",
   "execution_count": 36,
   "metadata": {},
   "outputs": [],
   "source": [
    "train_df.to_csv(\"/opt/nilm-shared-data/nilm_device_detection/RAE/train_test_data/fix_train.csv\", index=False)\n",
    "val_df.to_csv(\"/opt/nilm-shared-data/nilm_device_detection/RAE/train_test_data/fix_test.csv\", index=False)"
   ]
  }
 ],
 "metadata": {
  "kernelspec": {
   "display_name": "mylab-nilm-env",
   "language": "python",
   "name": "python3"
  },
  "language_info": {
   "codemirror_mode": {
    "name": "ipython",
    "version": 3
   },
   "file_extension": ".py",
   "mimetype": "text/x-python",
   "name": "python",
   "nbconvert_exporter": "python",
   "pygments_lexer": "ipython3",
   "version": "3.12.1"
  }
 },
 "nbformat": 4,
 "nbformat_minor": 2
}
