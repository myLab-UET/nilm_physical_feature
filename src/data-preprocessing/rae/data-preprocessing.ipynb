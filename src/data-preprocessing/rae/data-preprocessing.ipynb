{
 "cells": [
  {
   "cell_type": "code",
   "execution_count": 1,
   "metadata": {},
   "outputs": [],
   "source": [
    "import pandas as pd\n",
    "import polars as pl\n",
    "import numpy as np\n",
    "import os\n",
    "from sklearn.model_selection import train_test_split\n",
    "from nilm_pre_processing import NilmPreProcessing\n",
    "from tqdm.notebook import tqdm"
   ]
  },
  {
   "cell_type": "code",
   "execution_count": 2,
   "metadata": {},
   "outputs": [],
   "source": [
    "nilm_pp = NilmPreProcessing()"
   ]
  },
  {
   "cell_type": "code",
   "execution_count": 3,
   "metadata": {},
   "outputs": [
    {
     "data": {
      "application/vnd.jupyter.widget-view+json": {
       "model_id": "c904e2230b134951bed5b51e37cc3ede",
       "version_major": 2,
       "version_minor": 0
      },
      "text/plain": [
       "Overall Progress, file skips 0:   0%|          | 0/20 [00:00<?, ?it/s]"
      ]
     },
     "metadata": {},
     "output_type": "display_data"
    },
    {
     "data": {
      "application/vnd.jupyter.widget-view+json": {
       "model_id": "8399eaa2e19c45b185d68a6abae1cca2",
       "version_major": 2,
       "version_minor": 0
      },
      "text/plain": [
       "Processing Appliance: home_office:   0%|          | 0/1088 [00:00<?, ?it/s]"
      ]
     },
     "metadata": {},
     "output_type": "display_data"
    },
    {
     "name": "stderr",
     "output_type": "stream",
     "text": [
      "Exception ignored in: <function ZipFile.__del__ at 0x759cb2974180>\n",
      "Traceback (most recent call last):\n",
      "  File \"/opt/miniconda3/envs/mylab-nilm-env/lib/python3.12/zipfile/__init__.py\", line 1915, in __del__\n",
      "    def __del__(self):\n",
      "\n",
      "KeyboardInterrupt: \n"
     ]
    },
    {
     "ename": "",
     "evalue": "",
     "output_type": "error",
     "traceback": [
      "\u001b[1;31mCannot execute code, session has been disposed. Please try restarting the Kernel."
     ]
    },
    {
     "ename": "",
     "evalue": "",
     "output_type": "error",
     "traceback": [
      "\u001b[1;31mCannot execute code, session has been disposed. Please try restarting the Kernel. \n",
      "\u001b[1;31mView Jupyter <a href='command:jupyter.viewOutput'>log</a> for further details."
     ]
    }
   ],
   "source": [
    "label_data_dir = \"/opt/nilm-shared-data/nilm_device_detection/RAE/transform_data/labeled_data\"\n",
    "train_df, test_df = None, None\n",
    "file_skips = 0\n",
    "for appliance in tqdm(os.listdir(label_data_dir), desc=\"Overall Progress, file skips {}\".format(file_skips)):\n",
    "    dir_path = os.path.join(label_data_dir, appliance)\n",
    "    for files in tqdm(os.listdir(dir_path), desc=\"Processing Appliance: {}\".format(appliance)):\n",
    "        if files.endswith(\".xlsx\"):\n",
    "            # Read the data\n",
    "            df = pd.read_excel(os.path.join(dir_path, files))\n",
    "            df.rename(columns={\"pf\": \"MeanPF\", \"label\": \"Label\"}, inplace=True)\n",
    "            df = df[[\"unix_ts\", \"Irms\", \"P\", \"MeanPF\", \"Q\", \"S\", \"Label\"]]\n",
    "            if len(df) < 10:\n",
    "                file_skips += 1\n",
    "                continue\n",
    "            df = df.sort_values(\"unix_ts\")\n",
    "            df = df.reset_index(drop=True)\n",
    "            df = df.dropna()\n",
    "            \n",
    "            # Preprocess the data\n",
    "            train_arr, test_arr = [], [] \n",
    "            for i in range(0, len(df), 10):\n",
    "                train_arr.extend(df.iloc[i:i+9].to_dict('records'))\n",
    "                if i + 9 < len(df):\n",
    "                    test_arr.append(df.iloc[i+9].to_dict())\n",
    "            current_train_df = pd.DataFrame(train_arr)\n",
    "            current_test_df = pd.DataFrame(test_arr)\n",
    "            \n",
    "            # If the current dataframe is empty, skip it\n",
    "            if current_train_df.empty or current_test_df.empty:\n",
    "                continue\n",
    "            else:\n",
    "                if train_df is None:\n",
    "                    train_df = current_train_df\n",
    "                    test_df = current_test_df\n",
    "                else:\n",
    "                    train_df = pd.concat([train_df, current_train_df], ignore_index=True)\n",
    "                    test_df = pd.concat([test_df, current_test_df], ignore_index=True)"
   ]
  },
  {
   "cell_type": "code",
   "execution_count": null,
   "metadata": {},
   "outputs": [
    {
     "data": {
      "text/html": [
       "<div>\n",
       "<style scoped>\n",
       "    .dataframe tbody tr th:only-of-type {\n",
       "        vertical-align: middle;\n",
       "    }\n",
       "\n",
       "    .dataframe tbody tr th {\n",
       "        vertical-align: top;\n",
       "    }\n",
       "\n",
       "    .dataframe thead th {\n",
       "        text-align: right;\n",
       "    }\n",
       "</style>\n",
       "<table border=\"1\" class=\"dataframe\">\n",
       "  <thead>\n",
       "    <tr style=\"text-align: right;\">\n",
       "      <th></th>\n",
       "      <th>unix_ts</th>\n",
       "      <th>Irms</th>\n",
       "      <th>P</th>\n",
       "      <th>MeanPF</th>\n",
       "      <th>Q</th>\n",
       "      <th>S</th>\n",
       "      <th>Label</th>\n",
       "    </tr>\n",
       "  </thead>\n",
       "  <tbody>\n",
       "    <tr>\n",
       "      <th>0</th>\n",
       "      <td>1462064304</td>\n",
       "      <td>0.9</td>\n",
       "      <td>78</td>\n",
       "      <td>0.702703</td>\n",
       "      <td>5</td>\n",
       "      <td>111</td>\n",
       "      <td>home_office</td>\n",
       "    </tr>\n",
       "    <tr>\n",
       "      <th>1</th>\n",
       "      <td>1462064305</td>\n",
       "      <td>1.7</td>\n",
       "      <td>179</td>\n",
       "      <td>0.864734</td>\n",
       "      <td>25</td>\n",
       "      <td>207</td>\n",
       "      <td>home_office</td>\n",
       "    </tr>\n",
       "    <tr>\n",
       "      <th>2</th>\n",
       "      <td>1462064306</td>\n",
       "      <td>1.7</td>\n",
       "      <td>180</td>\n",
       "      <td>0.857143</td>\n",
       "      <td>25</td>\n",
       "      <td>210</td>\n",
       "      <td>home_office</td>\n",
       "    </tr>\n",
       "    <tr>\n",
       "      <th>3</th>\n",
       "      <td>1462064307</td>\n",
       "      <td>1.8</td>\n",
       "      <td>194</td>\n",
       "      <td>0.889908</td>\n",
       "      <td>27</td>\n",
       "      <td>218</td>\n",
       "      <td>home_office</td>\n",
       "    </tr>\n",
       "    <tr>\n",
       "      <th>4</th>\n",
       "      <td>1462064308</td>\n",
       "      <td>1.8</td>\n",
       "      <td>197</td>\n",
       "      <td>0.895455</td>\n",
       "      <td>27</td>\n",
       "      <td>220</td>\n",
       "      <td>home_office</td>\n",
       "    </tr>\n",
       "  </tbody>\n",
       "</table>\n",
       "</div>"
      ],
      "text/plain": [
       "      unix_ts  Irms    P    MeanPF   Q    S        Label\n",
       "0  1462064304   0.9   78  0.702703   5  111  home_office\n",
       "1  1462064305   1.7  179  0.864734  25  207  home_office\n",
       "2  1462064306   1.7  180  0.857143  25  210  home_office\n",
       "3  1462064307   1.8  194  0.889908  27  218  home_office\n",
       "4  1462064308   1.8  197  0.895455  27  220  home_office"
      ]
     },
     "execution_count": 16,
     "metadata": {},
     "output_type": "execute_result"
    }
   ],
   "source": [
    "train_df.head()"
   ]
  },
  {
   "cell_type": "code",
   "execution_count": null,
   "metadata": {},
   "outputs": [],
   "source": [
    "from utils import count_labels"
   ]
  },
  {
   "cell_type": "code",
   "execution_count": 18,
   "metadata": {},
   "outputs": [
    {
     "data": {
      "text/plain": [
       "{'basement_blue_plugs': 301912,\n",
       " 'bathrooms': 1369855,\n",
       " 'clothes_dryer_s1': 30427,\n",
       " 'clothes_dryer_s2': 54706,\n",
       " 'clothes_washer': 44271,\n",
       " 'fridge_s1': 2029157,\n",
       " 'fridge_s2': 20017,\n",
       " 'furnace_and_hot_water_unit': 4108399,\n",
       " 'garage_sub_panel_s1': 500,\n",
       " 'garage_sub_panel_s2': 356,\n",
       " 'heat_pump': 499987,\n",
       " 'home_office': 1737034,\n",
       " 'kitchen_counter_plugs': 37190,\n",
       " 'kitchen_dishwasher': 143726,\n",
       " 'kitchen_oven_s1': 16285,\n",
       " 'kitchen_oven_s2': 5361,\n",
       " 'kitchen_oven_s3': 2741,\n",
       " 'lp16_s1': 633971,\n",
       " 'lp20_s1': 689155,\n",
       " 'lp20_s2': 9176,\n",
       " 'lp3_s1': 273427,\n",
       " 'lp3_s2': 20606,\n",
       " 'misc_plugs': 189084,\n",
       " 'rental_suite_sub_panel': 6119286,\n",
       " 'upstairs_bedroom_AFCI_arc-fault_plugs': 2258671,\n",
       " 'upstairs_plug_and_lights': 1462691}"
      ]
     },
     "execution_count": 18,
     "metadata": {},
     "output_type": "execute_result"
    }
   ],
   "source": [
    "count_labels(train_df[\"Label\"].to_numpy())"
   ]
  },
  {
   "cell_type": "code",
   "execution_count": null,
   "metadata": {},
   "outputs": [],
   "source": [
    "count_labels(test_df[\"Label\"].to_numpy())"
   ]
  },
  {
   "cell_type": "code",
   "execution_count": 20,
   "metadata": {},
   "outputs": [
    {
     "data": {
      "text/plain": [
       "(22057991, 2434943)"
      ]
     },
     "execution_count": 20,
     "metadata": {},
     "output_type": "execute_result"
    }
   ],
   "source": [
    "len(train_df), len(test_df)"
   ]
  },
  {
   "cell_type": "code",
   "execution_count": null,
   "metadata": {},
   "outputs": [],
   "source": [
    "count_labels(test_df[\"Label\"].to_numpy())"
   ]
  },
  {
   "cell_type": "code",
   "execution_count": 19,
   "metadata": {},
   "outputs": [],
   "source": [
    "train_df.to_csv(\"/opt/nilm-shared-data/nilm_device_detection/RAE/train_test_data/rae/train.csv\", index=False)\n",
    "test_df.to_csv(\"/opt/nilm-shared-data/nilm_device_detection/RAE/train_test_data/rae/test.csv\", index=False)"
   ]
  }
 ],
 "metadata": {
  "kernelspec": {
   "display_name": "mylab-nilm-env",
   "language": "python",
   "name": "python3"
  },
  "language_info": {
   "codemirror_mode": {
    "name": "ipython",
    "version": 3
   },
   "file_extension": ".py",
   "mimetype": "text/x-python",
   "name": "python",
   "nbconvert_exporter": "python",
   "pygments_lexer": "ipython3",
   "version": "3.12.1"
  }
 },
 "nbformat": 4,
 "nbformat_minor": 2
}
