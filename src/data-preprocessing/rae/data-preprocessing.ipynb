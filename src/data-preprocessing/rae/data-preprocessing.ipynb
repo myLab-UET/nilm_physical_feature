{
 "cells": [
  {
   "cell_type": "code",
   "execution_count": 2,
   "metadata": {},
   "outputs": [],
   "source": [
    "import pandas as pd\n",
    "import polars as pl\n",
    "import numpy as np\n",
    "import os\n",
    "from sklearn.model_selection import train_test_split\n",
    "from nilm_pre_processing import NilmPreProcessing\n",
    "from tqdm.notebook import tqdm"
   ]
  },
  {
   "cell_type": "code",
   "execution_count": 3,
   "metadata": {},
   "outputs": [],
   "source": [
    "nilm_pp = NilmPreProcessing()"
   ]
  },
  {
   "cell_type": "code",
   "execution_count": 15,
   "metadata": {},
   "outputs": [
    {
     "data": {
      "application/vnd.jupyter.widget-view+json": {
       "model_id": "97082fb88f3543ce9ca03c525baa5103",
       "version_major": 2,
       "version_minor": 0
      },
      "text/plain": [
       "Overall Progress, file skips: 0:   0%|          | 0/20 [00:00<?, ?it/s]"
      ]
     },
     "metadata": {},
     "output_type": "display_data"
    },
    {
     "data": {
      "application/vnd.jupyter.widget-view+json": {
       "model_id": "edd76f9581ac4ecb8fb21e05e9602373",
       "version_major": 2,
       "version_minor": 0
      },
      "text/plain": [
       "Processing Appliance: home_office:   0%|          | 0/1088 [00:00<?, ?it/s]"
      ]
     },
     "metadata": {},
     "output_type": "display_data"
    },
    {
     "data": {
      "application/vnd.jupyter.widget-view+json": {
       "model_id": "893f923da0aa49a58bf937e8d637add8",
       "version_major": 2,
       "version_minor": 0
      },
      "text/plain": [
       "Processing Appliance: bathroom:   0%|          | 0/2651 [00:00<?, ?it/s]"
      ]
     },
     "metadata": {},
     "output_type": "display_data"
    },
    {
     "data": {
      "application/vnd.jupyter.widget-view+json": {
       "model_id": "7a23099b58904158b842f5f7820a131b",
       "version_major": 2,
       "version_minor": 0
      },
      "text/plain": [
       "Processing Appliance: basement_blue_plug:   0%|          | 0/1190 [00:00<?, ?it/s]"
      ]
     },
     "metadata": {},
     "output_type": "display_data"
    },
    {
     "data": {
      "application/vnd.jupyter.widget-view+json": {
       "model_id": "277daeed057b4dba9ae0a0e4cb5dc78e",
       "version_major": 2,
       "version_minor": 0
      },
      "text/plain": [
       "Processing Appliance: garage_sub_panel:   0%|          | 0/6 [00:00<?, ?it/s]"
      ]
     },
     "metadata": {},
     "output_type": "display_data"
    },
    {
     "data": {
      "application/vnd.jupyter.widget-view+json": {
       "model_id": "15ce4327020244e2bba39419f09e5e39",
       "version_major": 2,
       "version_minor": 0
      },
      "text/plain": [
       "Processing Appliance: lp16:   0%|          | 0/298 [00:00<?, ?it/s]"
      ]
     },
     "metadata": {},
     "output_type": "display_data"
    },
    {
     "data": {
      "application/vnd.jupyter.widget-view+json": {
       "model_id": "eb947c297bc0421bb6f7bd040f680b21",
       "version_major": 2,
       "version_minor": 0
      },
      "text/plain": [
       "Processing Appliance: clothes_dryer:   0%|          | 0/44 [00:00<?, ?it/s]"
      ]
     },
     "metadata": {},
     "output_type": "display_data"
    },
    {
     "data": {
      "application/vnd.jupyter.widget-view+json": {
       "model_id": "1009232921744f1dbfa369efcb84a295",
       "version_major": 2,
       "version_minor": 0
      },
      "text/plain": [
       "Processing Appliance: misc_plug:   0%|          | 0/209 [00:00<?, ?it/s]"
      ]
     },
     "metadata": {},
     "output_type": "display_data"
    },
    {
     "data": {
      "application/vnd.jupyter.widget-view+json": {
       "model_id": "3431c0ca11f641e3b42aed67d333a705",
       "version_major": 2,
       "version_minor": 0
      },
      "text/plain": [
       "Processing Appliance: heat_pump:   0%|          | 0/419 [00:00<?, ?it/s]"
      ]
     },
     "metadata": {},
     "output_type": "display_data"
    },
    {
     "data": {
      "application/vnd.jupyter.widget-view+json": {
       "model_id": "6a257af397b14af1871c7cd5c49b459b",
       "version_major": 2,
       "version_minor": 0
      },
      "text/plain": [
       "Processing Appliance: lp20:   0%|          | 0/372 [00:00<?, ?it/s]"
      ]
     },
     "metadata": {},
     "output_type": "display_data"
    },
    {
     "data": {
      "application/vnd.jupyter.widget-view+json": {
       "model_id": "21797314f1284e4d903c20949a642bed",
       "version_major": 2,
       "version_minor": 0
      },
      "text/plain": [
       "Processing Appliance: rental_suite_sub_panel:   0%|          | 0/3439 [00:00<?, ?it/s]"
      ]
     },
     "metadata": {},
     "output_type": "display_data"
    },
    {
     "data": {
      "application/vnd.jupyter.widget-view+json": {
       "model_id": "2f53114d5baa47e09c2e877ed343d813",
       "version_major": 2,
       "version_minor": 0
      },
      "text/plain": [
       "Processing Appliance: oven:   0%|          | 0/6 [00:00<?, ?it/s]"
      ]
     },
     "metadata": {},
     "output_type": "display_data"
    },
    {
     "data": {
      "application/vnd.jupyter.widget-view+json": {
       "model_id": "b7bcd7252616478cb23b1f1f4b0a151b",
       "version_major": 2,
       "version_minor": 0
      },
      "text/plain": [
       "Processing Appliance: clothes_washer:   0%|          | 0/534 [00:00<?, ?it/s]"
      ]
     },
     "metadata": {},
     "output_type": "display_data"
    },
    {
     "data": {
      "application/vnd.jupyter.widget-view+json": {
       "model_id": "164865d9cf87453eb96d13024574f996",
       "version_major": 2,
       "version_minor": 0
      },
      "text/plain": [
       "Processing Appliance: furniture_and_hot_water_unit:   0%|          | 0/6217 [00:00<?, ?it/s]"
      ]
     },
     "metadata": {},
     "output_type": "display_data"
    },
    {
     "data": {
      "application/vnd.jupyter.widget-view+json": {
       "model_id": "a8270532f92b4a208e0c1f4bc5db07bb",
       "version_major": 2,
       "version_minor": 0
      },
      "text/plain": [
       "Processing Appliance: lp3:   0%|          | 0/70 [00:00<?, ?it/s]"
      ]
     },
     "metadata": {},
     "output_type": "display_data"
    },
    {
     "data": {
      "application/vnd.jupyter.widget-view+json": {
       "model_id": "6d3f3ed546994bbaa7b1ee2b3f1259ee",
       "version_major": 2,
       "version_minor": 0
      },
      "text/plain": [
       "Processing Appliance: bedroom_plug:   0%|          | 0/3837 [00:00<?, ?it/s]"
      ]
     },
     "metadata": {},
     "output_type": "display_data"
    },
    {
     "data": {
      "application/vnd.jupyter.widget-view+json": {
       "model_id": "d8c335dc50ce44ec9dcba0bb24bbf5d9",
       "version_major": 2,
       "version_minor": 0
      },
      "text/plain": [
       "Processing Appliance: kitchen_counter_plug:   0%|          | 0/202 [00:00<?, ?it/s]"
      ]
     },
     "metadata": {},
     "output_type": "display_data"
    },
    {
     "data": {
      "application/vnd.jupyter.widget-view+json": {
       "model_id": "8db439800a5d4aaeb9e7adbba3ccd454",
       "version_major": 2,
       "version_minor": 0
      },
      "text/plain": [
       "Processing Appliance: upstair_plugs:   0%|          | 0/520 [00:00<?, ?it/s]"
      ]
     },
     "metadata": {},
     "output_type": "display_data"
    },
    {
     "data": {
      "application/vnd.jupyter.widget-view+json": {
       "model_id": "89005b367b3a4685a3a3292c027b0e8b",
       "version_major": 2,
       "version_minor": 0
      },
      "text/plain": [
       "Processing Appliance: kitchen_dishwasher:   0%|          | 0/211 [00:00<?, ?it/s]"
      ]
     },
     "metadata": {},
     "output_type": "display_data"
    },
    {
     "data": {
      "application/vnd.jupyter.widget-view+json": {
       "model_id": "99ac134356f74c5aa7c505a1ee0519da",
       "version_major": 2,
       "version_minor": 0
      },
      "text/plain": [
       "Processing Appliance: fridge:   0%|          | 0/3144 [00:00<?, ?it/s]"
      ]
     },
     "metadata": {},
     "output_type": "display_data"
    },
    {
     "data": {
      "application/vnd.jupyter.widget-view+json": {
       "model_id": "cf666926c61f46df9064cc756be203b4",
       "version_major": 2,
       "version_minor": 0
      },
      "text/plain": [
       "Processing Appliance: basement_plug_and_light:   0%|          | 0/3490 [00:00<?, ?it/s]"
      ]
     },
     "metadata": {},
     "output_type": "display_data"
    }
   ],
   "source": [
    "label_data_dir = \"/opt/nilm-shared-data/nilm_device_detection/RAE/transform_data/labeled_data\"\n",
    "train_df, test_df = None, None\n",
    "file_skips = 0\n",
    "for appliance in tqdm(os.listdir(label_data_dir), desc=\"Overall Progress, file skips {}\".format(file_skips)):\n",
    "    dir_path = os.path.join(label_data_dir, appliance)\n",
    "    for files in tqdm(os.listdir(dir_path), desc=\"Processing Appliance: {}\".format(appliance)):\n",
    "        if files.endswith(\".xlsx\"):\n",
    "            # Read the data\n",
    "            df = pd.read_excel(os.path.join(dir_path, files))\n",
    "            df.rename(columns={\"pf\": \"MeanPF\", \"label\": \"Label\"}, inplace=True)\n",
    "            df = df[[\"unix_ts\", \"Irms\", \"P\", \"MeanPF\", \"Q\", \"S\", \"Label\"]]\n",
    "            if len(df) < 10:\n",
    "                file_skips += 1\n",
    "                continue\n",
    "            df = df.sort_values(\"unix_ts\")\n",
    "            df = df.reset_index(drop=True)\n",
    "            df = df.dropna()\n",
    "            \n",
    "            # Preprocess the data\n",
    "            train_arr, test_arr = [], [] \n",
    "            for i in range(0, len(df), 10):\n",
    "                train_arr.extend(df.iloc[i:i+9].to_dict('records'))\n",
    "                if i + 9 < len(df):\n",
    "                    test_arr.append(df.iloc[i+9].to_dict())\n",
    "            current_train_df = pd.DataFrame(train_arr)\n",
    "            current_test_df = pd.DataFrame(test_arr)\n",
    "            \n",
    "            # If the current dataframe is empty, skip it\n",
    "            if current_train_df.empty or current_test_df.empty:\n",
    "                continue\n",
    "            else:\n",
    "                if train_df is None:\n",
    "                    train_df = current_train_df\n",
    "                    test_df = current_test_df\n",
    "                else:\n",
    "                    train_df = pd.concat([train_df, current_train_df], ignore_index=True)\n",
    "                    test_df = pd.concat([test_df, current_test_df], ignore_index=True)"
   ]
  },
  {
   "cell_type": "code",
   "execution_count": 16,
   "metadata": {},
   "outputs": [
    {
     "data": {
      "text/html": [
       "<div>\n",
       "<style scoped>\n",
       "    .dataframe tbody tr th:only-of-type {\n",
       "        vertical-align: middle;\n",
       "    }\n",
       "\n",
       "    .dataframe tbody tr th {\n",
       "        vertical-align: top;\n",
       "    }\n",
       "\n",
       "    .dataframe thead th {\n",
       "        text-align: right;\n",
       "    }\n",
       "</style>\n",
       "<table border=\"1\" class=\"dataframe\">\n",
       "  <thead>\n",
       "    <tr style=\"text-align: right;\">\n",
       "      <th></th>\n",
       "      <th>unix_ts</th>\n",
       "      <th>Irms</th>\n",
       "      <th>P</th>\n",
       "      <th>MeanPF</th>\n",
       "      <th>Q</th>\n",
       "      <th>S</th>\n",
       "      <th>Label</th>\n",
       "    </tr>\n",
       "  </thead>\n",
       "  <tbody>\n",
       "    <tr>\n",
       "      <th>0</th>\n",
       "      <td>1462064304</td>\n",
       "      <td>0.9</td>\n",
       "      <td>78</td>\n",
       "      <td>0.702703</td>\n",
       "      <td>5</td>\n",
       "      <td>111</td>\n",
       "      <td>home_office</td>\n",
       "    </tr>\n",
       "    <tr>\n",
       "      <th>1</th>\n",
       "      <td>1462064305</td>\n",
       "      <td>1.7</td>\n",
       "      <td>179</td>\n",
       "      <td>0.864734</td>\n",
       "      <td>25</td>\n",
       "      <td>207</td>\n",
       "      <td>home_office</td>\n",
       "    </tr>\n",
       "    <tr>\n",
       "      <th>2</th>\n",
       "      <td>1462064306</td>\n",
       "      <td>1.7</td>\n",
       "      <td>180</td>\n",
       "      <td>0.857143</td>\n",
       "      <td>25</td>\n",
       "      <td>210</td>\n",
       "      <td>home_office</td>\n",
       "    </tr>\n",
       "    <tr>\n",
       "      <th>3</th>\n",
       "      <td>1462064307</td>\n",
       "      <td>1.8</td>\n",
       "      <td>194</td>\n",
       "      <td>0.889908</td>\n",
       "      <td>27</td>\n",
       "      <td>218</td>\n",
       "      <td>home_office</td>\n",
       "    </tr>\n",
       "    <tr>\n",
       "      <th>4</th>\n",
       "      <td>1462064308</td>\n",
       "      <td>1.8</td>\n",
       "      <td>197</td>\n",
       "      <td>0.895455</td>\n",
       "      <td>27</td>\n",
       "      <td>220</td>\n",
       "      <td>home_office</td>\n",
       "    </tr>\n",
       "  </tbody>\n",
       "</table>\n",
       "</div>"
      ],
      "text/plain": [
       "      unix_ts  Irms    P    MeanPF   Q    S        Label\n",
       "0  1462064304   0.9   78  0.702703   5  111  home_office\n",
       "1  1462064305   1.7  179  0.864734  25  207  home_office\n",
       "2  1462064306   1.7  180  0.857143  25  210  home_office\n",
       "3  1462064307   1.8  194  0.889908  27  218  home_office\n",
       "4  1462064308   1.8  197  0.895455  27  220  home_office"
      ]
     },
     "execution_count": 16,
     "metadata": {},
     "output_type": "execute_result"
    }
   ],
   "source": [
    "train_df.head()"
   ]
  },
  {
   "cell_type": "code",
   "execution_count": 17,
   "metadata": {},
   "outputs": [],
   "source": [
    "from utils import count_labels"
   ]
  },
  {
   "cell_type": "code",
   "execution_count": 18,
   "metadata": {},
   "outputs": [
    {
     "data": {
      "text/plain": [
       "{'basement_blue_plugs': 301912,\n",
       " 'bathrooms': 1369855,\n",
       " 'clothes_dryer_s1': 30427,\n",
       " 'clothes_dryer_s2': 54706,\n",
       " 'clothes_washer': 44271,\n",
       " 'fridge_s1': 2029157,\n",
       " 'fridge_s2': 20017,\n",
       " 'furnace_and_hot_water_unit': 4108399,\n",
       " 'garage_sub_panel_s1': 500,\n",
       " 'garage_sub_panel_s2': 356,\n",
       " 'heat_pump': 499987,\n",
       " 'home_office': 1737034,\n",
       " 'kitchen_counter_plugs': 37190,\n",
       " 'kitchen_dishwasher': 143726,\n",
       " 'kitchen_oven_s1': 16285,\n",
       " 'kitchen_oven_s2': 5361,\n",
       " 'kitchen_oven_s3': 2741,\n",
       " 'lp16_s1': 633971,\n",
       " 'lp20_s1': 689155,\n",
       " 'lp20_s2': 9176,\n",
       " 'lp3_s1': 273427,\n",
       " 'lp3_s2': 20606,\n",
       " 'misc_plugs': 189084,\n",
       " 'rental_suite_sub_panel': 6119286,\n",
       " 'upstairs_bedroom_AFCI_arc-fault_plugs': 2258671,\n",
       " 'upstairs_plug_and_lights': 1462691}"
      ]
     },
     "execution_count": 18,
     "metadata": {},
     "output_type": "execute_result"
    }
   ],
   "source": [
    "count_labels(train_df[\"Label\"].to_numpy())"
   ]
  },
  {
   "cell_type": "code",
   "execution_count": 20,
   "metadata": {},
   "outputs": [
    {
     "data": {
      "text/plain": [
       "(22057991, 2434943)"
      ]
     },
     "execution_count": 20,
     "metadata": {},
     "output_type": "execute_result"
    }
   ],
   "source": [
    "len(train_df), len(test_df)"
   ]
  },
  {
   "cell_type": "code",
   "execution_count": 19,
   "metadata": {},
   "outputs": [],
   "source": [
    "train_df.to_csv(\"/opt/nilm-shared-data/nilm_device_detection/RAE/train_test_data/rae/train.csv\", index=False)\n",
    "test_df.to_csv(\"/opt/nilm-shared-data/nilm_device_detection/RAE/train_test_data/rae/test.csv\", index=False)"
   ]
  }
 ],
 "metadata": {
  "kernelspec": {
   "display_name": "mylab-nilm-env",
   "language": "python",
   "name": "python3"
  },
  "language_info": {
   "codemirror_mode": {
    "name": "ipython",
    "version": 3
   },
   "file_extension": ".py",
   "mimetype": "text/x-python",
   "name": "python",
   "nbconvert_exporter": "python",
   "pygments_lexer": "ipython3",
   "version": "3.12.1"
  }
 },
 "nbformat": 4,
 "nbformat_minor": 2
}
