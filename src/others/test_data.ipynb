{
 "cells": [
  {
   "cell_type": "code",
   "execution_count": 1,
   "metadata": {},
   "outputs": [],
   "source": [
    "from nilm_dao import get_vndale1_data"
   ]
  },
  {
   "cell_type": "code",
   "execution_count": 2,
   "metadata": {},
   "outputs": [
    {
     "name": "stderr",
     "output_type": "stream",
     "text": [
      "Getting test data - window size: 1800: 100%|██████████| 128/128 [00:18<00:00,  7.05it/s]\n"
     ]
    }
   ],
   "source": [
    "test_data = get_vndale1_data(\"test\", 1800, True)"
   ]
  },
  {
   "cell_type": "code",
   "execution_count": 3,
   "metadata": {},
   "outputs": [
    {
     "data": {
      "text/html": [
       "<div><style>\n",
       ".dataframe > thead > tr,\n",
       ".dataframe > tbody > tr {\n",
       "  text-align: right;\n",
       "  white-space: pre-wrap;\n",
       "}\n",
       "</style>\n",
       "<small>shape: (5, 11)</small><table border=\"1\" class=\"dataframe\"><thead><tr><th>Time</th><th>In</th><th>Un</th><th>PF_n</th><th>Irms</th><th>Urms</th><th>MeanPF</th><th>P</th><th>Q</th><th>S</th><th>Label</th></tr><tr><td>str</td><td>f64</td><td>f64</td><td>f64</td><td>f64</td><td>f64</td><td>f64</td><td>f64</td><td>f64</td><td>f64</td><td>i64</td></tr></thead><tbody><tr><td>&quot;2024-01-16_12-…</td><td>-0.006929</td><td>-1.031509</td><td>-5.609036</td><td>-1.108691</td><td>0.936048</td><td>-6.17107</td><td>-1.142164</td><td>2.410114</td><td>-1.110389</td><td>127</td></tr><tr><td>&quot;2024-01-16_12-…</td><td>-0.150205</td><td>-1.383418</td><td>-5.609036</td><td>-1.10869</td><td>0.92687</td><td>-6.171141</td><td>-1.142172</td><td>2.409251</td><td>-1.11041</td><td>127</td></tr><tr><td>&quot;2024-01-16_12-…</td><td>-0.062194</td><td>-1.386396</td><td>-5.609036</td><td>-1.108894</td><td>0.913588</td><td>-6.171211</td><td>-1.142268</td><td>2.398984</td><td>-1.110656</td><td>127</td></tr><tr><td>&quot;2024-01-16_12-…</td><td>0.008442</td><td>-1.177529</td><td>-5.609036</td><td>-1.108929</td><td>0.909597</td><td>-6.171282</td><td>-1.142287</td><td>2.39708</td><td>-1.110701</td><td>127</td></tr><tr><td>&quot;2024-01-16_12-…</td><td>0.009964</td><td>-0.513814</td><td>-5.609036</td><td>-1.108762</td><td>0.914376</td><td>-6.171352</td><td>-1.142215</td><td>2.404925</td><td>-1.110515</td><td>127</td></tr></tbody></table></div>"
      ],
      "text/plain": [
       "shape: (5, 11)\n",
       "┌───────────────┬───────────┬───────────┬───────────┬───┬───────────┬──────────┬───────────┬───────┐\n",
       "│ Time          ┆ In        ┆ Un        ┆ PF_n      ┆ … ┆ P         ┆ Q        ┆ S         ┆ Label │\n",
       "│ ---           ┆ ---       ┆ ---       ┆ ---       ┆   ┆ ---       ┆ ---      ┆ ---       ┆ ---   │\n",
       "│ str           ┆ f64       ┆ f64       ┆ f64       ┆   ┆ f64       ┆ f64      ┆ f64       ┆ i64   │\n",
       "╞═══════════════╪═══════════╪═══════════╪═══════════╪═══╪═══════════╪══════════╪═══════════╪═══════╡\n",
       "│ 2024-01-16_12 ┆ -0.006929 ┆ -1.031509 ┆ -5.609036 ┆ … ┆ -1.142164 ┆ 2.410114 ┆ -1.110389 ┆ 127   │\n",
       "│ -51-40        ┆           ┆           ┆           ┆   ┆           ┆          ┆           ┆       │\n",
       "│ 2024-01-16_12 ┆ -0.150205 ┆ -1.383418 ┆ -5.609036 ┆ … ┆ -1.142172 ┆ 2.409251 ┆ -1.11041  ┆ 127   │\n",
       "│ -51-40        ┆           ┆           ┆           ┆   ┆           ┆          ┆           ┆       │\n",
       "│ 2024-01-16_12 ┆ -0.062194 ┆ -1.386396 ┆ -5.609036 ┆ … ┆ -1.142268 ┆ 2.398984 ┆ -1.110656 ┆ 127   │\n",
       "│ -51-40        ┆           ┆           ┆           ┆   ┆           ┆          ┆           ┆       │\n",
       "│ 2024-01-16_12 ┆ 0.008442  ┆ -1.177529 ┆ -5.609036 ┆ … ┆ -1.142287 ┆ 2.39708  ┆ -1.110701 ┆ 127   │\n",
       "│ -51-40        ┆           ┆           ┆           ┆   ┆           ┆          ┆           ┆       │\n",
       "│ 2024-01-16_12 ┆ 0.009964  ┆ -0.513814 ┆ -5.609036 ┆ … ┆ -1.142215 ┆ 2.404925 ┆ -1.110515 ┆ 127   │\n",
       "│ -51-40        ┆           ┆           ┆           ┆   ┆           ┆          ┆           ┆       │\n",
       "└───────────────┴───────────┴───────────┴───────────┴───┴───────────┴──────────┴───────────┴───────┘"
      ]
     },
     "execution_count": 3,
     "metadata": {},
     "output_type": "execute_result"
    }
   ],
   "source": [
    "test_data.head()"
   ]
  },
  {
   "cell_type": "code",
   "execution_count": 5,
   "metadata": {},
   "outputs": [],
   "source": [
    "test_data.to_pandas().to_csv(\"test_data.csv\")"
   ]
  }
 ],
 "metadata": {
  "kernelspec": {
   "display_name": "mylab-nilm-env",
   "language": "python",
   "name": "python3"
  },
  "language_info": {
   "codemirror_mode": {
    "name": "ipython",
    "version": 3
   },
   "file_extension": ".py",
   "mimetype": "text/x-python",
   "name": "python",
   "nbconvert_exporter": "python",
   "pygments_lexer": "ipython3",
   "version": "3.12.1"
  }
 },
 "nbformat": 4,
 "nbformat_minor": 2
}
