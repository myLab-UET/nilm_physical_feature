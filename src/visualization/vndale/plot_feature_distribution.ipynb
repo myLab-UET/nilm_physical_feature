{
 "cells": [
  {
   "cell_type": "code",
   "execution_count": 1,
   "metadata": {},
   "outputs": [],
   "source": [
    "import pandas as pd\n",
    "import numpy as np\n",
    "from nilm_pre_processing import NilmPreProcessing\n",
    "from nilm_dao import *"
   ]
  },
  {
   "cell_type": "code",
   "execution_count": 2,
   "metadata": {},
   "outputs": [
    {
     "name": "stderr",
     "output_type": "stream",
     "text": [
      "Getting val data - window size: 1800: 100%|██████████| 128/128 [00:17<00:00,  7.34it/s]\n"
     ]
    }
   ],
   "source": [
    "val_data = get_vndale1_data(\"val\", 1800, False).to_pandas()\n",
    "lb = get_label_encoder(\"vndale1\")"
   ]
  },
  {
   "cell_type": "code",
   "execution_count": 34,
   "metadata": {},
   "outputs": [
    {
     "data": {
      "application/vnd.microsoft.datawrangler.viewer.v0+json": {
       "columns": [
        {
         "name": "index",
         "rawType": "int64",
         "type": "integer"
        },
        {
         "name": "Time",
         "rawType": "object",
         "type": "string"
        },
        {
         "name": "In",
         "rawType": "float64",
         "type": "float"
        },
        {
         "name": "Un",
         "rawType": "float64",
         "type": "float"
        },
        {
         "name": "PF_n",
         "rawType": "float64",
         "type": "float"
        },
        {
         "name": "Irms",
         "rawType": "float64",
         "type": "float"
        },
        {
         "name": "Urms",
         "rawType": "float64",
         "type": "float"
        },
        {
         "name": "MeanPF",
         "rawType": "float64",
         "type": "float"
        },
        {
         "name": "P",
         "rawType": "float64",
         "type": "float"
        },
        {
         "name": "Q",
         "rawType": "float64",
         "type": "float"
        },
        {
         "name": "S",
         "rawType": "float64",
         "type": "float"
        },
        {
         "name": "Label",
         "rawType": "int64",
         "type": "integer"
        }
       ],
       "conversionMethod": "pd.DataFrame",
       "ref": "18729bdb-28ab-4ece-8df2-5bea66721ebc",
       "rows": [
        [
         "0",
         "2024-01-16_18-45-40",
         "0.4837455749511719",
         "223.844970703125",
         "0.8261966705322266",
         "0.2832843781628457",
         "165.3111217978798",
         "0.8246698106977675",
         "38.6193353477923",
         "14.981858371377342",
         "46.83005834191482",
         "30"
        ],
        [
         "1",
         "2024-01-16_18-45-40",
         "0.3314012885093689",
         "219.9809417724609",
         "0.8261966705322266",
         "0.28305518770134525",
         "165.25543206811707",
         "0.8246674377865262",
         "38.57497999216968",
         "14.964877429898703",
         "46.776407342707785",
         "30"
        ],
        [
         "2",
         "2024-01-16_18-45-40",
         "0.0626991167664527",
         "152.8630065917969",
         "0.8261966705322266",
         "0.28295172055394",
         "165.17460998396302",
         "0.8246650648752848",
         "38.54190939621116",
         "14.952273874144506",
         "46.736440086788335",
         "30"
        ],
        [
         "3",
         "2024-01-16_18-45-40",
         "-0.0632240399718284",
         "31.23598670959473",
         "0.8204912567138671",
         "0.28295761502715033",
         "165.14904399862476",
         "0.8246626919640435",
         "38.536635716332995",
         "14.950453864795906",
         "46.73017961386478",
         "30"
        ],
        [
         "4",
         "2024-01-16_18-45-40",
         "-0.0958859026432037",
         "-76.1271743774414",
         "0.8204912567138671",
         "0.2829748135144998",
         "165.21015256841545",
         "0.8246634887271458",
         "38.55327548680754",
         "14.956833448939962",
         "46.75031211374942",
         "30"
        ]
       ],
       "shape": {
        "columns": 11,
        "rows": 5
       }
      },
      "text/html": [
       "<div>\n",
       "<style scoped>\n",
       "    .dataframe tbody tr th:only-of-type {\n",
       "        vertical-align: middle;\n",
       "    }\n",
       "\n",
       "    .dataframe tbody tr th {\n",
       "        vertical-align: top;\n",
       "    }\n",
       "\n",
       "    .dataframe thead th {\n",
       "        text-align: right;\n",
       "    }\n",
       "</style>\n",
       "<table border=\"1\" class=\"dataframe\">\n",
       "  <thead>\n",
       "    <tr style=\"text-align: right;\">\n",
       "      <th></th>\n",
       "      <th>Time</th>\n",
       "      <th>In</th>\n",
       "      <th>Un</th>\n",
       "      <th>PF_n</th>\n",
       "      <th>Irms</th>\n",
       "      <th>Urms</th>\n",
       "      <th>MeanPF</th>\n",
       "      <th>P</th>\n",
       "      <th>Q</th>\n",
       "      <th>S</th>\n",
       "      <th>Label</th>\n",
       "    </tr>\n",
       "  </thead>\n",
       "  <tbody>\n",
       "    <tr>\n",
       "      <th>0</th>\n",
       "      <td>2024-01-16_18-45-40</td>\n",
       "      <td>0.483746</td>\n",
       "      <td>223.844971</td>\n",
       "      <td>0.826197</td>\n",
       "      <td>0.283284</td>\n",
       "      <td>165.311122</td>\n",
       "      <td>0.824670</td>\n",
       "      <td>38.619335</td>\n",
       "      <td>14.981858</td>\n",
       "      <td>46.830058</td>\n",
       "      <td>30</td>\n",
       "    </tr>\n",
       "    <tr>\n",
       "      <th>1</th>\n",
       "      <td>2024-01-16_18-45-40</td>\n",
       "      <td>0.331401</td>\n",
       "      <td>219.980942</td>\n",
       "      <td>0.826197</td>\n",
       "      <td>0.283055</td>\n",
       "      <td>165.255432</td>\n",
       "      <td>0.824667</td>\n",
       "      <td>38.574980</td>\n",
       "      <td>14.964877</td>\n",
       "      <td>46.776407</td>\n",
       "      <td>30</td>\n",
       "    </tr>\n",
       "    <tr>\n",
       "      <th>2</th>\n",
       "      <td>2024-01-16_18-45-40</td>\n",
       "      <td>0.062699</td>\n",
       "      <td>152.863007</td>\n",
       "      <td>0.826197</td>\n",
       "      <td>0.282952</td>\n",
       "      <td>165.174610</td>\n",
       "      <td>0.824665</td>\n",
       "      <td>38.541909</td>\n",
       "      <td>14.952274</td>\n",
       "      <td>46.736440</td>\n",
       "      <td>30</td>\n",
       "    </tr>\n",
       "    <tr>\n",
       "      <th>3</th>\n",
       "      <td>2024-01-16_18-45-40</td>\n",
       "      <td>-0.063224</td>\n",
       "      <td>31.235987</td>\n",
       "      <td>0.820491</td>\n",
       "      <td>0.282958</td>\n",
       "      <td>165.149044</td>\n",
       "      <td>0.824663</td>\n",
       "      <td>38.536636</td>\n",
       "      <td>14.950454</td>\n",
       "      <td>46.730180</td>\n",
       "      <td>30</td>\n",
       "    </tr>\n",
       "    <tr>\n",
       "      <th>4</th>\n",
       "      <td>2024-01-16_18-45-40</td>\n",
       "      <td>-0.095886</td>\n",
       "      <td>-76.127174</td>\n",
       "      <td>0.820491</td>\n",
       "      <td>0.282975</td>\n",
       "      <td>165.210153</td>\n",
       "      <td>0.824663</td>\n",
       "      <td>38.553275</td>\n",
       "      <td>14.956833</td>\n",
       "      <td>46.750312</td>\n",
       "      <td>30</td>\n",
       "    </tr>\n",
       "  </tbody>\n",
       "</table>\n",
       "</div>"
      ],
      "text/plain": [
       "                  Time        In          Un      PF_n      Irms        Urms  \\\n",
       "0  2024-01-16_18-45-40  0.483746  223.844971  0.826197  0.283284  165.311122   \n",
       "1  2024-01-16_18-45-40  0.331401  219.980942  0.826197  0.283055  165.255432   \n",
       "2  2024-01-16_18-45-40  0.062699  152.863007  0.826197  0.282952  165.174610   \n",
       "3  2024-01-16_18-45-40 -0.063224   31.235987  0.820491  0.282958  165.149044   \n",
       "4  2024-01-16_18-45-40 -0.095886  -76.127174  0.820491  0.282975  165.210153   \n",
       "\n",
       "     MeanPF          P          Q          S  Label  \n",
       "0  0.824670  38.619335  14.981858  46.830058     30  \n",
       "1  0.824667  38.574980  14.964877  46.776407     30  \n",
       "2  0.824665  38.541909  14.952274  46.736440     30  \n",
       "3  0.824663  38.536636  14.950454  46.730180     30  \n",
       "4  0.824663  38.553275  14.956833  46.750312     30  "
      ]
     },
     "execution_count": 34,
     "metadata": {},
     "output_type": "execute_result"
    }
   ],
   "source": [
    "val_data.head() "
   ]
  },
  {
   "cell_type": "code",
   "execution_count": 35,
   "metadata": {},
   "outputs": [],
   "source": [
    "val_data[\"Label\"] = lb.inverse_transform(val_data[\"Label\"])"
   ]
  },
  {
   "cell_type": "code",
   "execution_count": 36,
   "metadata": {},
   "outputs": [
    {
     "data": {
      "application/vnd.microsoft.datawrangler.viewer.v0+json": {
       "columns": [
        {
         "name": "index",
         "rawType": "int64",
         "type": "integer"
        },
        {
         "name": "Time",
         "rawType": "object",
         "type": "string"
        },
        {
         "name": "In",
         "rawType": "float64",
         "type": "float"
        },
        {
         "name": "Un",
         "rawType": "float64",
         "type": "float"
        },
        {
         "name": "PF_n",
         "rawType": "float64",
         "type": "float"
        },
        {
         "name": "Irms",
         "rawType": "float64",
         "type": "float"
        },
        {
         "name": "Urms",
         "rawType": "float64",
         "type": "float"
        },
        {
         "name": "MeanPF",
         "rawType": "float64",
         "type": "float"
        },
        {
         "name": "P",
         "rawType": "float64",
         "type": "float"
        },
        {
         "name": "Q",
         "rawType": "float64",
         "type": "float"
        },
        {
         "name": "S",
         "rawType": "float64",
         "type": "float"
        },
        {
         "name": "Label",
         "rawType": "object",
         "type": "string"
        }
       ],
       "conversionMethod": "pd.DataFrame",
       "ref": "eddbb950-3a44-4c8f-8741-80238841ac5c",
       "rows": [
        [
         "0",
         "2024-01-16_18-45-40",
         "0.4837455749511719",
         "223.844970703125",
         "0.8261966705322266",
         "0.2832843781628457",
         "165.3111217978798",
         "0.8246698106977675",
         "38.6193353477923",
         "14.981858371377342",
         "46.83005834191482",
         "1,2,5,7"
        ],
        [
         "1",
         "2024-01-16_18-45-40",
         "0.3314012885093689",
         "219.9809417724609",
         "0.8261966705322266",
         "0.28305518770134525",
         "165.25543206811707",
         "0.8246674377865262",
         "38.57497999216968",
         "14.964877429898703",
         "46.776407342707785",
         "1,2,5,7"
        ],
        [
         "2",
         "2024-01-16_18-45-40",
         "0.0626991167664527",
         "152.8630065917969",
         "0.8261966705322266",
         "0.28295172055394",
         "165.17460998396302",
         "0.8246650648752848",
         "38.54190939621116",
         "14.952273874144506",
         "46.736440086788335",
         "1,2,5,7"
        ],
        [
         "3",
         "2024-01-16_18-45-40",
         "-0.0632240399718284",
         "31.23598670959473",
         "0.8204912567138671",
         "0.28295761502715033",
         "165.14904399862476",
         "0.8246626919640435",
         "38.536635716332995",
         "14.950453864795906",
         "46.73017961386478",
         "1,2,5,7"
        ],
        [
         "4",
         "2024-01-16_18-45-40",
         "-0.0958859026432037",
         "-76.1271743774414",
         "0.8204912567138671",
         "0.2829748135144998",
         "165.21015256841545",
         "0.8246634887271458",
         "38.55327548680754",
         "14.956833448939962",
         "46.75031211374942",
         "1,2,5,7"
        ]
       ],
       "shape": {
        "columns": 11,
        "rows": 5
       }
      },
      "text/html": [
       "<div>\n",
       "<style scoped>\n",
       "    .dataframe tbody tr th:only-of-type {\n",
       "        vertical-align: middle;\n",
       "    }\n",
       "\n",
       "    .dataframe tbody tr th {\n",
       "        vertical-align: top;\n",
       "    }\n",
       "\n",
       "    .dataframe thead th {\n",
       "        text-align: right;\n",
       "    }\n",
       "</style>\n",
       "<table border=\"1\" class=\"dataframe\">\n",
       "  <thead>\n",
       "    <tr style=\"text-align: right;\">\n",
       "      <th></th>\n",
       "      <th>Time</th>\n",
       "      <th>In</th>\n",
       "      <th>Un</th>\n",
       "      <th>PF_n</th>\n",
       "      <th>Irms</th>\n",
       "      <th>Urms</th>\n",
       "      <th>MeanPF</th>\n",
       "      <th>P</th>\n",
       "      <th>Q</th>\n",
       "      <th>S</th>\n",
       "      <th>Label</th>\n",
       "    </tr>\n",
       "  </thead>\n",
       "  <tbody>\n",
       "    <tr>\n",
       "      <th>0</th>\n",
       "      <td>2024-01-16_18-45-40</td>\n",
       "      <td>0.483746</td>\n",
       "      <td>223.844971</td>\n",
       "      <td>0.826197</td>\n",
       "      <td>0.283284</td>\n",
       "      <td>165.311122</td>\n",
       "      <td>0.824670</td>\n",
       "      <td>38.619335</td>\n",
       "      <td>14.981858</td>\n",
       "      <td>46.830058</td>\n",
       "      <td>1,2,5,7</td>\n",
       "    </tr>\n",
       "    <tr>\n",
       "      <th>1</th>\n",
       "      <td>2024-01-16_18-45-40</td>\n",
       "      <td>0.331401</td>\n",
       "      <td>219.980942</td>\n",
       "      <td>0.826197</td>\n",
       "      <td>0.283055</td>\n",
       "      <td>165.255432</td>\n",
       "      <td>0.824667</td>\n",
       "      <td>38.574980</td>\n",
       "      <td>14.964877</td>\n",
       "      <td>46.776407</td>\n",
       "      <td>1,2,5,7</td>\n",
       "    </tr>\n",
       "    <tr>\n",
       "      <th>2</th>\n",
       "      <td>2024-01-16_18-45-40</td>\n",
       "      <td>0.062699</td>\n",
       "      <td>152.863007</td>\n",
       "      <td>0.826197</td>\n",
       "      <td>0.282952</td>\n",
       "      <td>165.174610</td>\n",
       "      <td>0.824665</td>\n",
       "      <td>38.541909</td>\n",
       "      <td>14.952274</td>\n",
       "      <td>46.736440</td>\n",
       "      <td>1,2,5,7</td>\n",
       "    </tr>\n",
       "    <tr>\n",
       "      <th>3</th>\n",
       "      <td>2024-01-16_18-45-40</td>\n",
       "      <td>-0.063224</td>\n",
       "      <td>31.235987</td>\n",
       "      <td>0.820491</td>\n",
       "      <td>0.282958</td>\n",
       "      <td>165.149044</td>\n",
       "      <td>0.824663</td>\n",
       "      <td>38.536636</td>\n",
       "      <td>14.950454</td>\n",
       "      <td>46.730180</td>\n",
       "      <td>1,2,5,7</td>\n",
       "    </tr>\n",
       "    <tr>\n",
       "      <th>4</th>\n",
       "      <td>2024-01-16_18-45-40</td>\n",
       "      <td>-0.095886</td>\n",
       "      <td>-76.127174</td>\n",
       "      <td>0.820491</td>\n",
       "      <td>0.282975</td>\n",
       "      <td>165.210153</td>\n",
       "      <td>0.824663</td>\n",
       "      <td>38.553275</td>\n",
       "      <td>14.956833</td>\n",
       "      <td>46.750312</td>\n",
       "      <td>1,2,5,7</td>\n",
       "    </tr>\n",
       "  </tbody>\n",
       "</table>\n",
       "</div>"
      ],
      "text/plain": [
       "                  Time        In          Un      PF_n      Irms        Urms  \\\n",
       "0  2024-01-16_18-45-40  0.483746  223.844971  0.826197  0.283284  165.311122   \n",
       "1  2024-01-16_18-45-40  0.331401  219.980942  0.826197  0.283055  165.255432   \n",
       "2  2024-01-16_18-45-40  0.062699  152.863007  0.826197  0.282952  165.174610   \n",
       "3  2024-01-16_18-45-40 -0.063224   31.235987  0.820491  0.282958  165.149044   \n",
       "4  2024-01-16_18-45-40 -0.095886  -76.127174  0.820491  0.282975  165.210153   \n",
       "\n",
       "     MeanPF          P          Q          S    Label  \n",
       "0  0.824670  38.619335  14.981858  46.830058  1,2,5,7  \n",
       "1  0.824667  38.574980  14.964877  46.776407  1,2,5,7  \n",
       "2  0.824665  38.541909  14.952274  46.736440  1,2,5,7  \n",
       "3  0.824663  38.536636  14.950454  46.730180  1,2,5,7  \n",
       "4  0.824663  38.553275  14.956833  46.750312  1,2,5,7  "
      ]
     },
     "execution_count": 36,
     "metadata": {},
     "output_type": "execute_result"
    }
   ],
   "source": [
    "val_data.head()"
   ]
  },
  {
   "cell_type": "markdown",
   "metadata": {},
   "source": [
    "# Feature visualization"
   ]
  },
  {
   "cell_type": "code",
   "execution_count": 37,
   "metadata": {},
   "outputs": [],
   "source": [
    "nilm_pp = NilmPreProcessing()"
   ]
  },
  {
   "cell_type": "code",
   "execution_count": 57,
   "metadata": {},
   "outputs": [
    {
     "name": "stdout",
     "output_type": "stream",
     "text": [
      "72000\n"
     ]
    },
    {
     "data": {
      "image/png": "[encoded data removed]",
      "text/plain": [
       "<Figure size 640x480 with 1 Axes>"
      ]
     },
     "metadata": {},
     "output_type": "display_data"
    }
   ],
   "source": [
    "label_name = \"7\"\n",
    "data_df = val_data[val_data[\"Label\"] == label_name]\n",
    "print(len(data_df))\n",
    "nilm_pp.plot_distribution(array=data_df[\"P\"].to_numpy(), \n",
    "                          plot_name=\"Sạc laptop\", \n",
    "                          unit_name=\"Real power - Watts (W)\",\n",
    "                          min=0,\n",
    "                          max=None)"
   ]
  }
 ],
 "metadata": {
  "kernelspec": {
   "display_name": "mylab-nilm-env",
   "language": "python",
   "name": "python3"
  },
  "language_info": {
   "codemirror_mode": {
    "name": "ipython",
    "version": 3
   },
   "file_extension": ".py",
   "mimetype": "text/x-python",
   "name": "python",
   "nbconvert_exporter": "python",
   "pygments_lexer": "ipython3",
   "version": "3.12.1"
  }
 },
 "nbformat": 4,
 "nbformat_minor": 2
}
