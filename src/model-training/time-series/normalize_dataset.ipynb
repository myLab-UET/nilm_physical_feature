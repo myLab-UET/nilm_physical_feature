{
 "cells": [
  {
   "cell_type": "code",
   "execution_count": 1,
   "metadata": {},
   "outputs": [],
   "source": [
    "import polars as pl\n",
    "import numpy as np\n",
    "import pandas as pd\n",
    "from sklearn.preprocessing import StandardScaler\n",
    "from ts_utils import get_RMS_data\n",
    "from tqdm.notebook import tqdm"
   ]
  },
  {
   "cell_type": "code",
   "execution_count": 2,
   "metadata": {},
   "outputs": [
    {
     "data": {
      "text/html": [
       "<div><style>\n",
       ".dataframe > thead > tr,\n",
       ".dataframe > tbody > tr {\n",
       "  text-align: right;\n",
       "  white-space: pre-wrap;\n",
       "}\n",
       "</style>\n",
       "<small>shape: (16_200, 11)</small><table border=\"1\" class=\"dataframe\"><thead><tr><th>Time</th><th>In</th><th>Un</th><th>PF_n</th><th>Irms</th><th>Urms</th><th>MeanPF</th><th>P</th><th>Q</th><th>S</th><th>Label</th></tr><tr><td>str</td><td>f64</td><td>f64</td><td>f64</td><td>f64</td><td>f64</td><td>f64</td><td>f64</td><td>f64</td><td>f64</td><td>i64</td></tr></thead><tbody><tr><td>&quot;2024-01-21_10-…</td><td>-0.0007</td><td>-67.138451</td><td>99.78862</td><td>0.00207</td><td>166.778534</td><td>0.930463</td><td>0.321167</td><td>0.046335</td><td>0.345169</td><td>0</td></tr><tr><td>&quot;2024-01-21_10-…</td><td>0.004374</td><td>45.454262</td><td>99.995255</td><td>0.00207</td><td>166.856877</td><td>0.930336</td><td>0.321289</td><td>0.046441</td><td>0.345347</td><td>0</td></tr><tr><td>&quot;2024-01-21_10-…</td><td>0.001983</td><td>158.539368</td><td>99.995255</td><td>0.002067</td><td>166.92651</td><td>0.930335</td><td>0.321024</td><td>0.046403</td><td>0.345063</td><td>0</td></tr><tr><td>&quot;2024-01-21_10-…</td><td>-0.001925</td><td>224.88678</td><td>71.878189</td><td>0.002067</td><td>166.908343</td><td>0.930335</td><td>0.320923</td><td>0.046389</td><td>0.344955</td><td>0</td></tr><tr><td>&quot;2024-01-21_10-…</td><td>-0.001108</td><td>225.994705</td><td>99.995255</td><td>0.002067</td><td>166.82422</td><td>0.930491</td><td>0.320851</td><td>0.04627</td><td>0.34482</td><td>0</td></tr><tr><td>&quot;2024-01-21_10-…</td><td>-0.002625</td><td>194.150055</td><td>99.998886</td><td>0.002068</td><td>166.756519</td><td>0.930224</td><td>0.320781</td><td>0.046445</td><td>0.344843</td><td>0</td></tr><tr><td>&quot;2024-01-21_10-…</td><td>-0.000817</td><td>88.911545</td><td>99.699081</td><td>0.002067</td><td>166.761899</td><td>0.930116</td><td>0.320683</td><td>0.046505</td><td>0.344778</td><td>0</td></tr><tr><td>&quot;2024-01-21_10-…</td><td>0.000583</td><td>-26.770121</td><td>99.246513</td><td>0.002068</td><td>166.834907</td><td>0.929998</td><td>0.32081</td><td>0.046605</td><td>0.344957</td><td>0</td></tr><tr><td>&quot;2024-01-21_10-…</td><td>-0.000467</td><td>-131.258621</td><td>94.309502</td><td>0.00207</td><td>166.914432</td><td>0.929996</td><td>0.321255</td><td>0.046671</td><td>0.345436</td><td>0</td></tr><tr><td>&quot;2024-01-21_10-…</td><td>0.001866</td><td>-217.904175</td><td>94.309502</td><td>0.00207</td><td>166.922091</td><td>0.929984</td><td>0.321398</td><td>0.0467</td><td>0.345595</td><td>0</td></tr><tr><td>&quot;2024-01-21_10-…</td><td>0.00175</td><td>-226.933929</td><td>98.04158</td><td>0.002071</td><td>166.844142</td><td>0.929971</td><td>0.321278</td><td>0.046692</td><td>0.345471</td><td>0</td></tr><tr><td>&quot;2024-01-21_10-…</td><td>0.0021</td><td>-201.230682</td><td>99.93013</td><td>0.002073</td><td>166.769696</td><td>0.929795</td><td>0.321367</td><td>0.046827</td><td>0.345632</td><td>0</td></tr><tr><td>&hellip;</td><td>&hellip;</td><td>&hellip;</td><td>&hellip;</td><td>&hellip;</td><td>&hellip;</td><td>&hellip;</td><td>&hellip;</td><td>&hellip;</td><td>&hellip;</td><td>&hellip;</td></tr><tr><td>&quot;2024-01-21_10-…</td><td>0.0</td><td>-223.550903</td><td>94.879883</td><td>0.002007</td><td>166.893001</td><td>0.930747</td><td>0.311689</td><td>0.044777</td><td>0.334881</td><td>0</td></tr><tr><td>&quot;2024-01-21_10-…</td><td>0.003908</td><td>-155.967926</td><td>98.372864</td><td>0.002007</td><td>166.853973</td><td>0.930742</td><td>0.311618</td><td>0.04477</td><td>0.334806</td><td>0</td></tr><tr><td>&quot;2024-01-21_10-…</td><td>0.002275</td><td>-33.951073</td><td>69.568718</td><td>0.002004</td><td>166.898658</td><td>0.930748</td><td>0.311377</td><td>0.044732</td><td>0.334545</td><td>0</td></tr><tr><td>&quot;2024-01-21_10-…</td><td>0.004199</td><td>66.308655</td><td>69.568718</td><td>0.002004</td><td>166.982457</td><td>0.930915</td><td>0.311544</td><td>0.044643</td><td>0.334664</td><td>0</td></tr><tr><td>&quot;2024-01-21_10-…</td><td>-0.002216</td><td>177.346619</td><td>99.997391</td><td>0.002002</td><td>167.040167</td><td>0.931073</td><td>0.311386</td><td>0.044515</td><td>0.334438</td><td>0</td></tr><tr><td>&quot;2024-01-21_10-…</td><td>-0.003849</td><td>228.493225</td><td>99.997391</td><td>0.002003</td><td>167.008758</td><td>0.931062</td><td>0.311432</td><td>0.044528</td><td>0.334491</td><td>0</td></tr><tr><td>&quot;2024-01-21_10-…</td><td>-0.000175</td><td>225.299423</td><td>97.110931</td><td>0.002002</td><td>166.921898</td><td>0.930848</td><td>0.3111</td><td>0.044625</td><td>0.334212</td><td>0</td></tr><tr><td>&quot;2024-01-21_10-…</td><td>-0.001341</td><td>172.431656</td><td>98.793282</td><td>0.002003</td><td>166.851038</td><td>0.93065</td><td>0.31105</td><td>0.04475</td><td>0.334229</td><td>0</td></tr><tr><td>&quot;2024-01-21_10-…</td><td>-0.004024</td><td>62.932465</td><td>99.215401</td><td>0.002004</td><td>166.862235</td><td>0.930538</td><td>0.311112</td><td>0.044834</td><td>0.334335</td><td>0</td></tr><tr><td>&quot;2024-01-21_10-…</td><td>-0.001516</td><td>-48.9034</td><td>93.533295</td><td>0.002003</td><td>166.942314</td><td>0.930424</td><td>0.311057</td><td>0.044903</td><td>0.334318</td><td>0</td></tr><tr><td>&quot;2024-01-21_10-…</td><td>-0.0014</td><td>-162.029541</td><td>91.333237</td><td>0.002003</td><td>167.022102</td><td>0.930455</td><td>0.311284</td><td>0.044915</td><td>0.33455</td><td>0</td></tr><tr><td>&quot;2024-01-21_10-…</td><td>0.003091</td><td>-227.474197</td><td>91.333237</td><td>0.002003</td><td>167.032697</td><td>0.930499</td><td>0.311388</td><td>0.0449</td><td>0.334646</td><td>0</td></tr></tbody></table></div>"
      ],
      "text/plain": [
       "shape: (16_200, 11)\n",
       "┌───────────────┬───────────┬─────────────┬───────────┬───┬──────────┬──────────┬──────────┬───────┐\n",
       "│ Time          ┆ In        ┆ Un          ┆ PF_n      ┆ … ┆ P        ┆ Q        ┆ S        ┆ Label │\n",
       "│ ---           ┆ ---       ┆ ---         ┆ ---       ┆   ┆ ---      ┆ ---      ┆ ---      ┆ ---   │\n",
       "│ str           ┆ f64       ┆ f64         ┆ f64       ┆   ┆ f64      ┆ f64      ┆ f64      ┆ i64   │\n",
       "╞═══════════════╪═══════════╪═════════════╪═══════════╪═══╪══════════╪══════════╪══════════╪═══════╡\n",
       "│ 2024-01-21_10 ┆ -0.0007   ┆ -67.138451  ┆ 99.78862  ┆ … ┆ 0.321167 ┆ 0.046335 ┆ 0.345169 ┆ 0     │\n",
       "│ -39-03        ┆           ┆             ┆           ┆   ┆          ┆          ┆          ┆       │\n",
       "│ 2024-01-21_10 ┆ 0.004374  ┆ 45.454262   ┆ 99.995255 ┆ … ┆ 0.321289 ┆ 0.046441 ┆ 0.345347 ┆ 0     │\n",
       "│ -39-03        ┆           ┆             ┆           ┆   ┆          ┆          ┆          ┆       │\n",
       "│ 2024-01-21_10 ┆ 0.001983  ┆ 158.539368  ┆ 99.995255 ┆ … ┆ 0.321024 ┆ 0.046403 ┆ 0.345063 ┆ 0     │\n",
       "│ -39-03        ┆           ┆             ┆           ┆   ┆          ┆          ┆          ┆       │\n",
       "│ 2024-01-21_10 ┆ -0.001925 ┆ 224.88678   ┆ 71.878189 ┆ … ┆ 0.320923 ┆ 0.046389 ┆ 0.344955 ┆ 0     │\n",
       "│ -39-03        ┆           ┆             ┆           ┆   ┆          ┆          ┆          ┆       │\n",
       "│ 2024-01-21_10 ┆ -0.001108 ┆ 225.994705  ┆ 99.995255 ┆ … ┆ 0.320851 ┆ 0.04627  ┆ 0.34482  ┆ 0     │\n",
       "│ -39-03        ┆           ┆             ┆           ┆   ┆          ┆          ┆          ┆       │\n",
       "│ …             ┆ …         ┆ …           ┆ …         ┆ … ┆ …        ┆ …        ┆ …        ┆ …     │\n",
       "│ 2024-01-21_10 ┆ -0.001341 ┆ 172.431656  ┆ 98.793282 ┆ … ┆ 0.31105  ┆ 0.04475  ┆ 0.334229 ┆ 0     │\n",
       "│ -39-28        ┆           ┆             ┆           ┆   ┆          ┆          ┆          ┆       │\n",
       "│ 2024-01-21_10 ┆ -0.004024 ┆ 62.932465   ┆ 99.215401 ┆ … ┆ 0.311112 ┆ 0.044834 ┆ 0.334335 ┆ 0     │\n",
       "│ -39-28        ┆           ┆             ┆           ┆   ┆          ┆          ┆          ┆       │\n",
       "│ 2024-01-21_10 ┆ -0.001516 ┆ -48.9034    ┆ 93.533295 ┆ … ┆ 0.311057 ┆ 0.044903 ┆ 0.334318 ┆ 0     │\n",
       "│ -39-28        ┆           ┆             ┆           ┆   ┆          ┆          ┆          ┆       │\n",
       "│ 2024-01-21_10 ┆ -0.0014   ┆ -162.029541 ┆ 91.333237 ┆ … ┆ 0.311284 ┆ 0.044915 ┆ 0.33455  ┆ 0     │\n",
       "│ -39-28        ┆           ┆             ┆           ┆   ┆          ┆          ┆          ┆       │\n",
       "│ 2024-01-21_10 ┆ 0.003091  ┆ -227.474197 ┆ 91.333237 ┆ … ┆ 0.311388 ┆ 0.0449   ┆ 0.334646 ┆ 0     │\n",
       "│ -39-28        ┆           ┆             ┆           ┆   ┆          ┆          ┆          ┆       │\n",
       "└───────────────┴───────────┴─────────────┴───────────┴───┴──────────┴──────────┴──────────┴───────┘"
      ]
     },
     "execution_count": 2,
     "metadata": {},
     "output_type": "execute_result"
    }
   ],
   "source": [
    "dfs, _ = get_RMS_data(0, \"val\", normalized=False)\n",
    "dfs[2]"
   ]
  },
  {
   "cell_type": "code",
   "execution_count": 26,
   "metadata": {},
   "outputs": [
    {
     "data": {
      "application/vnd.jupyter.widget-view+json": {
       "model_id": "bcb78bcbba35495d9e7dd752b04161e7",
       "version_major": 2,
       "version_minor": 0
      },
      "text/plain": [
       "  0%|          | 0/128 [00:00<?, ?it/s]"
      ]
     },
     "metadata": {},
     "output_type": "display_data"
    },
    {
     "data": {
      "text/html": [
       "<div>\n",
       "<style scoped>\n",
       "    .dataframe tbody tr th:only-of-type {\n",
       "        vertical-align: middle;\n",
       "    }\n",
       "\n",
       "    .dataframe tbody tr th {\n",
       "        vertical-align: top;\n",
       "    }\n",
       "\n",
       "    .dataframe thead th {\n",
       "        text-align: right;\n",
       "    }\n",
       "</style>\n",
       "<table border=\"1\" class=\"dataframe\">\n",
       "  <thead>\n",
       "    <tr style=\"text-align: right;\">\n",
       "      <th></th>\n",
       "      <th>In</th>\n",
       "      <th>Un</th>\n",
       "      <th>PF_n</th>\n",
       "      <th>Irms</th>\n",
       "      <th>Urms</th>\n",
       "      <th>MeanPF</th>\n",
       "      <th>P</th>\n",
       "      <th>Q</th>\n",
       "      <th>S</th>\n",
       "      <th>Label</th>\n",
       "    </tr>\n",
       "  </thead>\n",
       "  <tbody>\n",
       "    <tr>\n",
       "      <th>0</th>\n",
       "      <td>-0.001866</td>\n",
       "      <td>-108.872292</td>\n",
       "      <td>93.172928</td>\n",
       "      <td>0.002138</td>\n",
       "      <td>165.755370</td>\n",
       "      <td>0.915712</td>\n",
       "      <td>0.324536</td>\n",
       "      <td>0.057227</td>\n",
       "      <td>0.354409</td>\n",
       "      <td>0</td>\n",
       "    </tr>\n",
       "    <tr>\n",
       "      <th>1</th>\n",
       "      <td>0.000992</td>\n",
       "      <td>3.114024</td>\n",
       "      <td>97.170601</td>\n",
       "      <td>0.002138</td>\n",
       "      <td>165.740177</td>\n",
       "      <td>0.915747</td>\n",
       "      <td>0.324460</td>\n",
       "      <td>0.057189</td>\n",
       "      <td>0.354312</td>\n",
       "      <td>0</td>\n",
       "    </tr>\n",
       "    <tr>\n",
       "      <th>2</th>\n",
       "      <td>-0.002216</td>\n",
       "      <td>101.725540</td>\n",
       "      <td>96.003029</td>\n",
       "      <td>0.002138</td>\n",
       "      <td>165.744004</td>\n",
       "      <td>0.915757</td>\n",
       "      <td>0.324453</td>\n",
       "      <td>0.057180</td>\n",
       "      <td>0.354300</td>\n",
       "      <td>0</td>\n",
       "    </tr>\n",
       "    <tr>\n",
       "      <th>3</th>\n",
       "      <td>-0.002741</td>\n",
       "      <td>200.389496</td>\n",
       "      <td>96.003029</td>\n",
       "      <td>0.002137</td>\n",
       "      <td>165.765678</td>\n",
       "      <td>0.915777</td>\n",
       "      <td>0.324412</td>\n",
       "      <td>0.057159</td>\n",
       "      <td>0.354248</td>\n",
       "      <td>0</td>\n",
       "    </tr>\n",
       "    <tr>\n",
       "      <th>4</th>\n",
       "      <td>-0.002158</td>\n",
       "      <td>226.259155</td>\n",
       "      <td>96.003029</td>\n",
       "      <td>0.002137</td>\n",
       "      <td>165.780859</td>\n",
       "      <td>0.915799</td>\n",
       "      <td>0.324388</td>\n",
       "      <td>0.057139</td>\n",
       "      <td>0.354213</td>\n",
       "      <td>0</td>\n",
       "    </tr>\n",
       "  </tbody>\n",
       "</table>\n",
       "</div>"
      ],
      "text/plain": [
       "         In          Un       PF_n      Irms        Urms    MeanPF         P  \\\n",
       "0 -0.001866 -108.872292  93.172928  0.002138  165.755370  0.915712  0.324536   \n",
       "1  0.000992    3.114024  97.170601  0.002138  165.740177  0.915747  0.324460   \n",
       "2 -0.002216  101.725540  96.003029  0.002138  165.744004  0.915757  0.324453   \n",
       "3 -0.002741  200.389496  96.003029  0.002137  165.765678  0.915777  0.324412   \n",
       "4 -0.002158  226.259155  96.003029  0.002137  165.780859  0.915799  0.324388   \n",
       "\n",
       "          Q         S  Label  \n",
       "0  0.057227  0.354409      0  \n",
       "1  0.057189  0.354312      0  \n",
       "2  0.057180  0.354300      0  \n",
       "3  0.057159  0.354248      0  \n",
       "4  0.057139  0.354213      0  "
      ]
     },
     "execution_count": 26,
     "metadata": {},
     "output_type": "execute_result"
    }
   ],
   "source": [
    "scaler = StandardScaler()\n",
    "all_train_data = None\n",
    "for row in tqdm(range(128)):\n",
    "    dfs, _ = get_RMS_data(row, \"train\", normalized=False)\n",
    "    for df in dfs:\n",
    "        if df is None:\n",
    "            continue\n",
    "        df = df.drop(\"Time\")\n",
    "        df = df.to_pandas()\n",
    "        if all_train_data is None:\n",
    "            all_train_data = df\n",
    "        else:\n",
    "            all_train_data = pd.concat([all_train_data, df], axis=0)\n",
    "all_train_data.head()"
   ]
  },
  {
   "cell_type": "code",
   "execution_count": 29,
   "metadata": {},
   "outputs": [
    {
     "name": "stdout",
     "output_type": "stream",
     "text": [
      "(63306799, 10)\n"
     ]
    }
   ],
   "source": [
    "print(all_train_data.shape)"
   ]
  },
  {
   "cell_type": "code",
   "execution_count": 30,
   "metadata": {},
   "outputs": [
    {
     "data": {
      "text/html": [
       "<style>#sk-container-id-1 {color: black;}#sk-container-id-1 pre{padding: 0;}#sk-container-id-1 div.sk-toggleable {background-color: white;}#sk-container-id-1 label.sk-toggleable__label {cursor: pointer;display: block;width: 100%;margin-bottom: 0;padding: 0.3em;box-sizing: border-box;text-align: center;}#sk-container-id-1 label.sk-toggleable__label-arrow:before {content: \"▸\";float: left;margin-right: 0.25em;color: #696969;}#sk-container-id-1 label.sk-toggleable__label-arrow:hover:before {color: black;}#sk-container-id-1 div.sk-estimator:hover label.sk-toggleable__label-arrow:before {color: black;}#sk-container-id-1 div.sk-toggleable__content {max-height: 0;max-width: 0;overflow: hidden;text-align: left;background-color: #f0f8ff;}#sk-container-id-1 div.sk-toggleable__content pre {margin: 0.2em;color: black;border-radius: 0.25em;background-color: #f0f8ff;}#sk-container-id-1 input.sk-toggleable__control:checked~div.sk-toggleable__content {max-height: 200px;max-width: 100%;overflow: auto;}#sk-container-id-1 input.sk-toggleable__control:checked~label.sk-toggleable__label-arrow:before {content: \"▾\";}#sk-container-id-1 div.sk-estimator input.sk-toggleable__control:checked~label.sk-toggleable__label {background-color: #d4ebff;}#sk-container-id-1 div.sk-label input.sk-toggleable__control:checked~label.sk-toggleable__label {background-color: #d4ebff;}#sk-container-id-1 input.sk-hidden--visually {border: 0;clip: rect(1px 1px 1px 1px);clip: rect(1px, 1px, 1px, 1px);height: 1px;margin: -1px;overflow: hidden;padding: 0;position: absolute;width: 1px;}#sk-container-id-1 div.sk-estimator {font-family: monospace;background-color: #f0f8ff;border: 1px dotted black;border-radius: 0.25em;box-sizing: border-box;margin-bottom: 0.5em;}#sk-container-id-1 div.sk-estimator:hover {background-color: #d4ebff;}#sk-container-id-1 div.sk-parallel-item::after {content: \"\";width: 100%;border-bottom: 1px solid gray;flex-grow: 1;}#sk-container-id-1 div.sk-label:hover label.sk-toggleable__label {background-color: #d4ebff;}#sk-container-id-1 div.sk-serial::before {content: \"\";position: absolute;border-left: 1px solid gray;box-sizing: border-box;top: 0;bottom: 0;left: 50%;z-index: 0;}#sk-container-id-1 div.sk-serial {display: flex;flex-direction: column;align-items: center;background-color: white;padding-right: 0.2em;padding-left: 0.2em;position: relative;}#sk-container-id-1 div.sk-item {position: relative;z-index: 1;}#sk-container-id-1 div.sk-parallel {display: flex;align-items: stretch;justify-content: center;background-color: white;position: relative;}#sk-container-id-1 div.sk-item::before, #sk-container-id-1 div.sk-parallel-item::before {content: \"\";position: absolute;border-left: 1px solid gray;box-sizing: border-box;top: 0;bottom: 0;left: 50%;z-index: -1;}#sk-container-id-1 div.sk-parallel-item {display: flex;flex-direction: column;z-index: 1;position: relative;background-color: white;}#sk-container-id-1 div.sk-parallel-item:first-child::after {align-self: flex-end;width: 50%;}#sk-container-id-1 div.sk-parallel-item:last-child::after {align-self: flex-start;width: 50%;}#sk-container-id-1 div.sk-parallel-item:only-child::after {width: 0;}#sk-container-id-1 div.sk-dashed-wrapped {border: 1px dashed gray;margin: 0 0.4em 0.5em 0.4em;box-sizing: border-box;padding-bottom: 0.4em;background-color: white;}#sk-container-id-1 div.sk-label label {font-family: monospace;font-weight: bold;display: inline-block;line-height: 1.2em;}#sk-container-id-1 div.sk-label-container {text-align: center;}#sk-container-id-1 div.sk-container {/* jupyter's `normalize.less` sets `[hidden] { display: none; }` but bootstrap.min.css set `[hidden] { display: none !important; }` so we also need the `!important` here to be able to override the default hidden behavior on the sphinx rendered scikit-learn.org. See: https://github.com/scikit-learn/scikit-learn/issues/21755 */display: inline-block !important;position: relative;}#sk-container-id-1 div.sk-text-repr-fallback {display: none;}</style><div id=\"sk-container-id-1\" class=\"sk-top-container\"><div class=\"sk-text-repr-fallback\"><pre>StandardScaler()</pre><b>In a Jupyter environment, please rerun this cell to show the HTML representation or trust the notebook. <br />On GitHub, the HTML representation is unable to render, please try loading this page with nbviewer.org.</b></div><div class=\"sk-container\" hidden><div class=\"sk-item\"><div class=\"sk-estimator sk-toggleable\"><input class=\"sk-toggleable__control sk-hidden--visually\" id=\"sk-estimator-id-1\" type=\"checkbox\" checked><label for=\"sk-estimator-id-1\" class=\"sk-toggleable__label sk-toggleable__label-arrow\">StandardScaler</label><div class=\"sk-toggleable__content\"><pre>StandardScaler()</pre></div></div></div></div></div>"
      ],
      "text/plain": [
       "StandardScaler()"
      ]
     },
     "execution_count": 30,
     "metadata": {},
     "output_type": "execute_result"
    }
   ],
   "source": [
    "all_train_data = all_train_data[[\"In\", \"Un\", \"PF_n\", \"Irms\", \"Urms\", \"MeanPF\", \"P\", \"Q\", \"S\"]]\n",
    "scaler.fit(all_train_data)"
   ]
  },
  {
   "cell_type": "code",
   "execution_count": 32,
   "metadata": {},
   "outputs": [
    {
     "data": {
      "text/plain": [
       "['/home/mrcong/Code/mylab-nilm-files/nilm-physical-features/results/scaler/standard_scaler.joblib']"
      ]
     },
     "execution_count": 32,
     "metadata": {},
     "output_type": "execute_result"
    }
   ],
   "source": [
    "from joblib import dump\n",
    "dump(scaler, \"/home/mrcong/Code/mylab-nilm-files/nilm-physical-features/results/scaler/standard_scaler.joblib\")"
   ]
  }
 ],
 "metadata": {
  "kernelspec": {
   "display_name": "mylab-nilm-env",
   "language": "python",
   "name": "python3"
  },
  "language_info": {
   "codemirror_mode": {
    "name": "ipython",
    "version": 3
   },
   "file_extension": ".py",
   "mimetype": "text/x-python",
   "name": "python",
   "nbconvert_exporter": "python",
   "pygments_lexer": "ipython3",
   "version": "3.12.1"
  }
 },
 "nbformat": 4,
 "nbformat_minor": 2
}
